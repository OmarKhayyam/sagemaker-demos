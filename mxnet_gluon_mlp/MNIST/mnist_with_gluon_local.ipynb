{
 "cells": [
  {
   "cell_type": "markdown",
   "metadata": {},
   "source": [
    "## MNIST Training with MXNet and Gluon - Local\n",
    "\n",
    "MNIST is a widely used dataset for handwritten digit classification. It consists of 70,000 labeled 28x28 pixel grayscale images of hand-written digits. The dataset is split into 60,000 training images and 10,000 test images. There are 10 classes (one for each of the 10 digits). This tutorial will show how to train and test an MNIST model on SageMaker using MXNet and the Gluon API.\n",
    "\n"
   ]
  },
  {
   "cell_type": "code",
   "execution_count": null,
   "metadata": {},
   "outputs": [],
   "source": [
    "import mnist\n",
    "import mxnet as mx\n",
    "from mxnet import gluon,autograd\n",
    "import time"
   ]
  },
  {
   "cell_type": "markdown",
   "metadata": {},
   "source": [
    "## Set the hyperparameters"
   ]
  },
  {
   "cell_type": "code",
   "execution_count": null,
   "metadata": {
    "collapsed": true
   },
   "outputs": [],
   "source": [
    "batch_size =100\n",
    "epochs = 3\n",
    "learning_rate = 0.01\n",
    "momentum = 0.9\n",
    "log_interval = 100"
   ]
  },
  {
   "cell_type": "markdown",
   "metadata": {},
   "source": [
    "## Download training and test data"
   ]
  },
  {
   "cell_type": "code",
   "execution_count": null,
   "metadata": {},
   "outputs": [],
   "source": [
    "train_data = mnist.get_train_data('./data/train', batch_size)\n",
    "val_data = mnist.get_val_data('./data/test', batch_size)"
   ]
  },
  {
   "cell_type": "markdown",
   "metadata": {},
   "source": [
    "## Set the network"
   ]
  },
  {
   "cell_type": "code",
   "execution_count": null,
   "metadata": {
    "collapsed": true
   },
   "outputs": [],
   "source": [
    "ctx = mx.gpu()\n",
    "# define the network\n",
    "net = mnist.define_network()\n",
    "\n",
    "# Collect all parameters from net and its children, then initialize them.\n",
    "net.initialize(mx.init.Xavier(magnitude=2.24), ctx=ctx)\n",
    "# Trainer is for updating parameters with gradient.\n",
    "\n",
    "trainer = gluon.Trainer(net.collect_params(), 'sgd',{'learning_rate': learning_rate, 'momentum': momentum})\n",
    "metric = mx.metric.Accuracy()\n",
    "loss = gluon.loss.SoftmaxCrossEntropyLoss()"
   ]
  },
  {
   "cell_type": "code",
   "execution_count": null,
   "metadata": {},
   "outputs": [],
   "source": [
    "# Train the model\n",
    "for epoch in range(epochs):\n",
    "    # reset data iterator and metric at begining of epoch.\n",
    "    metric.reset()\n",
    "    btic = time.time()\n",
    "    for i, (data, label) in enumerate(train_data):\n",
    "        # Copy data to ctx if necessary\n",
    "        data = data.as_in_context(ctx)\n",
    "        label = label.as_in_context(ctx)\n",
    "        # Start recording computation graph with record() section.\n",
    "        # Recorded graphs can then be differentiated with backward.\n",
    "        with autograd.record():\n",
    "            output = net(data)\n",
    "            L = loss(output, label)\n",
    "            L.backward()\n",
    "        # take a gradient step with batch_size equal to data.shape[0]\n",
    "        trainer.step(data.shape[0])\n",
    "        # update metric at last.\n",
    "        metric.update([label], [output])\n",
    "\n",
    "        if i % log_interval == 0 and i > 0:\n",
    "            name, acc = metric.get()\n",
    "            print('[Epoch %d Batch %d] Training: %s=%f, %f samples/s' %\n",
    "                  (epoch, i, name, acc, batch_size / (time.time() - btic)))\n",
    "\n",
    "        btic = time.time()\n",
    "\n",
    "    name, acc = metric.get()\n",
    "    print('[Epoch %d] Training: %s=%f' % (epoch, name, acc))\n",
    "\n",
    "    name, val_acc = mnist.test(ctx, net, val_data)\n",
    "    print('[Epoch %d] Validation: %s=%f' % (epoch, name, val_acc))"
   ]
  }
 ],
 "metadata": {
  "kernelspec": {
   "display_name": "conda_mxnet_p27",
   "language": "python",
   "name": "conda_mxnet_p27"
  },
  "language_info": {
   "codemirror_mode": {
    "name": "ipython",
    "version": 2
   },
   "file_extension": ".py",
   "mimetype": "text/x-python",
   "name": "python",
   "nbconvert_exporter": "python",
   "pygments_lexer": "ipython2",
   "version": "2.7.11"
  }
 },
 "nbformat": 4,
 "nbformat_minor": 2
}
