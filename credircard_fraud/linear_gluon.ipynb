{
 "cells": [
  {
   "cell_type": "code",
   "execution_count": 1,
   "metadata": {},
   "outputs": [
    {
     "name": "stderr",
     "output_type": "stream",
     "text": [
      "/home/ec2-user/anaconda3/envs/mxnet_p36/lib/python3.6/site-packages/urllib3/contrib/pyopenssl.py:46: DeprecationWarning: OpenSSL.rand is deprecated - you should use os.urandom instead\n",
      "  import OpenSSL.SSL\n"
     ]
    }
   ],
   "source": [
    "#imports\n",
    "\n",
    "import numpy as np\n",
    "import mxnet as mx\n",
    "from mxnet import nd, gluon, autograd\n",
    "import pandas as pd\n",
    "\n",
    "from sagemaker.mxnet import MXNet\n",
    "import sagemaker\n",
    "from sagemaker import get_execution_role"
   ]
  },
  {
   "cell_type": "code",
   "execution_count": null,
   "metadata": {
    "collapsed": true
   },
   "outputs": [],
   "source": []
  },
  {
   "cell_type": "code",
   "execution_count": null,
   "metadata": {
    "collapsed": true
   },
   "outputs": [],
   "source": []
  },
  {
   "cell_type": "code",
   "execution_count": 2,
   "metadata": {},
   "outputs": [
    {
     "data": {
      "text/plain": [
       "'arn:aws:iam::475933981307:role/service-role/AmazonSageMaker-ExecutionRole-20180102T172706'"
      ]
     },
     "execution_count": 2,
     "metadata": {},
     "output_type": "execute_result"
    }
   ],
   "source": [
    "sagemaker_session = sagemaker.Session()\n",
    "role = get_execution_role()\n",
    "role\n"
   ]
  },
  {
   "cell_type": "code",
   "execution_count": 3,
   "metadata": {},
   "outputs": [
    {
     "data": {
      "text/plain": [
       "'s3://cyrusmv-sagemaker-demos/visa-kaggle/data'"
      ]
     },
     "execution_count": 3,
     "metadata": {},
     "output_type": "execute_result"
    }
   ],
   "source": [
    "inputs = sagemaker_session.upload_data(path='data/processed/', bucket='cyrusmv-sagemaker-demos', key_prefix='visa-kaggle/data')\n",
    "inputs"
   ]
  },
  {
   "cell_type": "code",
   "execution_count": 4,
   "metadata": {
    "collapsed": true
   },
   "outputs": [],
   "source": [
    "data_files = {u'train_data': u'data/train_data.npy', \n",
    "             u'train_label': u'data/train_label.npy',\n",
    "             u'val_data': u'data/val_data.npy',\n",
    "             u'val_label': u'data/val_label.npy'\n",
    "            }\n",
    "\n",
    "hyper_parameters = {'batch_size': 100,\n",
    "                   'learning_rate': 0.01,\n",
    "                   'num_epochs': 1,\n",
    "                   'optimizer': 'sgd',\n",
    "                   'momentum': 0.9,\n",
    "                   'num_dims': 30}\n",
    "\n",
    "\n",
    "train_ctx = mx.cpu()\n",
    "num_examples = 10000\n",
    "num_input = 30\n",
    "num_outputs = 2\n"
   ]
  },
  {
   "cell_type": "code",
   "execution_count": 5,
   "metadata": {},
   "outputs": [
    {
     "data": {
      "text/plain": [
       "dict"
      ]
     },
     "execution_count": 5,
     "metadata": {},
     "output_type": "execute_result"
    }
   ],
   "source": [
    "type(data_files)"
   ]
  },
  {
   "cell_type": "code",
   "execution_count": 6,
   "metadata": {},
   "outputs": [
    {
     "name": "stdout",
     "output_type": "stream",
     "text": [
      "                           PRE test/\r\n",
      "                           PRE train/\r\n",
      "2018-01-04 12:19:10          0 \r\n"
     ]
    }
   ],
   "source": [
    "!aws s3 ls cyrusmv-sagemaker-demos/visa-kaggle/data/\n"
   ]
  },
  {
   "cell_type": "code",
   "execution_count": 7,
   "metadata": {
    "collapsed": true
   },
   "outputs": [],
   "source": [
    "#!cat linear_model_gluon.py"
   ]
  },
  {
   "cell_type": "code",
   "execution_count": 13,
   "metadata": {},
   "outputs": [],
   "source": [
    "m = MXNet('linear_model_gluon.py', \n",
    "          role=role,\n",
    "          train_instance_count=1,\n",
    "          train_instance_type=\"ml.c4.xlarge\",\n",
    "          output_path=\"s3://cyrusmv-sagemaker-demos/visa-kaggle/output/model\",\n",
    "          hyperparameters=hyper_parameters)"
   ]
  },
  {
   "cell_type": "code",
   "execution_count": 14,
   "metadata": {},
   "outputs": [
    {
     "data": {
      "text/plain": [
       "['aws']"
      ]
     },
     "execution_count": 14,
     "metadata": {},
     "output_type": "execute_result"
    }
   ],
   "source": [
    "import os\n",
    "os.listdir('/opt')\n"
   ]
  },
  {
   "cell_type": "code",
   "execution_count": 15,
   "metadata": {},
   "outputs": [
    {
     "name": "stderr",
     "output_type": "stream",
     "text": [
      "INFO:sagemaker:Creating training-job with name: sagemaker-mxnet-py2-cpu-2018-01-05-15-02-46-667\n"
     ]
    },
    {
     "name": "stdout",
     "output_type": "stream",
     "text": [
      "................................................................\n",
      "\u001b[31mexecuting startup script (first run)\u001b[0m\n",
      "\u001b[31m2018-01-05 15:07:59,449 INFO - root - running container entrypoint\u001b[0m\n",
      "\u001b[31m2018-01-05 15:07:59,449 INFO - root - starting train task\u001b[0m\n",
      "\u001b[31m2018-01-05 15:08:00,857 INFO - mxnet_container.train - MXNetTrainingEnvironment: {'enable_cloudwatch_metrics': False, 'available_gpus': 0, 'channels': {u'training': {u'TrainingInputMode': u'File', u'RecordWrapperType': u'None', u'S3DistributionType': u'FullyReplicated'}}, '_ps_verbose': 0, 'resource_config': {u'current_host': u'algo-1', u'hosts': [u'algo-1']}, 'user_script_name': u'linear_model_gluon.py', 'input_config_dir': '/opt/ml/input/config', 'channel_dirs': {u'training': u'/opt/ml/input/data/training'}, 'code_dir': '/opt/ml/code', 'output_data_dir': '/opt/ml/output/data/', 'output_dir': '/opt/ml/output', 'model_dir': '/opt/ml/model', 'hyperparameters': {u'sagemaker_program': u'linear_model_gluon.py', u'optimizer': u'sgd', u'num_dims': 30, u'sagemaker_region': u'eu-west-1', u'batch_size': 100, u'sagemaker_container_log_level': 20, u'sagemaker_submit_directory': u's3://sagemaker-eu-west-1-475933981307/sagemaker-mxnet-py2-cpu-2018-01-05-15-02-46-667/source/sourcedir.tar.gz', u'num_epochs': 1, u'sagemaker_enable_cloudwatch_metrics': False, u'sagemaker_job_name': u'sagemaker-mxnet-py2-cpu-2018-01-05-15-02-46-667', u'learning_rate': 0.01, u'momentum': 0.9}, 'hosts': [u'algo-1'], '_ps_port': 8000, 'user_script_archive': u's3://sagemaker-eu-west-1-475933981307/sagemaker-mxnet-py2-cpu-2018-01-05-15-02-46-667/source/sourcedir.tar.gz', 'sagemaker_region': u'eu-west-1', 'input_dir': '/opt/ml/input', 'current_host': u'algo-1', 'container_log_level': 20, 'available_cpus': 4, 'base_dir': '/opt/ml'}\u001b[0m\n",
      "\u001b[31mDownloading s3://sagemaker-eu-west-1-475933981307/sagemaker-mxnet-py2-cpu-2018-01-05-15-02-46-667/source/sourcedir.tar.gz to /tmp/script.tar.gz\u001b[0m\n",
      "\u001b[31m2018-01-05 15:08:00,999 INFO - botocore.vendored.requests.packages.urllib3.connectionpool - Starting new HTTP connection (1): 169.254.170.2\u001b[0m\n",
      "\u001b[31m2018-01-05 15:08:01,116 INFO - botocore.vendored.requests.packages.urllib3.connectionpool - Starting new HTTPS connection (1): s3.amazonaws.com\u001b[0m\n",
      "\u001b[31m2018-01-05 15:08:01,499 INFO - botocore.vendored.requests.packages.urllib3.connectionpool - Starting new HTTPS connection (1): s3.eu-west-1.amazonaws.com\n",
      "\n",
      "\n",
      "\n",
      "\u001b[0m\n",
      "\u001b[31m**********************************************************************\u001b[0m\n",
      "\u001b[31m{u'training': u'/opt/ml/input/data/training'}\u001b[0m\n",
      "\u001b[31m[u'train', u'test']\u001b[0m\n",
      "\u001b[31m**********************************************************************\n",
      "\n",
      "\n",
      "\n",
      "\u001b[0m\n",
      "\u001b[31m(170884, 30) (170884, 30) (113923, 30) (113923, 30)\u001b[0m\n",
      "\u001b[31msequential0_ (\n",
      "  Parameter sequential0_dense0_weight (shape=(64, 0), dtype=<type 'numpy.float32'>)\n",
      "  Parameter sequential0_dense0_bias (shape=(64,), dtype=<type 'numpy.float32'>)\n",
      "  Parameter sequential0_dense1_weight (shape=(2, 0), dtype=<type 'numpy.float32'>)\n",
      "  Parameter sequential0_dense1_bias (shape=(2,), dtype=<type 'numpy.float32'>)\u001b[0m\n",
      "\u001b[31m)\u001b[0m\n"
     ]
    },
    {
     "name": "stderr",
     "output_type": "stream",
     "text": [
      "/home/ec2-user/anaconda3/envs/mxnet_p36/lib/python3.6/site-packages/sagemaker/session.py:630: DeprecationWarning: generator 'multi_stream_iter' raised StopIteration\n",
      "  for idx, event in sagemaker.logs.multi_stream_iter(client, log_group, stream_names, positions):\n"
     ]
    },
    {
     "name": "stdout",
     "output_type": "stream",
     "text": [
      "\u001b[31mEpoch 0, Train_acc ('rmse', 0.0018140961119823974), Test_acc ('rmse', 0.0016063481474329151)\n",
      "\n",
      "\n",
      "\n",
      "\u001b[0m\n",
      "\u001b[31m**********************************************************************\u001b[0m\n",
      "\u001b[31msaving the model in /opt/ml/model\u001b[0m\n",
      "\u001b[31m**********************************************************************\n",
      "\n",
      "\n",
      "\n",
      "\u001b[0m\n",
      "===== Job Complete =====\n"
     ]
    }
   ],
   "source": [
    "m.fit(inputs)"
   ]
  },
  {
   "cell_type": "code",
   "execution_count": 16,
   "metadata": {},
   "outputs": [
    {
     "name": "stderr",
     "output_type": "stream",
     "text": [
      "INFO:sagemaker:Creating model with name: sagemaker-mxnet-py2-cpu-2018-01-05-15-02-46-667\n",
      "INFO:sagemaker:Creating endpoint with name sagemaker-mxnet-py2-cpu-2018-01-05-15-02-46-667\n"
     ]
    },
    {
     "name": "stdout",
     "output_type": "stream",
     "text": [
      "-----------------------------------------------------------------------------------------------------------------------------!"
     ]
    }
   ],
   "source": [
    "predictor = m.deploy(initial_instance_count=1, instance_type='ml.m4.xlarge')"
   ]
  },
  {
   "cell_type": "code",
   "execution_count": 20,
   "metadata": {},
   "outputs": [
    {
     "name": "stdout",
     "output_type": "stream",
     "text": [
      "(170884, 30) (170884,) (113923, 30) (113923,)\n"
     ]
    }
   ],
   "source": [
    "train_data = np.load('data/processed/train/train_data.npy')\n",
    "train_label = np.load('data/processed/train/train_label.npy')\n",
    "\n",
    "test_data = np.load('data/processed/test/val_data.npy')\n",
    "test_label = np.load('data/processed/test/val_label.npy')\n",
    "\n",
    "print(train_data.shape, train_label.shape, test_data.shape, test_label.shape)"
   ]
  },
  {
   "cell_type": "code",
   "execution_count": 21,
   "metadata": {},
   "outputs": [
    {
     "data": {
      "text/plain": [
       "0.0"
      ]
     },
     "execution_count": 21,
     "metadata": {},
     "output_type": "execute_result"
    }
   ],
   "source": [
    "predictor.predict(train_data[0:1])"
   ]
  },
  {
   "cell_type": "code",
   "execution_count": 22,
   "metadata": {},
   "outputs": [
    {
     "name": "stdout",
     "output_type": "stream",
     "text": [
      "[48, 278, 921, 1240, 1295, 1348, 2062, 3238, 3549, 4307, 6305, 6887, 7448, 7558, 7697, 7729, 7752, 9658, 10297, 12178, 13015, 13940, 14306, 15025, 15378, 15843, 15939, 17018, 17454, 17575, 17786, 18699, 19021, 19265, 19306, 19642, 19774, 21181, 21257, 21491, 22530, 24068, 24983, 25715, 25779, 25957, 26155, 27148, 27506, 27832, 28158, 28801, 29014, 29699, 31210, 31237, 31495, 31730, 32247, 32613, 32696, 32787, 33422, 33624, 33651, 34621, 35158, 35159, 35566, 36301, 36634, 37604, 39394, 39840, 40911, 41554, 41799, 41814, 42431, 43028, 43616, 43651, 44184, 44498, 44852, 45296, 45476, 45619, 45887, 46043, 46782, 46938, 46950, 47970, 47977, 48477, 49048, 49207, 49464, 49847, 50313, 50494, 51579, 51689, 52417, 53386, 53440, 53730, 54483, 55461, 55614, 56397, 56452, 56882, 56955, 57901, 57922, 58898, 58902, 58964, 59764, 59847, 61109, 61286, 61833, 62215, 62234, 62595, 63274, 63471, 63768, 64214, 64611, 65408, 66051, 66627, 66720, 66887, 67065, 67573, 67672, 67681, 69141, 69143, 69224, 69519, 70654, 72221, 72643, 73235, 73596, 74355, 75339, 75986, 76216, 77223, 81119, 82465, 83064, 84759, 86448, 86567, 88084, 88311, 88465, 88725, 88754, 88832, 89121, 89313, 89383, 90551, 90655, 91548, 92177, 92810, 93227, 93338, 94192, 95165, 96233, 97613, 97981, 98009, 98058, 98446, 99144, 99794, 100237, 100363, 101916, 102471, 102902, 103700, 103723, 103874, 106682, 107368, 107650, 107742, 109218, 109677, 110713, 111076, 112555, 112897, 113114, 114204, 114231, 114979, 115595, 115832, 115881, 116107, 116119, 117706, 118278, 118863, 118865, 119736, 120017, 121319, 122598, 123500, 124051, 125803, 126235, 126431, 127519, 127778, 128581, 129477, 129917, 130124, 130934, 131756, 131760, 132070, 133645, 134060, 134332, 134522, 134588, 135528, 135584, 135845, 136368, 136419, 136531, 136776, 136952, 137105, 137785, 140040, 141691, 142106, 142221, 142412, 144049, 144297, 144603, 145286, 146142, 147122, 147303, 147561, 147691, 147757, 148240, 148434, 148794, 149237, 149483, 149571, 149986, 150663, 151129, 151388, 152109, 152204, 152392, 154058, 154516, 154757, 156062, 157173, 157447, 158180, 158496, 158868, 158919, 159110, 159144, 159181, 160476, 160763, 161192, 161426, 161504, 161910, 163765, 163826, 164023, 164418, 165125, 165542, 166402, 167123, 168391, 170138]\n"
     ]
    }
   ],
   "source": [
    "#since score==1 is very rare we want to make sure we can correctly predict fradulant transaction. \n",
    "#First we print a lost of all labels where score == 1, then then run a prediction\n",
    "t = []\n",
    "for i in range(len(train_label)):\n",
    "    if train_label[i] == 1:\n",
    "        t.append(i)\n",
    "        \n",
    "print(t)"
   ]
  },
  {
   "cell_type": "code",
   "execution_count": null,
   "metadata": {},
   "outputs": [],
   "source": []
  },
  {
   "cell_type": "code",
   "execution_count": 15,
   "metadata": {
    "collapsed": true
   },
   "outputs": [],
   "source": [
    "hyper_parameters = {'batch_size': 100,\n",
    "                   'learning_rate': 0.01,\n",
    "                   'num_epochs': 1,\n",
    "                   'optimizer': 'sgd',\n",
    "                   'momentum': 0.9,\n",
    "                   'num_dims': 30}\n"
   ]
  },
  {
   "cell_type": "code",
   "execution_count": 16,
   "metadata": {
    "collapsed": true
   },
   "outputs": [],
   "source": [
    "import linear_model_gluon as pyfile"
   ]
  },
  {
   "cell_type": "code",
   "execution_count": 17,
   "metadata": {},
   "outputs": [
    {
     "name": "stdout",
     "output_type": "stream",
     "text": [
      "\n",
      "\n",
      "\n",
      "\n",
      "**********************************************************************\n",
      "{'training': 'data/processed/'}\n",
      "['train', '.ipynb_checkpoints', 'test']\n",
      "**********************************************************************\n",
      "\n",
      "\n",
      "\n",
      "\n",
      "(170884, 30) (170884, 30) (113923, 30) (113923, 30)\n",
      "sequential2_ (\n",
      "  Parameter sequential2_dense0_weight (shape=(64, 0), dtype=<class 'numpy.float32'>)\n",
      "  Parameter sequential2_dense0_bias (shape=(64,), dtype=<class 'numpy.float32'>)\n",
      "  Parameter sequential2_dense1_weight (shape=(2, 0), dtype=<class 'numpy.float32'>)\n",
      "  Parameter sequential2_dense1_bias (shape=(2,), dtype=<class 'numpy.float32'>)\n",
      ")\n",
      "Epoch 0, Train_acc ('rmse', 0.0018140961119823974), Test_acc ('rmse', 0.0015975702887037735)\n"
     ]
    },
    {
     "data": {
      "text/plain": [
       "Sequential(\n",
       "  (0): Dense(64, Activation(relu))\n",
       "  (1): Dense(2, linear)\n",
       ")"
      ]
     },
     "execution_count": 17,
     "metadata": {},
     "output_type": "execute_result"
    }
   ],
   "source": [
    "pyfile.train({'training': 'data/processed/'}, hyperparameters=hyper_parameters, hosts=['local'], num_gpus=0, output_path=\"cyrusmv-sagemaker-demos/visa-kaggle/output/model\")"
   ]
  },
  {
   "cell_type": "code",
   "execution_count": 19,
   "metadata": {},
   "outputs": [
    {
     "name": "stdout",
     "output_type": "stream",
     "text": [
      "(170884, 30) (170884,) (113923, 30) (113923,)\n"
     ]
    }
   ],
   "source": []
  },
  {
   "cell_type": "code",
   "execution_count": null,
   "metadata": {
    "collapsed": true
   },
   "outputs": [],
   "source": []
  },
  {
   "cell_type": "code",
   "execution_count": null,
   "metadata": {
    "collapsed": true
   },
   "outputs": [],
   "source": []
  },
  {
   "cell_type": "code",
   "execution_count": null,
   "metadata": {
    "collapsed": true
   },
   "outputs": [],
   "source": []
  },
  {
   "cell_type": "code",
   "execution_count": null,
   "metadata": {
    "collapsed": true
   },
   "outputs": [],
   "source": []
  }
 ],
 "metadata": {
  "kernelspec": {
   "display_name": "conda_mxnet_p36",
   "language": "python",
   "name": "conda_mxnet_p36"
  },
  "language_info": {
   "codemirror_mode": {
    "name": "ipython",
    "version": 3
   },
   "file_extension": ".py",
   "mimetype": "text/x-python",
   "name": "python",
   "nbconvert_exporter": "python",
   "pygments_lexer": "ipython3",
   "version": "3.6.2"
  }
 },
 "nbformat": 4,
 "nbformat_minor": 2
}
