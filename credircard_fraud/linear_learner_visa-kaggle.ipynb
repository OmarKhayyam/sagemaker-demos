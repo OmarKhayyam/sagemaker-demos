{
 "cells": [
  {
   "cell_type": "markdown",
   "metadata": {},
   "source": [
    "# Acknowledgement\n",
    "Thanks to **Yuval Fernbach** for posting the code here:\n",
    "https://github.com/yuvalfer/mxnet-notebooks/blob/master/linear_learner_mnist_fraud/linear_learner_mnist-CreditCard.ipynb"
   ]
  },
  {
   "cell_type": "markdown",
   "metadata": {},
   "source": [
    "# Part 1: Preprocessing data\n",
    "If you are intersted in learning about preprocessing data, you should start here, otherwise you could simply start from part 2, when we load the data from npy files."
   ]
  },
  {
   "cell_type": "code",
   "execution_count": 53,
   "metadata": {
    "collapsed": true
   },
   "outputs": [],
   "source": [
    "#imports\n",
    "import boto3\n",
    "import pandas as pd\n",
    "import numpy as np\n",
    "import matplotlib.pyplot as plt\n",
    "import seaborn as sns\n",
    "import io\n",
    "import sagemaker.amazon.common as smac\n",
    "import os\n",
    "import sagemaker\n",
    "from sagemaker.predictor import csv_serializer, json_deserializer"
   ]
  },
  {
   "cell_type": "code",
   "execution_count": 31,
   "metadata": {},
   "outputs": [
    {
     "name": "stdout",
     "output_type": "stream",
     "text": [
      "arn:aws:iam::475933981307:role/service-role/AmazonSageMaker-ExecutionRole-20180102T172706\n"
     ]
    }
   ],
   "source": [
    "bucket = 'cyrusmv-sagemaker-demos'     #replace this with your own bucket \n",
    "prefix = 'visa-kaggle/original.csv'    #replace this with your own file inside the bucket\n",
    "protocol=\"s3://\"\n",
    "datafile = 'data/original.csv'\n",
    " \n",
    "# Define IAM role\n",
    "import boto3\n",
    "import re\n",
    "from sagemaker import get_execution_role\n",
    "\n",
    "role = get_execution_role()\n",
    "print(role)"
   ]
  },
  {
   "cell_type": "markdown",
   "metadata": {},
   "source": [
    "### Data ingestion\n",
    "1. Downloding file locally\n",
    "2. Loading file into pandas for inspection\n",
    "3. conversting data to numpy\n",
    "4. shuffling the data\n",
    "5. spliting data into test and training\n",
    "6. breaking up each data set to data and label"
   ]
  },
  {
   "cell_type": "code",
   "execution_count": 32,
   "metadata": {},
   "outputs": [],
   "source": [
    "#Downloading the file to a local folder\n",
    "client = boto3.client('s3')\n",
    "with open(datafile, 'wb') as f:\n",
    "    client.download_fileobj(bucket, prefix, f)"
   ]
  },
  {
   "cell_type": "code",
   "execution_count": 33,
   "metadata": {},
   "outputs": [
    {
     "data": {
      "text/html": [
       "<div>\n",
       "<style>\n",
       "    .dataframe thead tr:only-child th {\n",
       "        text-align: right;\n",
       "    }\n",
       "\n",
       "    .dataframe thead th {\n",
       "        text-align: left;\n",
       "    }\n",
       "\n",
       "    .dataframe tbody tr th {\n",
       "        vertical-align: top;\n",
       "    }\n",
       "</style>\n",
       "<table border=\"1\" class=\"dataframe\">\n",
       "  <thead>\n",
       "    <tr style=\"text-align: right;\">\n",
       "      <th></th>\n",
       "      <th>Time</th>\n",
       "      <th>V1</th>\n",
       "      <th>V2</th>\n",
       "      <th>V3</th>\n",
       "      <th>V4</th>\n",
       "      <th>V5</th>\n",
       "      <th>V6</th>\n",
       "      <th>V7</th>\n",
       "      <th>V8</th>\n",
       "      <th>V9</th>\n",
       "      <th>...</th>\n",
       "      <th>V21</th>\n",
       "      <th>V22</th>\n",
       "      <th>V23</th>\n",
       "      <th>V24</th>\n",
       "      <th>V25</th>\n",
       "      <th>V26</th>\n",
       "      <th>V27</th>\n",
       "      <th>V28</th>\n",
       "      <th>Amount</th>\n",
       "      <th>Class</th>\n",
       "    </tr>\n",
       "  </thead>\n",
       "  <tbody>\n",
       "    <tr>\n",
       "      <th>0</th>\n",
       "      <td>0.0</td>\n",
       "      <td>-1.359807</td>\n",
       "      <td>-0.072781</td>\n",
       "      <td>2.536347</td>\n",
       "      <td>1.378155</td>\n",
       "      <td>-0.338321</td>\n",
       "      <td>0.462388</td>\n",
       "      <td>0.239599</td>\n",
       "      <td>0.098698</td>\n",
       "      <td>0.363787</td>\n",
       "      <td>...</td>\n",
       "      <td>-0.018307</td>\n",
       "      <td>0.277838</td>\n",
       "      <td>-0.110474</td>\n",
       "      <td>0.066928</td>\n",
       "      <td>0.128539</td>\n",
       "      <td>-0.189115</td>\n",
       "      <td>0.133558</td>\n",
       "      <td>-0.021053</td>\n",
       "      <td>149.62</td>\n",
       "      <td>0</td>\n",
       "    </tr>\n",
       "    <tr>\n",
       "      <th>1</th>\n",
       "      <td>0.0</td>\n",
       "      <td>1.191857</td>\n",
       "      <td>0.266151</td>\n",
       "      <td>0.166480</td>\n",
       "      <td>0.448154</td>\n",
       "      <td>0.060018</td>\n",
       "      <td>-0.082361</td>\n",
       "      <td>-0.078803</td>\n",
       "      <td>0.085102</td>\n",
       "      <td>-0.255425</td>\n",
       "      <td>...</td>\n",
       "      <td>-0.225775</td>\n",
       "      <td>-0.638672</td>\n",
       "      <td>0.101288</td>\n",
       "      <td>-0.339846</td>\n",
       "      <td>0.167170</td>\n",
       "      <td>0.125895</td>\n",
       "      <td>-0.008983</td>\n",
       "      <td>0.014724</td>\n",
       "      <td>2.69</td>\n",
       "      <td>0</td>\n",
       "    </tr>\n",
       "    <tr>\n",
       "      <th>2</th>\n",
       "      <td>1.0</td>\n",
       "      <td>-1.358354</td>\n",
       "      <td>-1.340163</td>\n",
       "      <td>1.773209</td>\n",
       "      <td>0.379780</td>\n",
       "      <td>-0.503198</td>\n",
       "      <td>1.800499</td>\n",
       "      <td>0.791461</td>\n",
       "      <td>0.247676</td>\n",
       "      <td>-1.514654</td>\n",
       "      <td>...</td>\n",
       "      <td>0.247998</td>\n",
       "      <td>0.771679</td>\n",
       "      <td>0.909412</td>\n",
       "      <td>-0.689281</td>\n",
       "      <td>-0.327642</td>\n",
       "      <td>-0.139097</td>\n",
       "      <td>-0.055353</td>\n",
       "      <td>-0.059752</td>\n",
       "      <td>378.66</td>\n",
       "      <td>0</td>\n",
       "    </tr>\n",
       "    <tr>\n",
       "      <th>3</th>\n",
       "      <td>1.0</td>\n",
       "      <td>-0.966272</td>\n",
       "      <td>-0.185226</td>\n",
       "      <td>1.792993</td>\n",
       "      <td>-0.863291</td>\n",
       "      <td>-0.010309</td>\n",
       "      <td>1.247203</td>\n",
       "      <td>0.237609</td>\n",
       "      <td>0.377436</td>\n",
       "      <td>-1.387024</td>\n",
       "      <td>...</td>\n",
       "      <td>-0.108300</td>\n",
       "      <td>0.005274</td>\n",
       "      <td>-0.190321</td>\n",
       "      <td>-1.175575</td>\n",
       "      <td>0.647376</td>\n",
       "      <td>-0.221929</td>\n",
       "      <td>0.062723</td>\n",
       "      <td>0.061458</td>\n",
       "      <td>123.50</td>\n",
       "      <td>0</td>\n",
       "    </tr>\n",
       "    <tr>\n",
       "      <th>4</th>\n",
       "      <td>2.0</td>\n",
       "      <td>-1.158233</td>\n",
       "      <td>0.877737</td>\n",
       "      <td>1.548718</td>\n",
       "      <td>0.403034</td>\n",
       "      <td>-0.407193</td>\n",
       "      <td>0.095921</td>\n",
       "      <td>0.592941</td>\n",
       "      <td>-0.270533</td>\n",
       "      <td>0.817739</td>\n",
       "      <td>...</td>\n",
       "      <td>-0.009431</td>\n",
       "      <td>0.798278</td>\n",
       "      <td>-0.137458</td>\n",
       "      <td>0.141267</td>\n",
       "      <td>-0.206010</td>\n",
       "      <td>0.502292</td>\n",
       "      <td>0.219422</td>\n",
       "      <td>0.215153</td>\n",
       "      <td>69.99</td>\n",
       "      <td>0</td>\n",
       "    </tr>\n",
       "  </tbody>\n",
       "</table>\n",
       "<p>5 rows × 31 columns</p>\n",
       "</div>"
      ],
      "text/plain": [
       "   Time        V1        V2        V3        V4        V5        V6        V7  \\\n",
       "0   0.0 -1.359807 -0.072781  2.536347  1.378155 -0.338321  0.462388  0.239599   \n",
       "1   0.0  1.191857  0.266151  0.166480  0.448154  0.060018 -0.082361 -0.078803   \n",
       "2   1.0 -1.358354 -1.340163  1.773209  0.379780 -0.503198  1.800499  0.791461   \n",
       "3   1.0 -0.966272 -0.185226  1.792993 -0.863291 -0.010309  1.247203  0.237609   \n",
       "4   2.0 -1.158233  0.877737  1.548718  0.403034 -0.407193  0.095921  0.592941   \n",
       "\n",
       "         V8        V9  ...         V21       V22       V23       V24  \\\n",
       "0  0.098698  0.363787  ...   -0.018307  0.277838 -0.110474  0.066928   \n",
       "1  0.085102 -0.255425  ...   -0.225775 -0.638672  0.101288 -0.339846   \n",
       "2  0.247676 -1.514654  ...    0.247998  0.771679  0.909412 -0.689281   \n",
       "3  0.377436 -1.387024  ...   -0.108300  0.005274 -0.190321 -1.175575   \n",
       "4 -0.270533  0.817739  ...   -0.009431  0.798278 -0.137458  0.141267   \n",
       "\n",
       "        V25       V26       V27       V28  Amount  Class  \n",
       "0  0.128539 -0.189115  0.133558 -0.021053  149.62      0  \n",
       "1  0.167170  0.125895 -0.008983  0.014724    2.69      0  \n",
       "2 -0.327642 -0.139097 -0.055353 -0.059752  378.66      0  \n",
       "3  0.647376 -0.221929  0.062723  0.061458  123.50      0  \n",
       "4 -0.206010  0.502292  0.219422  0.215153   69.99      0  \n",
       "\n",
       "[5 rows x 31 columns]"
      ]
     },
     "execution_count": 33,
     "metadata": {},
     "output_type": "execute_result"
    }
   ],
   "source": [
    "# loading data into pandas for inspection\n",
    "\n",
    "df = pd.read_csv(datafile)\n",
    "df.head(5)"
   ]
  },
  {
   "cell_type": "code",
   "execution_count": 34,
   "metadata": {},
   "outputs": [
    {
     "data": {
      "text/plain": [
       "284807"
      ]
     },
     "execution_count": 34,
     "metadata": {},
     "output_type": "execute_result"
    }
   ],
   "source": [
    "df['Class'].count()"
   ]
  },
  {
   "cell_type": "code",
   "execution_count": 35,
   "metadata": {},
   "outputs": [
    {
     "data": {
      "text/plain": [
       "492"
      ]
     },
     "execution_count": 35,
     "metadata": {},
     "output_type": "execute_result"
    }
   ],
   "source": [
    "df[df['Class'] == 1]['Class'].count()"
   ]
  },
  {
   "cell_type": "code",
   "execution_count": 36,
   "metadata": {},
   "outputs": [
    {
     "name": "stdout",
     "output_type": "stream",
     "text": [
      "(284807, 31)\n"
     ]
    }
   ],
   "source": [
    "#Converting Data Into Numpy\n",
    "\n",
    "raw_data = df.as_matrix()\n",
    "print(raw_data.shape)"
   ]
  },
  {
   "cell_type": "code",
   "execution_count": 37,
   "metadata": {},
   "outputs": [],
   "source": [
    "#Shuffling the data\n",
    "np.random.seed(123)\n",
    "np.random.shuffle(raw_data)\n",
    "label = raw_data[:, -1]\n",
    "data = raw_data[:, :-1]\n"
   ]
  },
  {
   "cell_type": "code",
   "execution_count": 38,
   "metadata": {},
   "outputs": [
    {
     "name": "stdout",
     "output_type": "stream",
     "text": [
      "label_shape = (284807,); data_shape= (284807, 30)\n"
     ]
    }
   ],
   "source": [
    "print(\"label_shape = {}; data_shape= {}\".format(label.shape, data.shape))"
   ]
  },
  {
   "cell_type": "code",
   "execution_count": 39,
   "metadata": {
    "collapsed": true
   },
   "outputs": [],
   "source": [
    "# There are very few fraudulant transactions in the dataset, so I am putting their indexes in an array\n",
    "# to plot and ensure they are evenly distributed, so when I split the dataset into test and training \n",
    "# I don't end up with a dispropostionate distribution\n",
    "t = []\n",
    "for i in range(len(label)):\n",
    "    if label[i] == 1:\n",
    "        t.append(i)"
   ]
  },
  {
   "cell_type": "code",
   "execution_count": 40,
   "metadata": {},
   "outputs": [
    {
     "data": {
      "image/png": "[encoded data removed]",
      "text/plain": [
       "<matplotlib.figure.Figure at 0x7ff679f44fd0>"
      ]
     },
     "metadata": {},
     "output_type": "display_data"
    }
   ],
   "source": [
    "sns.distplot(t, kde=True, rug=True, hist=False)\n",
    "plt.show()"
   ]
  },
  {
   "cell_type": "code",
   "execution_count": 100,
   "metadata": {},
   "outputs": [
    {
     "name": "stdout",
     "output_type": "stream",
     "text": [
      "training data shape= (170884, 30); training label shape = (170884,) \n",
      "Validation data shape= (113923, 30); validation label shape = (113923,)\n"
     ]
    }
   ],
   "source": [
    "#Splitting data into validation and training and breaking dataset into data and label\n",
    "\n",
    "#60%-40% training to validation\n",
    "train_size = int(data.shape[0]*0.6)\n",
    "\n",
    "train_data  = data[:train_size, :]\n",
    "val_data = data[train_size:, :]\n",
    "\n",
    "train_label = label[:train_size]\n",
    "val_label = label[train_size:]\n",
    "\n",
    "#Saving arrays for later use\n",
    "np.save('data/train_data.npy', train_data, allow_pickle=True)\n",
    "np.save('data/train_label.npy', train_label, allow_pickle=True)\n",
    "np.save('data/val_data.npy', val_data, allow_pickle=True)\n",
    "np.save('data/val_label.npy', val_label, allow_pickle=True)\n",
    "\n",
    "\n",
    "print(\"training data shape= {}; training label shape = {} \\nValidation data shape= {}; validation label shape = {}\".format(train_data.shape, \n",
    "                                                                        train_label.shape,\n",
    "                                                                        val_data.shape,\n",
    "                                                                        val_label.shape))\n",
    "\n",
    "\n"
   ]
  },
  {
   "cell_type": "markdown",
   "metadata": {},
   "source": [
    "# Part 2: Training\n",
    "In this part we load the data from pre-processed files and train the model."
   ]
  },
  {
   "cell_type": "code",
   "execution_count": 101,
   "metadata": {},
   "outputs": [
    {
     "name": "stdout",
     "output_type": "stream",
     "text": [
      "training data shape= (170884, 30); training label shape = (170884,) \n",
      "Validation data shape= (113923, 30); validation label shape = (113923,)\n"
     ]
    }
   ],
   "source": [
    "train_data = np.load('data/train_data.npy')\n",
    "train_label = np.load('data/train_label.npy')\n",
    "\n",
    "val_data = np.load('data/val_data.npy')\n",
    "val_label = np.load('data/val_label.npy')\n",
    "\n",
    "print(\"training data shape= {}; training label shape = {} \\nValidation data shape= {}; validation label shape = {}\".format(train_data.shape, \n",
    "                                                                        train_label.shape,\n",
    "                                                                        val_data.shape,\n",
    "                                                                        val_label.shape))\n",
    "train_set = (train_data, train_label)\n",
    "test_set = (val_data, val_label)\n"
   ]
  },
  {
   "cell_type": "markdown",
   "metadata": {},
   "source": [
    "# Data Conversion\n",
    "Amazon Algorithms support csv and recordio/protobuf. recordio is faster than CSV and specially in algorithms that deal with sparse matrices, CSV is not supported, so I just convert the data into recordio"
   ]
  },
  {
   "cell_type": "code",
   "execution_count": 102,
   "metadata": {},
   "outputs": [
    {
     "data": {
      "text/plain": [
       "0"
      ]
     },
     "execution_count": 102,
     "metadata": {},
     "output_type": "execute_result"
    }
   ],
   "source": [
    "vectors = np.array([t.tolist() for t in train_set[0]]).astype('float32')\n",
    "labels = np.array([t.tolist() for t in train_set[1]]).astype('float32')\n",
    "\n",
    "buf = io.BytesIO()\n",
    "smac.write_numpy_to_dense_tensor(buf, vectors, labels)\n",
    "buf.seek(0)"
   ]
  },
  {
   "cell_type": "markdown",
   "metadata": {},
   "source": [
    "# Upload training data\n",
    "Now that we've created our recordIO-wrapped protobuf, we'll need to upload it to S3, so that Amazon SageMaker training can use it."
   ]
  },
  {
   "cell_type": "code",
   "execution_count": 103,
   "metadata": {},
   "outputs": [
    {
     "name": "stdout",
     "output_type": "stream",
     "text": [
      "uploaded training data location: s3://cyrusmv-sagemaker-demos/visa-kaggle/original.csv/train/recordio-pb-data\n"
     ]
    }
   ],
   "source": [
    "key = 'recordio-pb-data'\n",
    "boto3.resource('s3').Bucket(bucket).Object(os.path.join(prefix, 'train', key)).upload_fileobj(buf)\n",
    "s3_train_data = 's3://{}/{}/train/{}'.format(bucket, prefix, key)\n",
    "print('uploaded training data location: {}'.format(s3_train_data))"
   ]
  },
  {
   "cell_type": "markdown",
   "metadata": {},
   "source": [
    "Let's also setup an output S3 location for the model artifact that will be output as the result of training with the algorithm."
   ]
  },
  {
   "cell_type": "code",
   "execution_count": 104,
   "metadata": {},
   "outputs": [
    {
     "name": "stdout",
     "output_type": "stream",
     "text": [
      "training artifacts will be uploaded to: s3://cyrusmv-sagemaker-demos/visa-kaggle/original.csv/output\n"
     ]
    }
   ],
   "source": [
    "output_location = 's3://{}/{}/output'.format(bucket, prefix)\n",
    "print('training artifacts will be uploaded to: {}'.format(output_location))"
   ]
  },
  {
   "cell_type": "markdown",
   "metadata": {},
   "source": [
    "# Training the model\n",
    "At this point we are using an linear learner from amazon algorithms. Docker file containing the model is located in multiple regions. We tool the following steps\n",
    "1. define containers\n",
    "2. Create am Estimator object and pass the hyper-parameters as well as the model location to it.\n",
    "3. run Estimator.fit to begin training the model"
   ]
  },
  {
   "cell_type": "code",
   "execution_count": 52,
   "metadata": {
    "collapsed": true
   },
   "outputs": [],
   "source": [
    "containers = {'us-west-2': '174872318107.dkr.ecr.us-west-2.amazonaws.com/linear-learner:latest',\n",
    "              'us-east-1': '382416733822.dkr.ecr.us-east-1.amazonaws.com/linear-learner:latest',\n",
    "              'us-east-2': '404615174143.dkr.ecr.us-east-2.amazonaws.com/linear-learner:latest',\n",
    "              'eu-west-1': '438346466558.dkr.ecr.eu-west-1.amazonaws.com/linear-learner:latest'}"
   ]
  },
  {
   "cell_type": "code",
   "execution_count": 54,
   "metadata": {},
   "outputs": [
    {
     "name": "stderr",
     "output_type": "stream",
     "text": [
      "INFO:sagemaker:Creating training-job with name: linear-learner-2018-01-03-11-49-37-675\n"
     ]
    },
    {
     "name": "stdout",
     "output_type": "stream",
     "text": [
      ".................................................................................\n",
      "\u001b[31mArguments: train\u001b[0m\n",
      "\u001b[31m[01/03/2018 11:56:17 INFO 140429112674112 integration.py:222] Reading default configuration from /opt/amazon/lib/python2.7/site-packages/algorithm/default-input.json: {u'epochs': u'10', u'init_bias': u'0.0', u'lr_scheduler_factor': u'0.99', u'num_calibration_samples': u'10000000', u'_num_kv_servers': u'auto', u'use_bias': u'true', u'num_point_for_scaler': u'10000', u'_log_level': u'info', u'bias_lr_mult': u'10', u'lr_scheduler_step': u'100', u'init_method': u'uniform', u'init_sigma': u'0.01', u'lr_scheduler_minimum_lr': u'0.00001', u'target_recall': u'0.8', u'num_models': u'32', u'momentum': u'0.0', u'unbias_label': u'auto', u'wd': u'0.0', u'optimizer': u'adam', u'learning_rate': u'auto', u'_kvstore': u'auto', u'normalize_data': u'true', u'binary_classifier_model_selection_criteria': u'accuracy', u'use_lr_scheduler': u'true', u'target_precision': u'0.8', u'force_dense': u'true', u'unbias_data': u'auto', u'init_scale': u'0.07', u'bias_wd_mult': u'0', u'mini_batch_size': u'1000', u'beta_1': u'0.9', u'loss': u'auto', u'beta_2': u'0.999', u'normalize_label': u'auto', u'_num_gpus': u'auto', u'_data_format': u'record', u'positive_example_weight_mult': u'1.0', u'l1': u'0.0'}\u001b[0m\n",
      "\u001b[31m[01/03/2018 11:56:17 INFO 140429112674112 integration.py:228] Reading provided configuration from /opt/ml/input/config/hyperparameters.json: {u'feature_dim': u'30', u'mini_batch_size': u'200', u'predictor_type': u'binary_classifier'}\u001b[0m\n",
      "\u001b[31m[01/03/2018 11:56:17 INFO 140429112674112 integration.py:244] Final configuration: {u'epochs': u'10', u'feature_dim': u'30', u'init_bias': u'0.0', u'lr_scheduler_factor': u'0.99', u'num_calibration_samples': u'10000000', u'_num_kv_servers': u'auto', u'use_bias': u'true', u'num_point_for_scaler': u'10000', u'_log_level': u'info', u'bias_lr_mult': u'10', u'lr_scheduler_step': u'100', u'init_method': u'uniform', u'init_sigma': u'0.01', u'lr_scheduler_minimum_lr': u'0.00001', u'target_recall': u'0.8', u'num_models': u'32', u'momentum': u'0.0', u'unbias_label': u'auto', u'wd': u'0.0', u'optimizer': u'adam', u'learning_rate': u'auto', u'_kvstore': u'auto', u'normalize_data': u'true', u'binary_classifier_model_selection_criteria': u'accuracy', u'use_lr_scheduler': u'true', u'target_precision': u'0.8', u'force_dense': u'true', u'unbias_data': u'auto', u'init_scale': u'0.07', u'bias_wd_mult': u'0', u'mini_batch_size': u'200', u'beta_1': u'0.9', u'loss': u'auto', u'beta_2': u'0.999', u'predictor_type': u'binary_classifier', u'normalize_label': u'auto', u'_num_gpus': u'auto', u'_data_format': u'record', u'positive_example_weight_mult': u'1.0', u'l1': u'0.0'}\u001b[0m\n",
      "\u001b[31m[01/03/2018 11:56:17 INFO 140429112674112 train.py:69] Detected entry point for worker worker\u001b[0m\n",
      "\u001b[31m[01/03/2018 11:56:18 INFO 140429112674112 data_handler_factory.py:79] Loaded iterator creator application/x-recordio-protobuf for content type ('application/x-recordio-protobuf', '1.0')\u001b[0m\n",
      "\u001b[31m[01/03/2018 11:56:18 INFO 140429112674112 sdk.py:138] Create Store: local\u001b[0m\n",
      "\u001b[31m[01/03/2018 11:56:19 WARNING 140429112674112 sdk.py:146] wait_for_all_workers will not sync workers since the kv store is not running distributed\u001b[0m\n",
      "\u001b[31m[01/03/2018 11:56:19 INFO 140429112674112 gpu.py:44] nvidia-smi took: 0.0250968933105 secs to identify 1 gpus\u001b[0m\n",
      "\u001b[31m[01/03/2018 11:56:19 INFO 140429112674112 sdk.py:85] Number of GPUs being used: 1\u001b[0m\n",
      "\u001b[31m#metrics {\"Metrics\": {\"training_binary_classification_cross_entropy\": {\"count\": 1, \"max\": 0.0370396459856413, \"sum\": 0.0370396459856413, \"min\": 0.0370396459856413}, \"validation_binary_classification_cross_entropy\": {\"count\": 1, \"max\": -Infinity, \"sum\": NaN, \"min\": Infinity}}, \"EndTime\": 1514980614.342308, \"Dimensions\": {\"model\": 0, \"Host\": \"algo-1\", \"Operation\": \"training\", \"Algorithm\": \"Linear Learner\", \"epoch\": 1}, \"StartTime\": 1514980614.342159}\n",
      "\u001b[0m\n",
      "\u001b[31m#metrics {\"Metrics\": {\"training_binary_classification_cross_entropy\": {\"count\": 1, \"max\": 0.035273154156688226, \"sum\": 0.035273154156688226, \"min\": 0.035273154156688226}, \"validation_binary_classification_cross_entropy\": {\"count\": 1, \"max\": -Infinity, \"sum\": NaN, \"min\": Infinity}}, \"EndTime\": 1514980614.342445, \"Dimensions\": {\"model\": 1, \"Host\": \"algo-1\", \"Operation\": \"training\", \"Algorithm\": \"Linear Learner\", \"epoch\": 1}, \"StartTime\": 1514980614.342424}\n",
      "\u001b[0m\n",
      "\u001b[31m#metrics {\"Metrics\": {\"training_binary_classification_cross_entropy\": {\"count\": 1, \"max\": 0.03703325980301484, \"sum\": 0.03703325980301484, \"min\": 0.03703325980301484}, \"validation_binary_classification_cross_entropy\": {\"count\": 1, \"max\": -Infinity, \"sum\": NaN, \"min\": Infinity}}, \"EndTime\": 1514980614.342521, \"Dimensions\": {\"model\": 2, \"Host\": \"algo-1\", \"Operation\": \"training\", \"Algorithm\": \"Linear Learner\", \"epoch\": 1}, \"StartTime\": 1514980614.342501}\n",
      "\u001b[0m\n",
      "\u001b[31m#metrics {\"Metrics\": {\"training_binary_classification_cross_entropy\": {\"count\": 1, \"max\": 0.03525512601438674, \"sum\": 0.03525512601438674, \"min\": 0.03525512601438674}, \"validation_binary_classification_cross_entropy\": {\"count\": 1, \"max\": -Infinity, \"sum\": NaN, \"min\": Infinity}}, \"EndTime\": 1514980614.342585, \"Dimensions\": {\"model\": 3, \"Host\": \"algo-1\", \"Operation\": \"training\", \"Algorithm\": \"Linear Learner\", \"epoch\": 1}, \"StartTime\": 1514980614.342564}\n",
      "\u001b[0m\n",
      "\u001b[31m#metrics {\"Metrics\": {\"training_binary_classification_cross_entropy\": {\"count\": 1, \"max\": 0.008927742893457526, \"sum\": 0.008927742893457526, \"min\": 0.008927742893457526}, \"validation_binary_classification_cross_entropy\": {\"count\": 1, \"max\": -Infinity, \"sum\": NaN, \"min\": Infinity}}, \"EndTime\": 1514980614.342644, \"Dimensions\": {\"model\": 4, \"Host\": \"algo-1\", \"Operation\": \"training\", \"Algorithm\": \"Linear Learner\", \"epoch\": 1}, \"StartTime\": 1514980614.342623}\n",
      "\u001b[0m\n",
      "\u001b[31m#metrics {\"Metrics\": {\"training_binary_classification_cross_entropy\": {\"count\": 1, \"max\": 0.009430426648741346, \"sum\": 0.009430426648741346, \"min\": 0.009430426648741346}, \"validation_binary_classification_cross_entropy\": {\"count\": 1, \"max\": -Infinity, \"sum\": NaN, \"min\": Infinity}}, \"EndTime\": 1514980614.342703, \"Dimensions\": {\"model\": 5, \"Host\": \"algo-1\", \"Operation\": \"training\", \"Algorithm\": \"Linear Learner\", \"epoch\": 1}, \"StartTime\": 1514980614.342685}\n",
      "\u001b[0m\n",
      "\u001b[31m#metrics {\"Metrics\": {\"training_binary_classification_cross_entropy\": {\"count\": 1, \"max\": 0.009088825281083462, \"sum\": 0.009088825281083462, \"min\": 0.009088825281083462}, \"validation_binary_classification_cross_entropy\": {\"count\": 1, \"max\": -Infinity, \"sum\": NaN, \"min\": Infinity}}, \"EndTime\": 1514980614.342758, \"Dimensions\": {\"model\": 6, \"Host\": \"algo-1\", \"Operation\": \"training\", \"Algorithm\": \"Linear Learner\", \"epoch\": 1}, \"StartTime\": 1514980614.342741}\n",
      "\u001b[0m\n",
      "\u001b[31m#metrics {\"Metrics\": {\"training_binary_classification_cross_entropy\": {\"count\": 1, \"max\": 0.009312480123383997, \"sum\": 0.009312480123383997, \"min\": 0.009312480123383997}, \"validation_binary_classification_cross_entropy\": {\"count\": 1, \"max\": -Infinity, \"sum\": NaN, \"min\": Infinity}}, \"EndTime\": 1514980614.342818, \"Dimensions\": {\"model\": 7, \"Host\": \"algo-1\", \"Operation\": \"training\", \"Algorithm\": \"Linear Learner\", \"epoch\": 1}, \"StartTime\": 1514980614.342798}\n",
      "\u001b[0m\n",
      "\u001b[31m#metrics {\"Metrics\": {\"training_binary_classification_cross_entropy\": {\"count\": 1, \"max\": 0.03729023498345594, \"sum\": 0.03729023498345594, \"min\": 0.03729023498345594}, \"validation_binary_classification_cross_entropy\": {\"count\": 1, \"max\": -Infinity, \"sum\": NaN, \"min\": Infinity}}, \"EndTime\": 1514980614.342886, \"Dimensions\": {\"model\": 8, \"Host\": \"algo-1\", \"Operation\": \"training\", \"Algorithm\": \"Linear Learner\", \"epoch\": 1}, \"StartTime\": 1514980614.342865}\n",
      "\u001b[0m\n",
      "\u001b[31m#metrics {\"Metrics\": {\"training_binary_classification_cross_entropy\": {\"count\": 1, \"max\": 0.03539966826172288, \"sum\": 0.03539966826172288, \"min\": 0.03539966826172288}, \"validation_binary_classification_cross_entropy\": {\"count\": 1, \"max\": -Infinity, \"sum\": NaN, \"min\": Infinity}}, \"EndTime\": 1514980614.342955, \"Dimensions\": {\"model\": 9, \"Host\": \"algo-1\", \"Operation\": \"training\", \"Algorithm\": \"Linear Learner\", \"epoch\": 1}, \"StartTime\": 1514980614.342933}\n",
      "\u001b[0m\n",
      "\u001b[31m#metrics {\"Metrics\": {\"training_binary_classification_cross_entropy\": {\"count\": 1, \"max\": 0.037196615013780306, \"sum\": 0.037196615013780306, \"min\": 0.037196615013780306}, \"validation_binary_classification_cross_entropy\": {\"count\": 1, \"max\": -Infinity, \"sum\": NaN, \"min\": Infinity}}, \"EndTime\": 1514980614.343029, \"Dimensions\": {\"model\": 10, \"Host\": \"algo-1\", \"Operation\": \"training\", \"Algorithm\": \"Linear Learner\", \"epoch\": 1}, \"StartTime\": 1514980614.343007}\n",
      "\u001b[0m\n",
      "\u001b[31m#metrics {\"Metrics\": {\"training_binary_classification_cross_entropy\": {\"count\": 1, \"max\": 0.03540087511304949, \"sum\": 0.03540087511304949, \"min\": 0.03540087511304949}, \"validation_binary_classification_cross_entropy\": {\"count\": 1, \"max\": -Infinity, \"sum\": NaN, \"min\": Infinity}}, \"EndTime\": 1514980614.343085, \"Dimensions\": {\"model\": 11, \"Host\": \"algo-1\", \"Operation\": \"training\", \"Algorithm\": \"Linear Learner\", \"epoch\": 1}, \"StartTime\": 1514980614.343064}\n",
      "\u001b[0m\n",
      "\u001b[31m#metrics {\"Metrics\": {\"training_binary_classification_cross_entropy\": {\"count\": 1, \"max\": 0.008094849499118071, \"sum\": 0.008094849499118071, \"min\": 0.008094849499118071}, \"validation_binary_classification_cross_entropy\": {\"count\": 1, \"max\": -Infinity, \"sum\": NaN, \"min\": Infinity}}, \"EndTime\": 1514980614.343138, \"Dimensions\": {\"model\": 12, \"Host\": \"algo-1\", \"Operation\": \"training\", \"Algorithm\": \"Linear Learner\", \"epoch\": 1}, \"StartTime\": 1514980614.343119}\n",
      "\u001b[0m\n",
      "\u001b[31m#metrics {\"Metrics\": {\"training_binary_classification_cross_entropy\": {\"count\": 1, \"max\": 0.009278646011338449, \"sum\": 0.009278646011338449, \"min\": 0.009278646011338449}, \"validation_binary_classification_cross_entropy\": {\"count\": 1, \"max\": -Infinity, \"sum\": NaN, \"min\": Infinity}}, \"EndTime\": 1514980614.34321, \"Dimensions\": {\"model\": 13, \"Host\": \"algo-1\", \"Operation\": \"training\", \"Algorithm\": \"Linear Learner\", \"epoch\": 1}, \"StartTime\": 1514980614.343189}\n",
      "\u001b[0m\n",
      "\u001b[31m#metrics {\"Metrics\": {\"training_binary_classification_cross_entropy\": {\"count\": 1, \"max\": 0.008113248862753638, \"sum\": 0.008113248862753638, \"min\": 0.008113248862753638}, \"validation_binary_classification_cross_entropy\": {\"count\": 1, \"max\": -Infinity, \"sum\": NaN, \"min\": Infinity}}, \"EndTime\": 1514980614.343269, \"Dimensions\": {\"model\": 14, \"Host\": \"algo-1\", \"Operation\": \"training\", \"Algorithm\": \"Linear Learner\", \"epoch\": 1}, \"StartTime\": 1514980614.343248}\n",
      "\u001b[0m\n",
      "\u001b[31m#metrics {\"Metrics\": {\"training_binary_classification_cross_entropy\": {\"count\": 1, \"max\": 0.008461912518723778, \"sum\": 0.008461912518723778, \"min\": 0.008461912518723778}, \"validation_binary_classification_cross_entropy\": {\"count\": 1, \"max\": -Infinity, \"sum\": NaN, \"min\": Infinity}}, \"EndTime\": 1514980614.343328, \"Dimensions\": {\"model\": 15, \"Host\": \"algo-1\", \"Operation\": \"training\", \"Algorithm\": \"Linear Learner\", \"epoch\": 1}, \"StartTime\": 1514980614.343307}\n",
      "\u001b[0m\n",
      "\u001b[31m#metrics {\"Metrics\": {\"training_binary_classification_cross_entropy\": {\"count\": 1, \"max\": 0.04132220615687359, \"sum\": 0.04132220615687359, \"min\": 0.04132220615687359}, \"validation_binary_classification_cross_entropy\": {\"count\": 1, \"max\": -Infinity, \"sum\": NaN, \"min\": Infinity}}, \"EndTime\": 1514980614.343395, \"Dimensions\": {\"model\": 16, \"Host\": \"algo-1\", \"Operation\": \"training\", \"Algorithm\": \"Linear Learner\", \"epoch\": 1}, \"StartTime\": 1514980614.343374}\n",
      "\u001b[0m\n",
      "\u001b[31m#metrics {\"Metrics\": {\"training_binary_classification_cross_entropy\": {\"count\": 1, \"max\": 0.039811622845205265, \"sum\": 0.039811622845205265, \"min\": 0.039811622845205265}, \"validation_binary_classification_cross_entropy\": {\"count\": 1, \"max\": -Infinity, \"sum\": NaN, \"min\": Infinity}}, \"EndTime\": 1514980614.343472, \"Dimensions\": {\"model\": 17, \"Host\": \"algo-1\", \"Operation\": \"training\", \"Algorithm\": \"Linear Learner\", \"epoch\": 1}, \"StartTime\": 1514980614.343449}\n",
      "\u001b[0m\n",
      "\u001b[31m#metrics {\"Metrics\": {\"training_binary_classification_cross_entropy\": {\"count\": 1, \"max\": 0.041381818847927056, \"sum\": 0.041381818847927056, \"min\": 0.041381818847927056}, \"validation_binary_classification_cross_entropy\": {\"count\": 1, \"max\": -Infinity, \"sum\": NaN, \"min\": Infinity}}, \"EndTime\": 1514980614.343546, \"Dimensions\": {\"model\": 18, \"Host\": \"algo-1\", \"Operation\": \"training\", \"Algorithm\": \"Linear Learner\", \"epoch\": 1}, \"StartTime\": 1514980614.343523}\n",
      "\u001b[0m\n",
      "\u001b[31m#metrics {\"Metrics\": {\"training_binary_classification_cross_entropy\": {\"count\": 1, \"max\": 0.03979198327981616, \"sum\": 0.03979198327981616, \"min\": 0.03979198327981616}, \"validation_binary_classification_cross_entropy\": {\"count\": 1, \"max\": -Infinity, \"sum\": NaN, \"min\": Infinity}}, \"EndTime\": 1514980614.343616, \"Dimensions\": {\"model\": 19, \"Host\": \"algo-1\", \"Operation\": \"training\", \"Algorithm\": \"Linear Learner\", \"epoch\": 1}, \"StartTime\": 1514980614.343595}\n",
      "\u001b[0m\n",
      "\u001b[31m#metrics {\"Metrics\": {\"training_binary_classification_cross_entropy\": {\"count\": 1, \"max\": 0.014218351314579348, \"sum\": 0.014218351314579348, \"min\": 0.014218351314579348}, \"validation_binary_classification_cross_entropy\": {\"count\": 1, \"max\": -Infinity, \"sum\": NaN, \"min\": Infinity}}, \"EndTime\": 1514980614.34368, \"Dimensions\": {\"model\": 20, \"Host\": \"algo-1\", \"Operation\": \"training\", \"Algorithm\": \"Linear Learner\", \"epoch\": 1}, \"StartTime\": 1514980614.343663}\n",
      "\u001b[0m\n",
      "\u001b[31m#metrics {\"Metrics\": {\"training_binary_classification_cross_entropy\": {\"count\": 1, \"max\": 0.014070975679753728, \"sum\": 0.014070975679753728, \"min\": 0.014070975679753728}, \"validation_binary_classification_cross_entropy\": {\"count\": 1, \"max\": -Infinity, \"sum\": NaN, \"min\": Infinity}}, \"EndTime\": 1514980614.343734, \"Dimensions\": {\"model\": 21, \"Host\": \"algo-1\", \"Operation\": \"training\", \"Algorithm\": \"Linear Learner\", \"epoch\": 1}, \"StartTime\": 1514980614.343721}\n",
      "\u001b[0m\n",
      "\u001b[31m#metrics {\"Metrics\": {\"training_binary_classification_cross_entropy\": {\"count\": 1, \"max\": 0.014220404527559048, \"sum\": 0.014220404527559048, \"min\": 0.014220404527559048}, \"validation_binary_classification_cross_entropy\": {\"count\": 1, \"max\": -Infinity, \"sum\": NaN, \"min\": Infinity}}, \"EndTime\": 1514980614.343812, \"Dimensions\": {\"model\": 22, \"Host\": \"algo-1\", \"Operation\": \"training\", \"Algorithm\": \"Linear Learner\", \"epoch\": 1}, \"StartTime\": 1514980614.343776}\n",
      "\u001b[0m\n",
      "\u001b[31m#metrics {\"Metrics\": {\"training_binary_classification_cross_entropy\": {\"count\": 1, \"max\": 0.014061484280875523, \"sum\": 0.014061484280875523, \"min\": 0.014061484280875523}, \"validation_binary_classification_cross_entropy\": {\"count\": 1, \"max\": -Infinity, \"sum\": NaN, \"min\": Infinity}}, \"EndTime\": 1514980614.343869, \"Dimensions\": {\"model\": 23, \"Host\": \"algo-1\", \"Operation\": \"training\", \"Algorithm\": \"Linear Learner\", \"epoch\": 1}, \"StartTime\": 1514980614.343849}\n",
      "\u001b[0m\n",
      "\u001b[31m#metrics {\"Metrics\": {\"training_binary_classification_cross_entropy\": {\"count\": 1, \"max\": 0.042392085061279894, \"sum\": 0.042392085061279894, \"min\": 0.042392085061279894}, \"validation_binary_classification_cross_entropy\": {\"count\": 1, \"max\": -Infinity, \"sum\": NaN, \"min\": Infinity}}, \"EndTime\": 1514980614.343944, \"Dimensions\": {\"model\": 24, \"Host\": \"algo-1\", \"Operation\": \"training\", \"Algorithm\": \"Linear Learner\", \"epoch\": 1}, \"StartTime\": 1514980614.343922}\n",
      "\u001b[0m\n",
      "\u001b[31m#metrics {\"Metrics\": {\"training_binary_classification_cross_entropy\": {\"count\": 1, \"max\": 0.040835259609116326, \"sum\": 0.040835259609116326, \"min\": 0.040835259609116326}, \"validation_binary_classification_cross_entropy\": {\"count\": 1, \"max\": -Infinity, \"sum\": NaN, \"min\": Infinity}}, \"EndTime\": 1514980614.344017, \"Dimensions\": {\"model\": 25, \"Host\": \"algo-1\", \"Operation\": \"training\", \"Algorithm\": \"Linear Learner\", \"epoch\": 1}, \"StartTime\": 1514980614.343996}\n",
      "\u001b[0m\n",
      "\u001b[31m#metrics {\"Metrics\": {\"training_binary_classification_cross_entropy\": {\"count\": 1, \"max\": 0.04231690732356536, \"sum\": 0.04231690732356536, \"min\": 0.04231690732356536}, \"validation_binary_classification_cross_entropy\": {\"count\": 1, \"max\": -Infinity, \"sum\": NaN, \"min\": Infinity}}, \"EndTime\": 1514980614.344082, \"Dimensions\": {\"model\": 26, \"Host\": \"algo-1\", \"Operation\": \"training\", \"Algorithm\": \"Linear Learner\", \"epoch\": 1}, \"StartTime\": 1514980614.344068}\n",
      "\u001b[0m\n",
      "\u001b[31m#metrics {\"Metrics\": {\"training_binary_classification_cross_entropy\": {\"count\": 1, \"max\": 0.04075923781728577, \"sum\": 0.04075923781728577, \"min\": 0.04075923781728577}, \"validation_binary_classification_cross_entropy\": {\"count\": 1, \"max\": -Infinity, \"sum\": NaN, \"min\": Infinity}}, \"EndTime\": 1514980614.344142, \"Dimensions\": {\"model\": 27, \"Host\": \"algo-1\", \"Operation\": \"training\", \"Algorithm\": \"Linear Learner\", \"epoch\": 1}, \"StartTime\": 1514980614.344126}\n",
      "\u001b[0m\n",
      "\u001b[31m#metrics {\"Metrics\": {\"training_binary_classification_cross_entropy\": {\"count\": 1, \"max\": 0.0150518303294448, \"sum\": 0.0150518303294448, \"min\": 0.0150518303294448}, \"validation_binary_classification_cross_entropy\": {\"count\": 1, \"max\": -Infinity, \"sum\": NaN, \"min\": Infinity}}, \"EndTime\": 1514980614.344215, \"Dimensions\": {\"model\": 28, \"Host\": \"algo-1\", \"Operation\": \"training\", \"Algorithm\": \"Linear Learner\", \"epoch\": 1}, \"StartTime\": 1514980614.344192}\n",
      "\u001b[0m\n",
      "\u001b[31m#metrics {\"Metrics\": {\"training_binary_classification_cross_entropy\": {\"count\": 1, \"max\": 0.015063428159522883, \"sum\": 0.015063428159522883, \"min\": 0.015063428159522883}, \"validation_binary_classification_cross_entropy\": {\"count\": 1, \"max\": -Infinity, \"sum\": NaN, \"min\": Infinity}}, \"EndTime\": 1514980614.344286, \"Dimensions\": {\"model\": 29, \"Host\": \"algo-1\", \"Operation\": \"training\", \"Algorithm\": \"Linear Learner\", \"epoch\": 1}, \"StartTime\": 1514980614.344264}\n",
      "\u001b[0m\n",
      "\u001b[31m#metrics {\"Metrics\": {\"training_binary_classification_cross_entropy\": {\"count\": 1, \"max\": 0.015065254423395454, \"sum\": 0.015065254423395454, \"min\": 0.015065254423395454}, \"validation_binary_classification_cross_entropy\": {\"count\": 1, \"max\": -Infinity, \"sum\": NaN, \"min\": Infinity}}, \"EndTime\": 1514980614.344357, \"Dimensions\": {\"model\": 30, \"Host\": \"algo-1\", \"Operation\": \"training\", \"Algorithm\": \"Linear Learner\", \"epoch\": 1}, \"StartTime\": 1514980614.344334}\n",
      "\u001b[0m\n",
      "\u001b[31m#metrics {\"Metrics\": {\"training_binary_classification_cross_entropy\": {\"count\": 1, \"max\": 0.01502531619330288, \"sum\": 0.01502531619330288, \"min\": 0.01502531619330288}, \"validation_binary_classification_cross_entropy\": {\"count\": 1, \"max\": -Infinity, \"sum\": NaN, \"min\": Infinity}}, \"EndTime\": 1514980614.344433, \"Dimensions\": {\"model\": 31, \"Host\": \"algo-1\", \"Operation\": \"training\", \"Algorithm\": \"Linear Learner\", \"epoch\": 1}, \"StartTime\": 1514980614.34441}\n",
      "\u001b[0m\n"
     ]
    },
    {
     "name": "stdout",
     "output_type": "stream",
     "text": [
      "\u001b[31m#metrics {\"Metrics\": {\"training_binary_classification_cross_entropy\": {\"count\": 1, \"max\": 0.006213935302696965, \"sum\": 0.006213935302696965, \"min\": 0.006213935302696965}, \"validation_binary_classification_cross_entropy\": {\"count\": 1, \"max\": -Infinity, \"sum\": NaN, \"min\": Infinity}}, \"EndTime\": 1514980647.68726, \"Dimensions\": {\"model\": 0, \"Host\": \"algo-1\", \"Operation\": \"training\", \"Algorithm\": \"Linear Learner\", \"epoch\": 2}, \"StartTime\": 1514980647.686962}\n",
      "\u001b[0m\n",
      "\u001b[31m#metrics {\"Metrics\": {\"training_binary_classification_cross_entropy\": {\"count\": 1, \"max\": 0.005266643648386978, \"sum\": 0.005266643648386978, \"min\": 0.005266643648386978}, \"validation_binary_classification_cross_entropy\": {\"count\": 1, \"max\": -Infinity, \"sum\": NaN, \"min\": Infinity}}, \"EndTime\": 1514980647.687359, \"Dimensions\": {\"model\": 1, \"Host\": \"algo-1\", \"Operation\": \"training\", \"Algorithm\": \"Linear Learner\", \"epoch\": 2}, \"StartTime\": 1514980647.687342}\n",
      "\u001b[0m\n",
      "\u001b[31m#metrics {\"Metrics\": {\"training_binary_classification_cross_entropy\": {\"count\": 1, \"max\": 0.006208186105975502, \"sum\": 0.006208186105975502, \"min\": 0.006208186105975502}, \"validation_binary_classification_cross_entropy\": {\"count\": 1, \"max\": -Infinity, \"sum\": NaN, \"min\": Infinity}}, \"EndTime\": 1514980647.687423, \"Dimensions\": {\"model\": 2, \"Host\": \"algo-1\", \"Operation\": \"training\", \"Algorithm\": \"Linear Learner\", \"epoch\": 2}, \"StartTime\": 1514980647.687404}\n",
      "\u001b[0m\n",
      "\u001b[31m#metrics {\"Metrics\": {\"training_binary_classification_cross_entropy\": {\"count\": 1, \"max\": 0.005267991770050146, \"sum\": 0.005267991770050146, \"min\": 0.005267991770050146}, \"validation_binary_classification_cross_entropy\": {\"count\": 1, \"max\": -Infinity, \"sum\": NaN, \"min\": Infinity}}, \"EndTime\": 1514980647.687487, \"Dimensions\": {\"model\": 3, \"Host\": \"algo-1\", \"Operation\": \"training\", \"Algorithm\": \"Linear Learner\", \"epoch\": 2}, \"StartTime\": 1514980647.68747}\n",
      "\u001b[0m\n",
      "\u001b[31m#metrics {\"Metrics\": {\"training_binary_classification_cross_entropy\": {\"count\": 1, \"max\": 0.005723318353456726, \"sum\": 0.005723318353456726, \"min\": 0.005723318353456726}, \"validation_binary_classification_cross_entropy\": {\"count\": 1, \"max\": -Infinity, \"sum\": NaN, \"min\": Infinity}}, \"EndTime\": 1514980647.68754, \"Dimensions\": {\"model\": 4, \"Host\": \"algo-1\", \"Operation\": \"training\", \"Algorithm\": \"Linear Learner\", \"epoch\": 2}, \"StartTime\": 1514980647.687525}\n",
      "\u001b[0m\n",
      "\u001b[31m#metrics {\"Metrics\": {\"training_binary_classification_cross_entropy\": {\"count\": 1, \"max\": 0.008383223096096062, \"sum\": 0.008383223096096062, \"min\": 0.008383223096096062}, \"validation_binary_classification_cross_entropy\": {\"count\": 1, \"max\": -Infinity, \"sum\": NaN, \"min\": Infinity}}, \"EndTime\": 1514980647.687608, \"Dimensions\": {\"model\": 5, \"Host\": \"algo-1\", \"Operation\": \"training\", \"Algorithm\": \"Linear Learner\", \"epoch\": 2}, \"StartTime\": 1514980647.687588}\n",
      "\u001b[0m\n",
      "\u001b[31m#metrics {\"Metrics\": {\"training_binary_classification_cross_entropy\": {\"count\": 1, \"max\": 0.005911789997731634, \"sum\": 0.005911789997731634, \"min\": 0.005911789997731634}, \"validation_binary_classification_cross_entropy\": {\"count\": 1, \"max\": -Infinity, \"sum\": NaN, \"min\": Infinity}}, \"EndTime\": 1514980647.687663, \"Dimensions\": {\"model\": 6, \"Host\": \"algo-1\", \"Operation\": \"training\", \"Algorithm\": \"Linear Learner\", \"epoch\": 2}, \"StartTime\": 1514980647.687644}\n",
      "\u001b[0m\n",
      "\u001b[31m#metrics {\"Metrics\": {\"training_binary_classification_cross_entropy\": {\"count\": 1, \"max\": 0.008085878670267202, \"sum\": 0.008085878670267202, \"min\": 0.008085878670267202}, \"validation_binary_classification_cross_entropy\": {\"count\": 1, \"max\": -Infinity, \"sum\": NaN, \"min\": Infinity}}, \"EndTime\": 1514980647.687729, \"Dimensions\": {\"model\": 7, \"Host\": \"algo-1\", \"Operation\": \"training\", \"Algorithm\": \"Linear Learner\", \"epoch\": 2}, \"StartTime\": 1514980647.687709}\n",
      "\u001b[0m\n",
      "\u001b[31m#metrics {\"Metrics\": {\"training_binary_classification_cross_entropy\": {\"count\": 1, \"max\": 0.00665969578789185, \"sum\": 0.00665969578789185, \"min\": 0.00665969578789185}, \"validation_binary_classification_cross_entropy\": {\"count\": 1, \"max\": -Infinity, \"sum\": NaN, \"min\": Infinity}}, \"EndTime\": 1514980647.687819, \"Dimensions\": {\"model\": 8, \"Host\": \"algo-1\", \"Operation\": \"training\", \"Algorithm\": \"Linear Learner\", \"epoch\": 2}, \"StartTime\": 1514980647.687779}\n",
      "\u001b[0m\n",
      "\u001b[31m#metrics {\"Metrics\": {\"training_binary_classification_cross_entropy\": {\"count\": 1, \"max\": 0.0058223964888122655, \"sum\": 0.0058223964888122655, \"min\": 0.0058223964888122655}, \"validation_binary_classification_cross_entropy\": {\"count\": 1, \"max\": -Infinity, \"sum\": NaN, \"min\": Infinity}}, \"EndTime\": 1514980647.687893, \"Dimensions\": {\"model\": 9, \"Host\": \"algo-1\", \"Operation\": \"training\", \"Algorithm\": \"Linear Learner\", \"epoch\": 2}, \"StartTime\": 1514980647.687872}\n",
      "\u001b[0m\n",
      "\u001b[31m#metrics {\"Metrics\": {\"training_binary_classification_cross_entropy\": {\"count\": 1, \"max\": 0.0066562646044640685, \"sum\": 0.0066562646044640685, \"min\": 0.0066562646044640685}, \"validation_binary_classification_cross_entropy\": {\"count\": 1, \"max\": -Infinity, \"sum\": NaN, \"min\": Infinity}}, \"EndTime\": 1514980647.687963, \"Dimensions\": {\"model\": 10, \"Host\": \"algo-1\", \"Operation\": \"training\", \"Algorithm\": \"Linear Learner\", \"epoch\": 2}, \"StartTime\": 1514980647.687942}\n",
      "\u001b[0m\n",
      "\u001b[31m#metrics {\"Metrics\": {\"training_binary_classification_cross_entropy\": {\"count\": 1, \"max\": 0.005821183811026937, \"sum\": 0.005821183811026937, \"min\": 0.005821183811026937}, \"validation_binary_classification_cross_entropy\": {\"count\": 1, \"max\": -Infinity, \"sum\": NaN, \"min\": Infinity}}, \"EndTime\": 1514980647.688037, \"Dimensions\": {\"model\": 11, \"Host\": \"algo-1\", \"Operation\": \"training\", \"Algorithm\": \"Linear Learner\", \"epoch\": 2}, \"StartTime\": 1514980647.688014}\n",
      "\u001b[0m\n",
      "\u001b[31m#metrics {\"Metrics\": {\"training_binary_classification_cross_entropy\": {\"count\": 1, \"max\": 0.005869040892348217, \"sum\": 0.005869040892348217, \"min\": 0.005869040892348217}, \"validation_binary_classification_cross_entropy\": {\"count\": 1, \"max\": -Infinity, \"sum\": NaN, \"min\": Infinity}}, \"EndTime\": 1514980647.688091, \"Dimensions\": {\"model\": 12, \"Host\": \"algo-1\", \"Operation\": \"training\", \"Algorithm\": \"Linear Learner\", \"epoch\": 2}, \"StartTime\": 1514980647.688074}\n",
      "\u001b[0m\n",
      "\u001b[31m#metrics {\"Metrics\": {\"training_binary_classification_cross_entropy\": {\"count\": 1, \"max\": 0.007348322750372372, \"sum\": 0.007348322750372372, \"min\": 0.007348322750372372}, \"validation_binary_classification_cross_entropy\": {\"count\": 1, \"max\": -Infinity, \"sum\": NaN, \"min\": Infinity}}, \"EndTime\": 1514980647.688145, \"Dimensions\": {\"model\": 13, \"Host\": \"algo-1\", \"Operation\": \"training\", \"Algorithm\": \"Linear Learner\", \"epoch\": 2}, \"StartTime\": 1514980647.688129}\n",
      "\u001b[0m\n",
      "\u001b[31m#metrics {\"Metrics\": {\"training_binary_classification_cross_entropy\": {\"count\": 1, \"max\": 0.0058687641977635705, \"sum\": 0.0058687641977635705, \"min\": 0.0058687641977635705}, \"validation_binary_classification_cross_entropy\": {\"count\": 1, \"max\": -Infinity, \"sum\": NaN, \"min\": Infinity}}, \"EndTime\": 1514980647.688201, \"Dimensions\": {\"model\": 14, \"Host\": \"algo-1\", \"Operation\": \"training\", \"Algorithm\": \"Linear Learner\", \"epoch\": 2}, \"StartTime\": 1514980647.688183}\n",
      "\u001b[0m\n",
      "\u001b[31m#metrics {\"Metrics\": {\"training_binary_classification_cross_entropy\": {\"count\": 1, \"max\": 0.00785197992594689, \"sum\": 0.00785197992594689, \"min\": 0.00785197992594689}, \"validation_binary_classification_cross_entropy\": {\"count\": 1, \"max\": -Infinity, \"sum\": NaN, \"min\": Infinity}}, \"EndTime\": 1514980647.688269, \"Dimensions\": {\"model\": 15, \"Host\": \"algo-1\", \"Operation\": \"training\", \"Algorithm\": \"Linear Learner\", \"epoch\": 2}, \"StartTime\": 1514980647.688248}\n",
      "\u001b[0m\n",
      "\u001b[31m#metrics {\"Metrics\": {\"training_binary_classification_cross_entropy\": {\"count\": 1, \"max\": 0.012733711078239549, \"sum\": 0.012733711078239549, \"min\": 0.012733711078239549}, \"validation_binary_classification_cross_entropy\": {\"count\": 1, \"max\": -Infinity, \"sum\": NaN, \"min\": Infinity}}, \"EndTime\": 1514980647.688339, \"Dimensions\": {\"model\": 16, \"Host\": \"algo-1\", \"Operation\": \"training\", \"Algorithm\": \"Linear Learner\", \"epoch\": 2}, \"StartTime\": 1514980647.688317}\n",
      "\u001b[0m\n",
      "\u001b[31m#metrics {\"Metrics\": {\"training_binary_classification_cross_entropy\": {\"count\": 1, \"max\": 0.012314231700724126, \"sum\": 0.012314231700724126, \"min\": 0.012314231700724126}, \"validation_binary_classification_cross_entropy\": {\"count\": 1, \"max\": -Infinity, \"sum\": NaN, \"min\": Infinity}}, \"EndTime\": 1514980647.688417, \"Dimensions\": {\"model\": 17, \"Host\": \"algo-1\", \"Operation\": \"training\", \"Algorithm\": \"Linear Learner\", \"epoch\": 2}, \"StartTime\": 1514980647.688394}\n",
      "\u001b[0m\n",
      "\u001b[31m#metrics {\"Metrics\": {\"training_binary_classification_cross_entropy\": {\"count\": 1, \"max\": 0.012735356673144625, \"sum\": 0.012735356673144625, \"min\": 0.012735356673144625}, \"validation_binary_classification_cross_entropy\": {\"count\": 1, \"max\": -Infinity, \"sum\": NaN, \"min\": Infinity}}, \"EndTime\": 1514980647.688505, \"Dimensions\": {\"model\": 18, \"Host\": \"algo-1\", \"Operation\": \"training\", \"Algorithm\": \"Linear Learner\", \"epoch\": 2}, \"StartTime\": 1514980647.688481}\n",
      "\u001b[0m\n",
      "\u001b[31m#metrics {\"Metrics\": {\"training_binary_classification_cross_entropy\": {\"count\": 1, \"max\": 0.012314023271342631, \"sum\": 0.012314023271342631, \"min\": 0.012314023271342631}, \"validation_binary_classification_cross_entropy\": {\"count\": 1, \"max\": -Infinity, \"sum\": NaN, \"min\": Infinity}}, \"EndTime\": 1514980647.688576, \"Dimensions\": {\"model\": 19, \"Host\": \"algo-1\", \"Operation\": \"training\", \"Algorithm\": \"Linear Learner\", \"epoch\": 2}, \"StartTime\": 1514980647.688555}\n",
      "\u001b[0m\n",
      "\u001b[31m#metrics {\"Metrics\": {\"training_binary_classification_cross_entropy\": {\"count\": 1, \"max\": 0.012317670028333921, \"sum\": 0.012317670028333921, \"min\": 0.012317670028333921}, \"validation_binary_classification_cross_entropy\": {\"count\": 1, \"max\": -Infinity, \"sum\": NaN, \"min\": Infinity}}, \"EndTime\": 1514980647.688631, \"Dimensions\": {\"model\": 20, \"Host\": \"algo-1\", \"Operation\": \"training\", \"Algorithm\": \"Linear Learner\", \"epoch\": 2}, \"StartTime\": 1514980647.688611}\n",
      "\u001b[0m\n",
      "\u001b[31m#metrics {\"Metrics\": {\"training_binary_classification_cross_entropy\": {\"count\": 1, \"max\": 0.012430622153228424, \"sum\": 0.012430622153228424, \"min\": 0.012430622153228424}, \"validation_binary_classification_cross_entropy\": {\"count\": 1, \"max\": -Infinity, \"sum\": NaN, \"min\": Infinity}}, \"EndTime\": 1514980647.688687, \"Dimensions\": {\"model\": 21, \"Host\": \"algo-1\", \"Operation\": \"training\", \"Algorithm\": \"Linear Learner\", \"epoch\": 2}, \"StartTime\": 1514980647.688667}\n",
      "\u001b[0m\n",
      "\u001b[31m#metrics {\"Metrics\": {\"training_binary_classification_cross_entropy\": {\"count\": 1, \"max\": 0.012318042374763472, \"sum\": 0.012318042374763472, \"min\": 0.012318042374763472}, \"validation_binary_classification_cross_entropy\": {\"count\": 1, \"max\": -Infinity, \"sum\": NaN, \"min\": Infinity}}, \"EndTime\": 1514980647.688746, \"Dimensions\": {\"model\": 22, \"Host\": \"algo-1\", \"Operation\": \"training\", \"Algorithm\": \"Linear Learner\", \"epoch\": 2}, \"StartTime\": 1514980647.688728}\n",
      "\u001b[0m\n",
      "\u001b[31m#metrics {\"Metrics\": {\"training_binary_classification_cross_entropy\": {\"count\": 1, \"max\": 0.012431965607504166, \"sum\": 0.012431965607504166, \"min\": 0.012431965607504166}, \"validation_binary_classification_cross_entropy\": {\"count\": 1, \"max\": -Infinity, \"sum\": NaN, \"min\": Infinity}}, \"EndTime\": 1514980647.688809, \"Dimensions\": {\"model\": 23, \"Host\": \"algo-1\", \"Operation\": \"training\", \"Algorithm\": \"Linear Learner\", \"epoch\": 2}, \"StartTime\": 1514980647.688788}\n",
      "\u001b[0m\n",
      "\u001b[31m#metrics {\"Metrics\": {\"training_binary_classification_cross_entropy\": {\"count\": 1, \"max\": 0.013750803416171733, \"sum\": 0.013750803416171733, \"min\": 0.013750803416171733}, \"validation_binary_classification_cross_entropy\": {\"count\": 1, \"max\": -Infinity, \"sum\": NaN, \"min\": Infinity}}, \"EndTime\": 1514980647.68888, \"Dimensions\": {\"model\": 24, \"Host\": \"algo-1\", \"Operation\": \"training\", \"Algorithm\": \"Linear Learner\", \"epoch\": 2}, \"StartTime\": 1514980647.688858}\n",
      "\u001b[0m\n",
      "\u001b[31m#metrics {\"Metrics\": {\"training_binary_classification_cross_entropy\": {\"count\": 1, \"max\": 0.01335499667817731, \"sum\": 0.01335499667817731, \"min\": 0.01335499667817731}, \"validation_binary_classification_cross_entropy\": {\"count\": 1, \"max\": -Infinity, \"sum\": NaN, \"min\": Infinity}}, \"EndTime\": 1514980647.68895, \"Dimensions\": {\"model\": 25, \"Host\": \"algo-1\", \"Operation\": \"training\", \"Algorithm\": \"Linear Learner\", \"epoch\": 2}, \"StartTime\": 1514980647.688928}\n",
      "\u001b[0m\n",
      "\u001b[31m#metrics {\"Metrics\": {\"training_binary_classification_cross_entropy\": {\"count\": 1, \"max\": 0.01374711554907524, \"sum\": 0.01374711554907524, \"min\": 0.01374711554907524}, \"validation_binary_classification_cross_entropy\": {\"count\": 1, \"max\": -Infinity, \"sum\": NaN, \"min\": Infinity}}, \"EndTime\": 1514980647.68903, \"Dimensions\": {\"model\": 26, \"Host\": \"algo-1\", \"Operation\": \"training\", \"Algorithm\": \"Linear Learner\", \"epoch\": 2}, \"StartTime\": 1514980647.689006}\n",
      "\u001b[0m\n",
      "\u001b[31m#metrics {\"Metrics\": {\"training_binary_classification_cross_entropy\": {\"count\": 1, \"max\": 0.01335376985981816, \"sum\": 0.01335376985981816, \"min\": 0.01335376985981816}, \"validation_binary_classification_cross_entropy\": {\"count\": 1, \"max\": -Infinity, \"sum\": NaN, \"min\": Infinity}}, \"EndTime\": 1514980647.689088, \"Dimensions\": {\"model\": 27, \"Host\": \"algo-1\", \"Operation\": \"training\", \"Algorithm\": \"Linear Learner\", \"epoch\": 2}, \"StartTime\": 1514980647.689074}\n",
      "\u001b[0m\n",
      "\u001b[31m#metrics {\"Metrics\": {\"training_binary_classification_cross_entropy\": {\"count\": 1, \"max\": 0.013315995632119005, \"sum\": 0.013315995632119005, \"min\": 0.013315995632119005}, \"validation_binary_classification_cross_entropy\": {\"count\": 1, \"max\": -Infinity, \"sum\": NaN, \"min\": Infinity}}, \"EndTime\": 1514980647.689141, \"Dimensions\": {\"model\": 28, \"Host\": \"algo-1\", \"Operation\": \"training\", \"Algorithm\": \"Linear Learner\", \"epoch\": 2}, \"StartTime\": 1514980647.689121}\n",
      "\u001b[0m\n",
      "\u001b[31m#metrics {\"Metrics\": {\"training_binary_classification_cross_entropy\": {\"count\": 1, \"max\": 0.013391741744441087, \"sum\": 0.013391741744441087, \"min\": 0.013391741744441087}, \"validation_binary_classification_cross_entropy\": {\"count\": 1, \"max\": -Infinity, \"sum\": NaN, \"min\": Infinity}}, \"EndTime\": 1514980647.689199, \"Dimensions\": {\"model\": 29, \"Host\": \"algo-1\", \"Operation\": \"training\", \"Algorithm\": \"Linear Learner\", \"epoch\": 2}, \"StartTime\": 1514980647.689179}\n",
      "\u001b[0m\n",
      "\u001b[31m#metrics {\"Metrics\": {\"training_binary_classification_cross_entropy\": {\"count\": 1, \"max\": 0.013313935560804619, \"sum\": 0.013313935560804619, \"min\": 0.013313935560804619}, \"validation_binary_classification_cross_entropy\": {\"count\": 1, \"max\": -Infinity, \"sum\": NaN, \"min\": Infinity}}, \"EndTime\": 1514980647.689263, \"Dimensions\": {\"model\": 30, \"Host\": \"algo-1\", \"Operation\": \"training\", \"Algorithm\": \"Linear Learner\", \"epoch\": 2}, \"StartTime\": 1514980647.689243}\n",
      "\u001b[0m\n",
      "\u001b[31m#metrics {\"Metrics\": {\"training_binary_classification_cross_entropy\": {\"count\": 1, \"max\": 0.013405733218359863, \"sum\": 0.013405733218359863, \"min\": 0.013405733218359863}, \"validation_binary_classification_cross_entropy\": {\"count\": 1, \"max\": -Infinity, \"sum\": NaN, \"min\": Infinity}}, \"EndTime\": 1514980647.689332, \"Dimensions\": {\"model\": 31, \"Host\": \"algo-1\", \"Operation\": \"training\", \"Algorithm\": \"Linear Learner\", \"epoch\": 2}, \"StartTime\": 1514980647.689311}\n",
      "\u001b[0m\n"
     ]
    },
    {
     "name": "stdout",
     "output_type": "stream",
     "text": [
      "\u001b[31m#metrics {\"Metrics\": {\"training_binary_classification_cross_entropy\": {\"count\": 1, \"max\": 0.0053234232543363505, \"sum\": 0.0053234232543363505, \"min\": 0.0053234232543363505}, \"validation_binary_classification_cross_entropy\": {\"count\": 1, \"max\": -Infinity, \"sum\": NaN, \"min\": Infinity}}, \"EndTime\": 1514980680.974272, \"Dimensions\": {\"model\": 0, \"Host\": \"algo-1\", \"Operation\": \"training\", \"Algorithm\": \"Linear Learner\", \"epoch\": 3}, \"StartTime\": 1514980680.974148}\n",
      "\u001b[0m\n",
      "\u001b[31m#metrics {\"Metrics\": {\"training_binary_classification_cross_entropy\": {\"count\": 1, \"max\": 0.004676577107636236, \"sum\": 0.004676577107636236, \"min\": 0.004676577107636236}, \"validation_binary_classification_cross_entropy\": {\"count\": 1, \"max\": -Infinity, \"sum\": NaN, \"min\": Infinity}}, \"EndTime\": 1514980680.974373, \"Dimensions\": {\"model\": 1, \"Host\": \"algo-1\", \"Operation\": \"training\", \"Algorithm\": \"Linear Learner\", \"epoch\": 3}, \"StartTime\": 1514980680.974356}\n",
      "\u001b[0m\n",
      "\u001b[31m#metrics {\"Metrics\": {\"training_binary_classification_cross_entropy\": {\"count\": 1, \"max\": 0.005319194073594705, \"sum\": 0.005319194073594705, \"min\": 0.005319194073594705}, \"validation_binary_classification_cross_entropy\": {\"count\": 1, \"max\": -Infinity, \"sum\": NaN, \"min\": Infinity}}, \"EndTime\": 1514980680.974446, \"Dimensions\": {\"model\": 2, \"Host\": \"algo-1\", \"Operation\": \"training\", \"Algorithm\": \"Linear Learner\", \"epoch\": 3}, \"StartTime\": 1514980680.974425}\n",
      "\u001b[0m\n",
      "\u001b[31m#metrics {\"Metrics\": {\"training_binary_classification_cross_entropy\": {\"count\": 1, \"max\": 0.004673066601087393, \"sum\": 0.004673066601087393, \"min\": 0.004673066601087393}, \"validation_binary_classification_cross_entropy\": {\"count\": 1, \"max\": -Infinity, \"sum\": NaN, \"min\": Infinity}}, \"EndTime\": 1514980680.974495, \"Dimensions\": {\"model\": 3, \"Host\": \"algo-1\", \"Operation\": \"training\", \"Algorithm\": \"Linear Learner\", \"epoch\": 3}, \"StartTime\": 1514980680.974482}\n",
      "\u001b[0m\n",
      "\u001b[31m#metrics {\"Metrics\": {\"training_binary_classification_cross_entropy\": {\"count\": 1, \"max\": 0.005160092595305983, \"sum\": 0.005160092595305983, \"min\": 0.005160092595305983}, \"validation_binary_classification_cross_entropy\": {\"count\": 1, \"max\": -Infinity, \"sum\": NaN, \"min\": Infinity}}, \"EndTime\": 1514980680.974537, \"Dimensions\": {\"model\": 4, \"Host\": \"algo-1\", \"Operation\": \"training\", \"Algorithm\": \"Linear Learner\", \"epoch\": 3}, \"StartTime\": 1514980680.974525}\n",
      "\u001b[0m\n",
      "\u001b[31m#metrics {\"Metrics\": {\"training_binary_classification_cross_entropy\": {\"count\": 1, \"max\": 0.00830992875653882, \"sum\": 0.00830992875653882, \"min\": 0.00830992875653882}, \"validation_binary_classification_cross_entropy\": {\"count\": 1, \"max\": -Infinity, \"sum\": NaN, \"min\": Infinity}}, \"EndTime\": 1514980680.974596, \"Dimensions\": {\"model\": 5, \"Host\": \"algo-1\", \"Operation\": \"training\", \"Algorithm\": \"Linear Learner\", \"epoch\": 3}, \"StartTime\": 1514980680.974576}\n",
      "\u001b[0m\n",
      "\u001b[31m#metrics {\"Metrics\": {\"training_binary_classification_cross_entropy\": {\"count\": 1, \"max\": 0.004995242559375019, \"sum\": 0.004995242559375019, \"min\": 0.004995242559375019}, \"validation_binary_classification_cross_entropy\": {\"count\": 1, \"max\": -Infinity, \"sum\": NaN, \"min\": Infinity}}, \"EndTime\": 1514980680.974643, \"Dimensions\": {\"model\": 6, \"Host\": \"algo-1\", \"Operation\": \"training\", \"Algorithm\": \"Linear Learner\", \"epoch\": 3}, \"StartTime\": 1514980680.974631}\n",
      "\u001b[0m\n",
      "\u001b[31m#metrics {\"Metrics\": {\"training_binary_classification_cross_entropy\": {\"count\": 1, \"max\": 0.008040973649498465, \"sum\": 0.008040973649498465, \"min\": 0.008040973649498465}, \"validation_binary_classification_cross_entropy\": {\"count\": 1, \"max\": -Infinity, \"sum\": NaN, \"min\": Infinity}}, \"EndTime\": 1514980680.974684, \"Dimensions\": {\"model\": 7, \"Host\": \"algo-1\", \"Operation\": \"training\", \"Algorithm\": \"Linear Learner\", \"epoch\": 3}, \"StartTime\": 1514980680.974672}\n",
      "\u001b[0m\n",
      "\u001b[31m#metrics {\"Metrics\": {\"training_binary_classification_cross_entropy\": {\"count\": 1, \"max\": 0.005909575719290371, \"sum\": 0.005909575719290371, \"min\": 0.005909575719290371}, \"validation_binary_classification_cross_entropy\": {\"count\": 1, \"max\": -Infinity, \"sum\": NaN, \"min\": Infinity}}, \"EndTime\": 1514980680.974741, \"Dimensions\": {\"model\": 8, \"Host\": \"algo-1\", \"Operation\": \"training\", \"Algorithm\": \"Linear Learner\", \"epoch\": 3}, \"StartTime\": 1514980680.974723}\n",
      "\u001b[0m\n",
      "\u001b[31m#metrics {\"Metrics\": {\"training_binary_classification_cross_entropy\": {\"count\": 1, \"max\": 0.005377668204174248, \"sum\": 0.005377668204174248, \"min\": 0.005377668204174248}, \"validation_binary_classification_cross_entropy\": {\"count\": 1, \"max\": -Infinity, \"sum\": NaN, \"min\": Infinity}}, \"EndTime\": 1514980680.974808, \"Dimensions\": {\"model\": 9, \"Host\": \"algo-1\", \"Operation\": \"training\", \"Algorithm\": \"Linear Learner\", \"epoch\": 3}, \"StartTime\": 1514980680.974789}\n",
      "\u001b[0m\n",
      "\u001b[31m#metrics {\"Metrics\": {\"training_binary_classification_cross_entropy\": {\"count\": 1, \"max\": 0.005907890098889203, \"sum\": 0.005907890098889203, \"min\": 0.005907890098889203}, \"validation_binary_classification_cross_entropy\": {\"count\": 1, \"max\": -Infinity, \"sum\": NaN, \"min\": Infinity}}, \"EndTime\": 1514980680.974871, \"Dimensions\": {\"model\": 10, \"Host\": \"algo-1\", \"Operation\": \"training\", \"Algorithm\": \"Linear Learner\", \"epoch\": 3}, \"StartTime\": 1514980680.974851}\n",
      "\u001b[0m\n",
      "\u001b[31m#metrics {\"Metrics\": {\"training_binary_classification_cross_entropy\": {\"count\": 1, \"max\": 0.005377351529547286, \"sum\": 0.005377351529547286, \"min\": 0.005377351529547286}, \"validation_binary_classification_cross_entropy\": {\"count\": 1, \"max\": -Infinity, \"sum\": NaN, \"min\": Infinity}}, \"EndTime\": 1514980680.974942, \"Dimensions\": {\"model\": 11, \"Host\": \"algo-1\", \"Operation\": \"training\", \"Algorithm\": \"Linear Learner\", \"epoch\": 3}, \"StartTime\": 1514980680.97492}\n",
      "\u001b[0m\n",
      "\u001b[31m#metrics {\"Metrics\": {\"training_binary_classification_cross_entropy\": {\"count\": 1, \"max\": 0.005493487510830164, \"sum\": 0.005493487510830164, \"min\": 0.005493487510830164}, \"validation_binary_classification_cross_entropy\": {\"count\": 1, \"max\": -Infinity, \"sum\": NaN, \"min\": Infinity}}, \"EndTime\": 1514980680.974995, \"Dimensions\": {\"model\": 12, \"Host\": \"algo-1\", \"Operation\": \"training\", \"Algorithm\": \"Linear Learner\", \"epoch\": 3}, \"StartTime\": 1514980680.974977}\n",
      "\u001b[0m\n",
      "\u001b[31m#metrics {\"Metrics\": {\"training_binary_classification_cross_entropy\": {\"count\": 1, \"max\": 0.007582771521229602, \"sum\": 0.007582771521229602, \"min\": 0.007582771521229602}, \"validation_binary_classification_cross_entropy\": {\"count\": 1, \"max\": -Infinity, \"sum\": NaN, \"min\": Infinity}}, \"EndTime\": 1514980680.975065, \"Dimensions\": {\"model\": 13, \"Host\": \"algo-1\", \"Operation\": \"training\", \"Algorithm\": \"Linear Learner\", \"epoch\": 3}, \"StartTime\": 1514980680.975044}\n",
      "\u001b[0m\n",
      "\u001b[31m#metrics {\"Metrics\": {\"training_binary_classification_cross_entropy\": {\"count\": 1, \"max\": 0.005493157423544125, \"sum\": 0.005493157423544125, \"min\": 0.005493157423544125}, \"validation_binary_classification_cross_entropy\": {\"count\": 1, \"max\": -Infinity, \"sum\": NaN, \"min\": Infinity}}, \"EndTime\": 1514980680.975138, \"Dimensions\": {\"model\": 14, \"Host\": \"algo-1\", \"Operation\": \"training\", \"Algorithm\": \"Linear Learner\", \"epoch\": 3}, \"StartTime\": 1514980680.975116}\n",
      "\u001b[0m\n",
      "\u001b[31m#metrics {\"Metrics\": {\"training_binary_classification_cross_entropy\": {\"count\": 1, \"max\": 0.00748539314587847, \"sum\": 0.00748539314587847, \"min\": 0.00748539314587847}, \"validation_binary_classification_cross_entropy\": {\"count\": 1, \"max\": -Infinity, \"sum\": NaN, \"min\": Infinity}}, \"EndTime\": 1514980680.975212, \"Dimensions\": {\"model\": 15, \"Host\": \"algo-1\", \"Operation\": \"training\", \"Algorithm\": \"Linear Learner\", \"epoch\": 3}, \"StartTime\": 1514980680.97519}\n",
      "\u001b[0m\n",
      "\u001b[31m#metrics {\"Metrics\": {\"training_binary_classification_cross_entropy\": {\"count\": 1, \"max\": 0.012401749960362772, \"sum\": 0.012401749960362772, \"min\": 0.012401749960362772}, \"validation_binary_classification_cross_entropy\": {\"count\": 1, \"max\": -Infinity, \"sum\": NaN, \"min\": Infinity}}, \"EndTime\": 1514980680.975283, \"Dimensions\": {\"model\": 16, \"Host\": \"algo-1\", \"Operation\": \"training\", \"Algorithm\": \"Linear Learner\", \"epoch\": 3}, \"StartTime\": 1514980680.975261}\n",
      "\u001b[0m\n",
      "\u001b[31m#metrics {\"Metrics\": {\"training_binary_classification_cross_entropy\": {\"count\": 1, \"max\": 0.012220567544219924, \"sum\": 0.012220567544219924, \"min\": 0.012220567544219924}, \"validation_binary_classification_cross_entropy\": {\"count\": 1, \"max\": -Infinity, \"sum\": NaN, \"min\": Infinity}}, \"EndTime\": 1514980680.975341, \"Dimensions\": {\"model\": 17, \"Host\": \"algo-1\", \"Operation\": \"training\", \"Algorithm\": \"Linear Learner\", \"epoch\": 3}, \"StartTime\": 1514980680.975327}\n",
      "\u001b[0m\n",
      "\u001b[31m#metrics {\"Metrics\": {\"training_binary_classification_cross_entropy\": {\"count\": 1, \"max\": 0.012402340691772222, \"sum\": 0.012402340691772222, \"min\": 0.012402340691772222}, \"validation_binary_classification_cross_entropy\": {\"count\": 1, \"max\": -Infinity, \"sum\": NaN, \"min\": Infinity}}, \"EndTime\": 1514980680.975401, \"Dimensions\": {\"model\": 18, \"Host\": \"algo-1\", \"Operation\": \"training\", \"Algorithm\": \"Linear Learner\", \"epoch\": 3}, \"StartTime\": 1514980680.975386}\n",
      "\u001b[0m\n",
      "\u001b[31m#metrics {\"Metrics\": {\"training_binary_classification_cross_entropy\": {\"count\": 1, \"max\": 0.012220491121328966, \"sum\": 0.012220491121328966, \"min\": 0.012220491121328966}, \"validation_binary_classification_cross_entropy\": {\"count\": 1, \"max\": -Infinity, \"sum\": NaN, \"min\": Infinity}}, \"EndTime\": 1514980680.975461, \"Dimensions\": {\"model\": 19, \"Host\": \"algo-1\", \"Operation\": \"training\", \"Algorithm\": \"Linear Learner\", \"epoch\": 3}, \"StartTime\": 1514980680.975445}\n",
      "\u001b[0m\n",
      "\u001b[31m#metrics {\"Metrics\": {\"training_binary_classification_cross_entropy\": {\"count\": 1, \"max\": 0.01224828377418412, \"sum\": 0.01224828377418412, \"min\": 0.01224828377418412}, \"validation_binary_classification_cross_entropy\": {\"count\": 1, \"max\": -Infinity, \"sum\": NaN, \"min\": Infinity}}, \"EndTime\": 1514980680.975523, \"Dimensions\": {\"model\": 20, \"Host\": \"algo-1\", \"Operation\": \"training\", \"Algorithm\": \"Linear Learner\", \"epoch\": 3}, \"StartTime\": 1514980680.975502}\n",
      "\u001b[0m\n",
      "\u001b[31m#metrics {\"Metrics\": {\"training_binary_classification_cross_entropy\": {\"count\": 1, \"max\": 0.012519072301127452, \"sum\": 0.012519072301127452, \"min\": 0.012519072301127452}, \"validation_binary_classification_cross_entropy\": {\"count\": 1, \"max\": -Infinity, \"sum\": NaN, \"min\": Infinity}}, \"EndTime\": 1514980680.975597, \"Dimensions\": {\"model\": 21, \"Host\": \"algo-1\", \"Operation\": \"training\", \"Algorithm\": \"Linear Learner\", \"epoch\": 3}, \"StartTime\": 1514980680.975572}\n",
      "\u001b[0m\n",
      "\u001b[31m#metrics {\"Metrics\": {\"training_binary_classification_cross_entropy\": {\"count\": 1, \"max\": 0.012248287754661165, \"sum\": 0.012248287754661165, \"min\": 0.012248287754661165}, \"validation_binary_classification_cross_entropy\": {\"count\": 1, \"max\": -Infinity, \"sum\": NaN, \"min\": Infinity}}, \"EndTime\": 1514980680.975667, \"Dimensions\": {\"model\": 22, \"Host\": \"algo-1\", \"Operation\": \"training\", \"Algorithm\": \"Linear Learner\", \"epoch\": 3}, \"StartTime\": 1514980680.975645}\n",
      "\u001b[0m\n",
      "\u001b[31m#metrics {\"Metrics\": {\"training_binary_classification_cross_entropy\": {\"count\": 1, \"max\": 0.01252164929516317, \"sum\": 0.01252164929516317, \"min\": 0.01252164929516317}, \"validation_binary_classification_cross_entropy\": {\"count\": 1, \"max\": -Infinity, \"sum\": NaN, \"min\": Infinity}}, \"EndTime\": 1514980680.975726, \"Dimensions\": {\"model\": 23, \"Host\": \"algo-1\", \"Operation\": \"training\", \"Algorithm\": \"Linear Learner\", \"epoch\": 3}, \"StartTime\": 1514980680.975712}\n",
      "\u001b[0m\n",
      "\u001b[31m#metrics {\"Metrics\": {\"training_binary_classification_cross_entropy\": {\"count\": 1, \"max\": 0.013393407288144846, \"sum\": 0.013393407288144846, \"min\": 0.013393407288144846}, \"validation_binary_classification_cross_entropy\": {\"count\": 1, \"max\": -Infinity, \"sum\": NaN, \"min\": Infinity}}, \"EndTime\": 1514980680.975776, \"Dimensions\": {\"model\": 24, \"Host\": \"algo-1\", \"Operation\": \"training\", \"Algorithm\": \"Linear Learner\", \"epoch\": 3}, \"StartTime\": 1514980680.975757}\n",
      "\u001b[0m\n",
      "\u001b[31m#metrics {\"Metrics\": {\"training_binary_classification_cross_entropy\": {\"count\": 1, \"max\": 0.01326218520851688, \"sum\": 0.01326218520851688, \"min\": 0.01326218520851688}, \"validation_binary_classification_cross_entropy\": {\"count\": 1, \"max\": -Infinity, \"sum\": NaN, \"min\": Infinity}}, \"EndTime\": 1514980680.975843, \"Dimensions\": {\"model\": 25, \"Host\": \"algo-1\", \"Operation\": \"training\", \"Algorithm\": \"Linear Learner\", \"epoch\": 3}, \"StartTime\": 1514980680.97583}\n",
      "\u001b[0m\n",
      "\u001b[31m#metrics {\"Metrics\": {\"training_binary_classification_cross_entropy\": {\"count\": 1, \"max\": 0.013391858311042852, \"sum\": 0.013391858311042852, \"min\": 0.013391858311042852}, \"validation_binary_classification_cross_entropy\": {\"count\": 1, \"max\": -Infinity, \"sum\": NaN, \"min\": Infinity}}, \"EndTime\": 1514980680.975884, \"Dimensions\": {\"model\": 26, \"Host\": \"algo-1\", \"Operation\": \"training\", \"Algorithm\": \"Linear Learner\", \"epoch\": 3}, \"StartTime\": 1514980680.975873}\n",
      "\u001b[0m\n",
      "\u001b[31m#metrics {\"Metrics\": {\"training_binary_classification_cross_entropy\": {\"count\": 1, \"max\": 0.013263066690022548, \"sum\": 0.013263066690022548, \"min\": 0.013263066690022548}, \"validation_binary_classification_cross_entropy\": {\"count\": 1, \"max\": -Infinity, \"sum\": NaN, \"min\": Infinity}}, \"EndTime\": 1514980680.975934, \"Dimensions\": {\"model\": 27, \"Host\": \"algo-1\", \"Operation\": \"training\", \"Algorithm\": \"Linear Learner\", \"epoch\": 3}, \"StartTime\": 1514980680.975914}\n",
      "\u001b[0m\n",
      "\u001b[31m#metrics {\"Metrics\": {\"training_binary_classification_cross_entropy\": {\"count\": 1, \"max\": 0.01329256292153368, \"sum\": 0.01329256292153368, \"min\": 0.01329256292153368}, \"validation_binary_classification_cross_entropy\": {\"count\": 1, \"max\": -Infinity, \"sum\": NaN, \"min\": Infinity}}, \"EndTime\": 1514980680.976003, \"Dimensions\": {\"model\": 28, \"Host\": \"algo-1\", \"Operation\": \"training\", \"Algorithm\": \"Linear Learner\", \"epoch\": 3}, \"StartTime\": 1514980680.975981}\n",
      "\u001b[0m\n",
      "\u001b[31m#metrics {\"Metrics\": {\"training_binary_classification_cross_entropy\": {\"count\": 1, \"max\": 0.013455276405526025, \"sum\": 0.013455276405526025, \"min\": 0.013455276405526025}, \"validation_binary_classification_cross_entropy\": {\"count\": 1, \"max\": -Infinity, \"sum\": NaN, \"min\": Infinity}}, \"EndTime\": 1514980680.976074, \"Dimensions\": {\"model\": 29, \"Host\": \"algo-1\", \"Operation\": \"training\", \"Algorithm\": \"Linear Learner\", \"epoch\": 3}, \"StartTime\": 1514980680.976052}\n",
      "\u001b[0m\n",
      "\u001b[31m#metrics {\"Metrics\": {\"training_binary_classification_cross_entropy\": {\"count\": 1, \"max\": 0.013292390748038365, \"sum\": 0.013292390748038365, \"min\": 0.013292390748038365}, \"validation_binary_classification_cross_entropy\": {\"count\": 1, \"max\": -Infinity, \"sum\": NaN, \"min\": Infinity}}, \"EndTime\": 1514980680.976145, \"Dimensions\": {\"model\": 30, \"Host\": \"algo-1\", \"Operation\": \"training\", \"Algorithm\": \"Linear Learner\", \"epoch\": 3}, \"StartTime\": 1514980680.976122}\n",
      "\u001b[0m\n",
      "\u001b[31m#metrics {\"Metrics\": {\"training_binary_classification_cross_entropy\": {\"count\": 1, \"max\": 0.013461415377495683, \"sum\": 0.013461415377495683, \"min\": 0.013461415377495683}, \"validation_binary_classification_cross_entropy\": {\"count\": 1, \"max\": -Infinity, \"sum\": NaN, \"min\": Infinity}}, \"EndTime\": 1514980680.976222, \"Dimensions\": {\"model\": 31, \"Host\": \"algo-1\", \"Operation\": \"training\", \"Algorithm\": \"Linear Learner\", \"epoch\": 3}, \"StartTime\": 1514980680.9762}\n",
      "\u001b[0m\n"
     ]
    },
    {
     "name": "stdout",
     "output_type": "stream",
     "text": [
      "\u001b[31m#metrics {\"Metrics\": {\"training_binary_classification_cross_entropy\": {\"count\": 1, \"max\": 0.005038821134864586, \"sum\": 0.005038821134864586, \"min\": 0.005038821134864586}, \"validation_binary_classification_cross_entropy\": {\"count\": 1, \"max\": -Infinity, \"sum\": NaN, \"min\": Infinity}}, \"EndTime\": 1514980714.288892, \"Dimensions\": {\"model\": 0, \"Host\": \"algo-1\", \"Operation\": \"training\", \"Algorithm\": \"Linear Learner\", \"epoch\": 4}, \"StartTime\": 1514980714.288779}\n",
      "\u001b[0m\n",
      "\u001b[31m#metrics {\"Metrics\": {\"training_binary_classification_cross_entropy\": {\"count\": 1, \"max\": 0.004552188813904479, \"sum\": 0.004552188813904479, \"min\": 0.004552188813904479}, \"validation_binary_classification_cross_entropy\": {\"count\": 1, \"max\": -Infinity, \"sum\": NaN, \"min\": Infinity}}, \"EndTime\": 1514980714.289005, \"Dimensions\": {\"model\": 1, \"Host\": \"algo-1\", \"Operation\": \"training\", \"Algorithm\": \"Linear Learner\", \"epoch\": 4}, \"StartTime\": 1514980714.288981}\n",
      "\u001b[0m\n",
      "\u001b[31m#metrics {\"Metrics\": {\"training_binary_classification_cross_entropy\": {\"count\": 1, \"max\": 0.0050351845216555675, \"sum\": 0.0050351845216555675, \"min\": 0.0050351845216555675}, \"validation_binary_classification_cross_entropy\": {\"count\": 1, \"max\": -Infinity, \"sum\": NaN, \"min\": Infinity}}, \"EndTime\": 1514980714.289069, \"Dimensions\": {\"model\": 2, \"Host\": \"algo-1\", \"Operation\": \"training\", \"Algorithm\": \"Linear Learner\", \"epoch\": 4}, \"StartTime\": 1514980714.28905}\n",
      "\u001b[0m\n",
      "\u001b[31m#metrics {\"Metrics\": {\"training_binary_classification_cross_entropy\": {\"count\": 1, \"max\": 0.004550861586321503, \"sum\": 0.004550861586321503, \"min\": 0.004550861586321503}, \"validation_binary_classification_cross_entropy\": {\"count\": 1, \"max\": -Infinity, \"sum\": NaN, \"min\": Infinity}}, \"EndTime\": 1514980714.289126, \"Dimensions\": {\"model\": 3, \"Host\": \"algo-1\", \"Operation\": \"training\", \"Algorithm\": \"Linear Learner\", \"epoch\": 4}, \"StartTime\": 1514980714.289106}\n",
      "\u001b[0m\n",
      "\u001b[31m#metrics {\"Metrics\": {\"training_binary_classification_cross_entropy\": {\"count\": 1, \"max\": 0.004720547569858944, \"sum\": 0.004720547569858944, \"min\": 0.004720547569858944}, \"validation_binary_classification_cross_entropy\": {\"count\": 1, \"max\": -Infinity, \"sum\": NaN, \"min\": Infinity}}, \"EndTime\": 1514980714.289182, \"Dimensions\": {\"model\": 4, \"Host\": \"algo-1\", \"Operation\": \"training\", \"Algorithm\": \"Linear Learner\", \"epoch\": 4}, \"StartTime\": 1514980714.289162}\n",
      "\u001b[0m\n",
      "\u001b[31m#metrics {\"Metrics\": {\"training_binary_classification_cross_entropy\": {\"count\": 1, \"max\": 0.007451875413225722, \"sum\": 0.007451875413225722, \"min\": 0.007451875413225722}, \"validation_binary_classification_cross_entropy\": {\"count\": 1, \"max\": -Infinity, \"sum\": NaN, \"min\": Infinity}}, \"EndTime\": 1514980714.289248, \"Dimensions\": {\"model\": 5, \"Host\": \"algo-1\", \"Operation\": \"training\", \"Algorithm\": \"Linear Learner\", \"epoch\": 4}, \"StartTime\": 1514980714.289227}\n",
      "\u001b[0m\n",
      "\u001b[31m#metrics {\"Metrics\": {\"training_binary_classification_cross_entropy\": {\"count\": 1, \"max\": 0.004623942228527063, \"sum\": 0.004623942228527063, \"min\": 0.004623942228527063}, \"validation_binary_classification_cross_entropy\": {\"count\": 1, \"max\": -Infinity, \"sum\": NaN, \"min\": Infinity}}, \"EndTime\": 1514980714.289302, \"Dimensions\": {\"model\": 6, \"Host\": \"algo-1\", \"Operation\": \"training\", \"Algorithm\": \"Linear Learner\", \"epoch\": 4}, \"StartTime\": 1514980714.289282}\n",
      "\u001b[0m\n",
      "\u001b[31m#metrics {\"Metrics\": {\"training_binary_classification_cross_entropy\": {\"count\": 1, \"max\": 0.008413585309478763, \"sum\": 0.008413585309478763, \"min\": 0.008413585309478763}, \"validation_binary_classification_cross_entropy\": {\"count\": 1, \"max\": -Infinity, \"sum\": NaN, \"min\": Infinity}}, \"EndTime\": 1514980714.289368, \"Dimensions\": {\"model\": 7, \"Host\": \"algo-1\", \"Operation\": \"training\", \"Algorithm\": \"Linear Learner\", \"epoch\": 4}, \"StartTime\": 1514980714.289348}\n",
      "\u001b[0m\n",
      "\u001b[31m#metrics {\"Metrics\": {\"training_binary_classification_cross_entropy\": {\"count\": 1, \"max\": 0.005692374532654079, \"sum\": 0.005692374532654079, \"min\": 0.005692374532654079}, \"validation_binary_classification_cross_entropy\": {\"count\": 1, \"max\": -Infinity, \"sum\": NaN, \"min\": Infinity}}, \"EndTime\": 1514980714.289438, \"Dimensions\": {\"model\": 8, \"Host\": \"algo-1\", \"Operation\": \"training\", \"Algorithm\": \"Linear Learner\", \"epoch\": 4}, \"StartTime\": 1514980714.289416}\n",
      "\u001b[0m\n",
      "\u001b[31m#metrics {\"Metrics\": {\"training_binary_classification_cross_entropy\": {\"count\": 1, \"max\": 0.005305740973133533, \"sum\": 0.005305740973133533, \"min\": 0.005305740973133533}, \"validation_binary_classification_cross_entropy\": {\"count\": 1, \"max\": -Infinity, \"sum\": NaN, \"min\": Infinity}}, \"EndTime\": 1514980714.289511, \"Dimensions\": {\"model\": 9, \"Host\": \"algo-1\", \"Operation\": \"training\", \"Algorithm\": \"Linear Learner\", \"epoch\": 4}, \"StartTime\": 1514980714.28949}\n",
      "\u001b[0m\n",
      "\u001b[31m#metrics {\"Metrics\": {\"training_binary_classification_cross_entropy\": {\"count\": 1, \"max\": 0.005691219420113385, \"sum\": 0.005691219420113385, \"min\": 0.005691219420113385}, \"validation_binary_classification_cross_entropy\": {\"count\": 1, \"max\": -Infinity, \"sum\": NaN, \"min\": Infinity}}, \"EndTime\": 1514980714.289575, \"Dimensions\": {\"model\": 10, \"Host\": \"algo-1\", \"Operation\": \"training\", \"Algorithm\": \"Linear Learner\", \"epoch\": 4}, \"StartTime\": 1514980714.289555}\n",
      "\u001b[0m\n",
      "\u001b[31m#metrics {\"Metrics\": {\"training_binary_classification_cross_entropy\": {\"count\": 1, \"max\": 0.00530566794793416, \"sum\": 0.00530566794793416, \"min\": 0.00530566794793416}, \"validation_binary_classification_cross_entropy\": {\"count\": 1, \"max\": -Infinity, \"sum\": NaN, \"min\": Infinity}}, \"EndTime\": 1514980714.289642, \"Dimensions\": {\"model\": 11, \"Host\": \"algo-1\", \"Operation\": \"training\", \"Algorithm\": \"Linear Learner\", \"epoch\": 4}, \"StartTime\": 1514980714.289622}\n",
      "\u001b[0m\n",
      "\u001b[31m#metrics {\"Metrics\": {\"training_binary_classification_cross_entropy\": {\"count\": 1, \"max\": 0.005345330708932821, \"sum\": 0.005345330708932821, \"min\": 0.005345330708932821}, \"validation_binary_classification_cross_entropy\": {\"count\": 1, \"max\": -Infinity, \"sum\": NaN, \"min\": Infinity}}, \"EndTime\": 1514980714.289713, \"Dimensions\": {\"model\": 12, \"Host\": \"algo-1\", \"Operation\": \"training\", \"Algorithm\": \"Linear Learner\", \"epoch\": 4}, \"StartTime\": 1514980714.289692}\n",
      "\u001b[0m\n",
      "\u001b[31m#metrics {\"Metrics\": {\"training_binary_classification_cross_entropy\": {\"count\": 1, \"max\": 0.006947225218211285, \"sum\": 0.006947225218211285, \"min\": 0.006947225218211285}, \"validation_binary_classification_cross_entropy\": {\"count\": 1, \"max\": -Infinity, \"sum\": NaN, \"min\": Infinity}}, \"EndTime\": 1514980714.28978, \"Dimensions\": {\"model\": 13, \"Host\": \"algo-1\", \"Operation\": \"training\", \"Algorithm\": \"Linear Learner\", \"epoch\": 4}, \"StartTime\": 1514980714.289764}\n",
      "\u001b[0m\n",
      "\u001b[31m#metrics {\"Metrics\": {\"training_binary_classification_cross_entropy\": {\"count\": 1, \"max\": 0.005345136369611257, \"sum\": 0.005345136369611257, \"min\": 0.005345136369611257}, \"validation_binary_classification_cross_entropy\": {\"count\": 1, \"max\": -Infinity, \"sum\": NaN, \"min\": Infinity}}, \"EndTime\": 1514980714.289837, \"Dimensions\": {\"model\": 14, \"Host\": \"algo-1\", \"Operation\": \"training\", \"Algorithm\": \"Linear Learner\", \"epoch\": 4}, \"StartTime\": 1514980714.289821}\n",
      "\u001b[0m\n",
      "\u001b[31m#metrics {\"Metrics\": {\"training_binary_classification_cross_entropy\": {\"count\": 1, \"max\": 0.007026422713126385, \"sum\": 0.007026422713126385, \"min\": 0.007026422713126385}, \"validation_binary_classification_cross_entropy\": {\"count\": 1, \"max\": -Infinity, \"sum\": NaN, \"min\": Infinity}}, \"EndTime\": 1514980714.289904, \"Dimensions\": {\"model\": 15, \"Host\": \"algo-1\", \"Operation\": \"training\", \"Algorithm\": \"Linear Learner\", \"epoch\": 4}, \"StartTime\": 1514980714.289883}\n",
      "\u001b[0m\n",
      "\u001b[31m#metrics {\"Metrics\": {\"training_binary_classification_cross_entropy\": {\"count\": 1, \"max\": 0.012328642352159185, \"sum\": 0.012328642352159185, \"min\": 0.012328642352159185}, \"validation_binary_classification_cross_entropy\": {\"count\": 1, \"max\": -Infinity, \"sum\": NaN, \"min\": Infinity}}, \"EndTime\": 1514980714.289973, \"Dimensions\": {\"model\": 16, \"Host\": \"algo-1\", \"Operation\": \"training\", \"Algorithm\": \"Linear Learner\", \"epoch\": 4}, \"StartTime\": 1514980714.289952}\n",
      "\u001b[0m\n",
      "\u001b[31m#metrics {\"Metrics\": {\"training_binary_classification_cross_entropy\": {\"count\": 1, \"max\": 0.012221828625478565, \"sum\": 0.012221828625478565, \"min\": 0.012221828625478565}, \"validation_binary_classification_cross_entropy\": {\"count\": 1, \"max\": -Infinity, \"sum\": NaN, \"min\": Infinity}}, \"EndTime\": 1514980714.290044, \"Dimensions\": {\"model\": 17, \"Host\": \"algo-1\", \"Operation\": \"training\", \"Algorithm\": \"Linear Learner\", \"epoch\": 4}, \"StartTime\": 1514980714.290021}\n",
      "\u001b[0m\n",
      "\u001b[31m#metrics {\"Metrics\": {\"training_binary_classification_cross_entropy\": {\"count\": 1, \"max\": 0.012328961800600662, \"sum\": 0.012328961800600662, \"min\": 0.012328961800600662}, \"validation_binary_classification_cross_entropy\": {\"count\": 1, \"max\": -Infinity, \"sum\": NaN, \"min\": Infinity}}, \"EndTime\": 1514980714.290111, \"Dimensions\": {\"model\": 18, \"Host\": \"algo-1\", \"Operation\": \"training\", \"Algorithm\": \"Linear Learner\", \"epoch\": 4}, \"StartTime\": 1514980714.29009}\n",
      "\u001b[0m\n",
      "\u001b[31m#metrics {\"Metrics\": {\"training_binary_classification_cross_entropy\": {\"count\": 1, \"max\": 0.01222179858498188, \"sum\": 0.01222179858498188, \"min\": 0.01222179858498188}, \"validation_binary_classification_cross_entropy\": {\"count\": 1, \"max\": -Infinity, \"sum\": NaN, \"min\": Infinity}}, \"EndTime\": 1514980714.29018, \"Dimensions\": {\"model\": 19, \"Host\": \"algo-1\", \"Operation\": \"training\", \"Algorithm\": \"Linear Learner\", \"epoch\": 4}, \"StartTime\": 1514980714.290164}\n",
      "\u001b[0m\n",
      "\u001b[31m#metrics {\"Metrics\": {\"training_binary_classification_cross_entropy\": {\"count\": 1, \"max\": 0.012222216085419582, \"sum\": 0.012222216085419582, \"min\": 0.012222216085419582}, \"validation_binary_classification_cross_entropy\": {\"count\": 1, \"max\": -Infinity, \"sum\": NaN, \"min\": Infinity}}, \"EndTime\": 1514980714.290223, \"Dimensions\": {\"model\": 20, \"Host\": \"algo-1\", \"Operation\": \"training\", \"Algorithm\": \"Linear Learner\", \"epoch\": 4}, \"StartTime\": 1514980714.290212}\n",
      "\u001b[0m\n",
      "\u001b[31m#metrics {\"Metrics\": {\"training_binary_classification_cross_entropy\": {\"count\": 1, \"max\": 0.012600914449158366, \"sum\": 0.012600914449158366, \"min\": 0.012600914449158366}, \"validation_binary_classification_cross_entropy\": {\"count\": 1, \"max\": -Infinity, \"sum\": NaN, \"min\": Infinity}}, \"EndTime\": 1514980714.290264, \"Dimensions\": {\"model\": 21, \"Host\": \"algo-1\", \"Operation\": \"training\", \"Algorithm\": \"Linear Learner\", \"epoch\": 4}, \"StartTime\": 1514980714.290252}\n",
      "\u001b[0m\n",
      "\u001b[31m#metrics {\"Metrics\": {\"training_binary_classification_cross_entropy\": {\"count\": 1, \"max\": 0.012222218420923595, \"sum\": 0.012222218420923595, \"min\": 0.012222218420923595}, \"validation_binary_classification_cross_entropy\": {\"count\": 1, \"max\": -Infinity, \"sum\": NaN, \"min\": Infinity}}, \"EndTime\": 1514980714.290324, \"Dimensions\": {\"model\": 22, \"Host\": \"algo-1\", \"Operation\": \"training\", \"Algorithm\": \"Linear Learner\", \"epoch\": 4}, \"StartTime\": 1514980714.290305}\n",
      "\u001b[0m\n",
      "\u001b[31m#metrics {\"Metrics\": {\"training_binary_classification_cross_entropy\": {\"count\": 1, \"max\": 0.012603956190498427, \"sum\": 0.012603956190498427, \"min\": 0.012603956190498427}, \"validation_binary_classification_cross_entropy\": {\"count\": 1, \"max\": -Infinity, \"sum\": NaN, \"min\": Infinity}}, \"EndTime\": 1514980714.290394, \"Dimensions\": {\"model\": 23, \"Host\": \"algo-1\", \"Operation\": \"training\", \"Algorithm\": \"Linear Learner\", \"epoch\": 4}, \"StartTime\": 1514980714.290373}\n",
      "\u001b[0m\n",
      "\u001b[31m#metrics {\"Metrics\": {\"training_binary_classification_cross_entropy\": {\"count\": 1, \"max\": 0.013321551107027213, \"sum\": 0.013321551107027213, \"min\": 0.013321551107027213}, \"validation_binary_classification_cross_entropy\": {\"count\": 1, \"max\": -Infinity, \"sum\": NaN, \"min\": Infinity}}, \"EndTime\": 1514980714.290464, \"Dimensions\": {\"model\": 24, \"Host\": \"algo-1\", \"Operation\": \"training\", \"Algorithm\": \"Linear Learner\", \"epoch\": 4}, \"StartTime\": 1514980714.290443}\n",
      "\u001b[0m\n",
      "\u001b[31m#metrics {\"Metrics\": {\"training_binary_classification_cross_entropy\": {\"count\": 1, \"max\": 0.013263806665460176, \"sum\": 0.013263806665460176, \"min\": 0.013263806665460176}, \"validation_binary_classification_cross_entropy\": {\"count\": 1, \"max\": -Infinity, \"sum\": NaN, \"min\": Infinity}}, \"EndTime\": 1514980714.290533, \"Dimensions\": {\"model\": 25, \"Host\": \"algo-1\", \"Operation\": \"training\", \"Algorithm\": \"Linear Learner\", \"epoch\": 4}, \"StartTime\": 1514980714.290512}\n",
      "\u001b[0m\n",
      "\u001b[31m#metrics {\"Metrics\": {\"training_binary_classification_cross_entropy\": {\"count\": 1, \"max\": 0.013321060288078054, \"sum\": 0.013321060288078054, \"min\": 0.013321060288078054}, \"validation_binary_classification_cross_entropy\": {\"count\": 1, \"max\": -Infinity, \"sum\": NaN, \"min\": Infinity}}, \"EndTime\": 1514980714.290604, \"Dimensions\": {\"model\": 26, \"Host\": \"algo-1\", \"Operation\": \"training\", \"Algorithm\": \"Linear Learner\", \"epoch\": 4}, \"StartTime\": 1514980714.290582}\n",
      "\u001b[0m\n",
      "\u001b[31m#metrics {\"Metrics\": {\"training_binary_classification_cross_entropy\": {\"count\": 1, \"max\": 0.01326426725808435, \"sum\": 0.01326426725808435, \"min\": 0.01326426725808435}, \"validation_binary_classification_cross_entropy\": {\"count\": 1, \"max\": -Infinity, \"sum\": NaN, \"min\": Infinity}}, \"EndTime\": 1514980714.290676, \"Dimensions\": {\"model\": 27, \"Host\": \"algo-1\", \"Operation\": \"training\", \"Algorithm\": \"Linear Learner\", \"epoch\": 4}, \"StartTime\": 1514980714.290654}\n",
      "\u001b[0m\n",
      "\u001b[31m#metrics {\"Metrics\": {\"training_binary_classification_cross_entropy\": {\"count\": 1, \"max\": 0.013274329925518684, \"sum\": 0.013274329925518684, \"min\": 0.013274329925518684}, \"validation_binary_classification_cross_entropy\": {\"count\": 1, \"max\": -Infinity, \"sum\": NaN, \"min\": Infinity}}, \"EndTime\": 1514980714.290753, \"Dimensions\": {\"model\": 28, \"Host\": \"algo-1\", \"Operation\": \"training\", \"Algorithm\": \"Linear Learner\", \"epoch\": 4}, \"StartTime\": 1514980714.290731}\n",
      "\u001b[0m\n",
      "\u001b[31m#metrics {\"Metrics\": {\"training_binary_classification_cross_entropy\": {\"count\": 1, \"max\": 0.013504150324376775, \"sum\": 0.013504150324376775, \"min\": 0.013504150324376775}, \"validation_binary_classification_cross_entropy\": {\"count\": 1, \"max\": -Infinity, \"sum\": NaN, \"min\": Infinity}}, \"EndTime\": 1514980714.290812, \"Dimensions\": {\"model\": 29, \"Host\": \"algo-1\", \"Operation\": \"training\", \"Algorithm\": \"Linear Learner\", \"epoch\": 4}, \"StartTime\": 1514980714.290794}\n",
      "\u001b[0m\n",
      "\u001b[31m#metrics {\"Metrics\": {\"training_binary_classification_cross_entropy\": {\"count\": 1, \"max\": 0.013274913244560116, \"sum\": 0.013274913244560116, \"min\": 0.013274913244560116}, \"validation_binary_classification_cross_entropy\": {\"count\": 1, \"max\": -Infinity, \"sum\": NaN, \"min\": Infinity}}, \"EndTime\": 1514980714.290867, \"Dimensions\": {\"model\": 30, \"Host\": \"algo-1\", \"Operation\": \"training\", \"Algorithm\": \"Linear Learner\", \"epoch\": 4}, \"StartTime\": 1514980714.290851}\n",
      "\u001b[0m\n",
      "\u001b[31m#metrics {\"Metrics\": {\"training_binary_classification_cross_entropy\": {\"count\": 1, \"max\": 0.01351100516730191, \"sum\": 0.01351100516730191, \"min\": 0.01351100516730191}, \"validation_binary_classification_cross_entropy\": {\"count\": 1, \"max\": -Infinity, \"sum\": NaN, \"min\": Infinity}}, \"EndTime\": 1514980714.290934, \"Dimensions\": {\"model\": 31, \"Host\": \"algo-1\", \"Operation\": \"training\", \"Algorithm\": \"Linear Learner\", \"epoch\": 4}, \"StartTime\": 1514980714.290914}\n",
      "\u001b[0m\n"
     ]
    },
    {
     "name": "stdout",
     "output_type": "stream",
     "text": [
      "\u001b[31m#metrics {\"Metrics\": {\"training_binary_classification_cross_entropy\": {\"count\": 1, \"max\": 0.004915164299047523, \"sum\": 0.004915164299047523, \"min\": 0.004915164299047523}, \"validation_binary_classification_cross_entropy\": {\"count\": 1, \"max\": -Infinity, \"sum\": NaN, \"min\": Infinity}}, \"EndTime\": 1514980747.652135, \"Dimensions\": {\"model\": 0, \"Host\": \"algo-1\", \"Operation\": \"training\", \"Algorithm\": \"Linear Learner\", \"epoch\": 5}, \"StartTime\": 1514980747.651718}\n",
      "\u001b[0m\n",
      "\u001b[31m#metrics {\"Metrics\": {\"training_binary_classification_cross_entropy\": {\"count\": 1, \"max\": 0.004478250153066124, \"sum\": 0.004478250153066124, \"min\": 0.004478250153066124}, \"validation_binary_classification_cross_entropy\": {\"count\": 1, \"max\": -Infinity, \"sum\": NaN, \"min\": Infinity}}, \"EndTime\": 1514980747.652246, \"Dimensions\": {\"model\": 1, \"Host\": \"algo-1\", \"Operation\": \"training\", \"Algorithm\": \"Linear Learner\", \"epoch\": 5}, \"StartTime\": 1514980747.652222}\n",
      "\u001b[0m\n",
      "\u001b[31m#metrics {\"Metrics\": {\"training_binary_classification_cross_entropy\": {\"count\": 1, \"max\": 0.004911163515068887, \"sum\": 0.004911163515068887, \"min\": 0.004911163515068887}, \"validation_binary_classification_cross_entropy\": {\"count\": 1, \"max\": -Infinity, \"sum\": NaN, \"min\": Infinity}}, \"EndTime\": 1514980747.652313, \"Dimensions\": {\"model\": 2, \"Host\": \"algo-1\", \"Operation\": \"training\", \"Algorithm\": \"Linear Learner\", \"epoch\": 5}, \"StartTime\": 1514980747.652292}\n",
      "\u001b[0m\n",
      "\u001b[31m#metrics {\"Metrics\": {\"training_binary_classification_cross_entropy\": {\"count\": 1, \"max\": 0.0044764600702031435, \"sum\": 0.0044764600702031435, \"min\": 0.0044764600702031435}, \"validation_binary_classification_cross_entropy\": {\"count\": 1, \"max\": -Infinity, \"sum\": NaN, \"min\": Infinity}}, \"EndTime\": 1514980747.652373, \"Dimensions\": {\"model\": 3, \"Host\": \"algo-1\", \"Operation\": \"training\", \"Algorithm\": \"Linear Learner\", \"epoch\": 5}, \"StartTime\": 1514980747.652355}\n",
      "\u001b[0m\n",
      "\u001b[31m#metrics {\"Metrics\": {\"training_binary_classification_cross_entropy\": {\"count\": 1, \"max\": 0.0044373534382506335, \"sum\": 0.0044373534382506335, \"min\": 0.0044373534382506335}, \"validation_binary_classification_cross_entropy\": {\"count\": 1, \"max\": -Infinity, \"sum\": NaN, \"min\": Infinity}}, \"EndTime\": 1514980747.652421, \"Dimensions\": {\"model\": 4, \"Host\": \"algo-1\", \"Operation\": \"training\", \"Algorithm\": \"Linear Learner\", \"epoch\": 5}, \"StartTime\": 1514980747.652408}\n",
      "\u001b[0m\n",
      "\u001b[31m#metrics {\"Metrics\": {\"training_binary_classification_cross_entropy\": {\"count\": 1, \"max\": 0.007972568605197114, \"sum\": 0.007972568605197114, \"min\": 0.007972568605197114}, \"validation_binary_classification_cross_entropy\": {\"count\": 1, \"max\": -Infinity, \"sum\": NaN, \"min\": Infinity}}, \"EndTime\": 1514980747.652475, \"Dimensions\": {\"model\": 5, \"Host\": \"algo-1\", \"Operation\": \"training\", \"Algorithm\": \"Linear Learner\", \"epoch\": 5}, \"StartTime\": 1514980747.652463}\n",
      "\u001b[0m\n",
      "\u001b[31m#metrics {\"Metrics\": {\"training_binary_classification_cross_entropy\": {\"count\": 1, \"max\": 0.004382154517425377, \"sum\": 0.004382154517425377, \"min\": 0.004382154517425377}, \"validation_binary_classification_cross_entropy\": {\"count\": 1, \"max\": -Infinity, \"sum\": NaN, \"min\": Infinity}}, \"EndTime\": 1514980747.652524, \"Dimensions\": {\"model\": 6, \"Host\": \"algo-1\", \"Operation\": \"training\", \"Algorithm\": \"Linear Learner\", \"epoch\": 5}, \"StartTime\": 1514980747.652506}\n",
      "\u001b[0m\n",
      "\u001b[31m#metrics {\"Metrics\": {\"training_binary_classification_cross_entropy\": {\"count\": 1, \"max\": 0.007721039950613159, \"sum\": 0.007721039950613159, \"min\": 0.007721039950613159}, \"validation_binary_classification_cross_entropy\": {\"count\": 1, \"max\": -Infinity, \"sum\": NaN, \"min\": Infinity}}, \"EndTime\": 1514980747.652591, \"Dimensions\": {\"model\": 7, \"Host\": \"algo-1\", \"Operation\": \"training\", \"Algorithm\": \"Linear Learner\", \"epoch\": 5}, \"StartTime\": 1514980747.652572}\n",
      "\u001b[0m\n",
      "\u001b[31m#metrics {\"Metrics\": {\"training_binary_classification_cross_entropy\": {\"count\": 1, \"max\": 0.005600148775294179, \"sum\": 0.005600148775294179, \"min\": 0.005600148775294179}, \"validation_binary_classification_cross_entropy\": {\"count\": 1, \"max\": -Infinity, \"sum\": NaN, \"min\": Infinity}}, \"EndTime\": 1514980747.652654, \"Dimensions\": {\"model\": 8, \"Host\": \"algo-1\", \"Operation\": \"training\", \"Algorithm\": \"Linear Learner\", \"epoch\": 5}, \"StartTime\": 1514980747.652636}\n",
      "\u001b[0m\n",
      "\u001b[31m#metrics {\"Metrics\": {\"training_binary_classification_cross_entropy\": {\"count\": 1, \"max\": 0.005284690926553773, \"sum\": 0.005284690926553773, \"min\": 0.005284690926553773}, \"validation_binary_classification_cross_entropy\": {\"count\": 1, \"max\": -Infinity, \"sum\": NaN, \"min\": Infinity}}, \"EndTime\": 1514980747.652726, \"Dimensions\": {\"model\": 9, \"Host\": \"algo-1\", \"Operation\": \"training\", \"Algorithm\": \"Linear Learner\", \"epoch\": 5}, \"StartTime\": 1514980747.652704}\n",
      "\u001b[0m\n",
      "\u001b[31m#metrics {\"Metrics\": {\"training_binary_classification_cross_entropy\": {\"count\": 1, \"max\": 0.005599073787728015, \"sum\": 0.005599073787728015, \"min\": 0.005599073787728015}, \"validation_binary_classification_cross_entropy\": {\"count\": 1, \"max\": -Infinity, \"sum\": NaN, \"min\": Infinity}}, \"EndTime\": 1514980747.652799, \"Dimensions\": {\"model\": 10, \"Host\": \"algo-1\", \"Operation\": \"training\", \"Algorithm\": \"Linear Learner\", \"epoch\": 5}, \"StartTime\": 1514980747.652776}\n",
      "\u001b[0m\n",
      "\u001b[31m#metrics {\"Metrics\": {\"training_binary_classification_cross_entropy\": {\"count\": 1, \"max\": 0.005284649642659853, \"sum\": 0.005284649642659853, \"min\": 0.005284649642659853}, \"validation_binary_classification_cross_entropy\": {\"count\": 1, \"max\": -Infinity, \"sum\": NaN, \"min\": Infinity}}, \"EndTime\": 1514980747.65287, \"Dimensions\": {\"model\": 11, \"Host\": \"algo-1\", \"Operation\": \"training\", \"Algorithm\": \"Linear Learner\", \"epoch\": 5}, \"StartTime\": 1514980747.652847}\n",
      "\u001b[0m\n",
      "\u001b[31m#metrics {\"Metrics\": {\"training_binary_classification_cross_entropy\": {\"count\": 1, \"max\": 0.0052613894226993555, \"sum\": 0.0052613894226993555, \"min\": 0.0052613894226993555}, \"validation_binary_classification_cross_entropy\": {\"count\": 1, \"max\": -Infinity, \"sum\": NaN, \"min\": Infinity}}, \"EndTime\": 1514980747.652947, \"Dimensions\": {\"model\": 12, \"Host\": \"algo-1\", \"Operation\": \"training\", \"Algorithm\": \"Linear Learner\", \"epoch\": 5}, \"StartTime\": 1514980747.652924}\n",
      "\u001b[0m\n",
      "\u001b[31m#metrics {\"Metrics\": {\"training_binary_classification_cross_entropy\": {\"count\": 1, \"max\": 0.0069053021257533855, \"sum\": 0.0069053021257533855, \"min\": 0.0069053021257533855}, \"validation_binary_classification_cross_entropy\": {\"count\": 1, \"max\": -Infinity, \"sum\": NaN, \"min\": Infinity}}, \"EndTime\": 1514980747.653024, \"Dimensions\": {\"model\": 13, \"Host\": \"algo-1\", \"Operation\": \"training\", \"Algorithm\": \"Linear Learner\", \"epoch\": 5}, \"StartTime\": 1514980747.653002}\n",
      "\u001b[0m\n",
      "\u001b[31m#metrics {\"Metrics\": {\"training_binary_classification_cross_entropy\": {\"count\": 1, \"max\": 0.0052613160583851485, \"sum\": 0.0052613160583851485, \"min\": 0.0052613160583851485}, \"validation_binary_classification_cross_entropy\": {\"count\": 1, \"max\": -Infinity, \"sum\": NaN, \"min\": Infinity}}, \"EndTime\": 1514980747.653103, \"Dimensions\": {\"model\": 14, \"Host\": \"algo-1\", \"Operation\": \"training\", \"Algorithm\": \"Linear Learner\", \"epoch\": 5}, \"StartTime\": 1514980747.653081}\n",
      "\u001b[0m\n",
      "\u001b[31m#metrics {\"Metrics\": {\"training_binary_classification_cross_entropy\": {\"count\": 1, \"max\": 0.006935441599857821, \"sum\": 0.006935441599857821, \"min\": 0.006935441599857821}, \"validation_binary_classification_cross_entropy\": {\"count\": 1, \"max\": -Infinity, \"sum\": NaN, \"min\": Infinity}}, \"EndTime\": 1514980747.653174, \"Dimensions\": {\"model\": 15, \"Host\": \"algo-1\", \"Operation\": \"training\", \"Algorithm\": \"Linear Learner\", \"epoch\": 5}, \"StartTime\": 1514980747.653153}\n",
      "\u001b[0m\n",
      "\u001b[31m#metrics {\"Metrics\": {\"training_binary_classification_cross_entropy\": {\"count\": 1, \"max\": 0.012294003540514784, \"sum\": 0.012294003540514784, \"min\": 0.012294003540514784}, \"validation_binary_classification_cross_entropy\": {\"count\": 1, \"max\": -Infinity, \"sum\": NaN, \"min\": Infinity}}, \"EndTime\": 1514980747.653251, \"Dimensions\": {\"model\": 16, \"Host\": \"algo-1\", \"Operation\": \"training\", \"Algorithm\": \"Linear Learner\", \"epoch\": 5}, \"StartTime\": 1514980747.653229}\n",
      "\u001b[0m\n",
      "\u001b[31m#metrics {\"Metrics\": {\"training_binary_classification_cross_entropy\": {\"count\": 1, \"max\": 0.012223963626863248, \"sum\": 0.012223963626863248, \"min\": 0.012223963626863248}, \"validation_binary_classification_cross_entropy\": {\"count\": 1, \"max\": -Infinity, \"sum\": NaN, \"min\": Infinity}}, \"EndTime\": 1514980747.653323, \"Dimensions\": {\"model\": 17, \"Host\": \"algo-1\", \"Operation\": \"training\", \"Algorithm\": \"Linear Learner\", \"epoch\": 5}, \"StartTime\": 1514980747.653301}\n",
      "\u001b[0m\n",
      "\u001b[31m#metrics {\"Metrics\": {\"training_binary_classification_cross_entropy\": {\"count\": 1, \"max\": 0.01229190790035546, \"sum\": 0.01229190790035546, \"min\": 0.01229190790035546}, \"validation_binary_classification_cross_entropy\": {\"count\": 1, \"max\": -Infinity, \"sum\": NaN, \"min\": Infinity}}, \"EndTime\": 1514980747.653399, \"Dimensions\": {\"model\": 18, \"Host\": \"algo-1\", \"Operation\": \"training\", \"Algorithm\": \"Linear Learner\", \"epoch\": 5}, \"StartTime\": 1514980747.653377}\n",
      "\u001b[0m\n",
      "\u001b[31m#metrics {\"Metrics\": {\"training_binary_classification_cross_entropy\": {\"count\": 1, \"max\": 0.012223956797629665, \"sum\": 0.012223956797629665, \"min\": 0.012223956797629665}, \"validation_binary_classification_cross_entropy\": {\"count\": 1, \"max\": -Infinity, \"sum\": NaN, \"min\": Infinity}}, \"EndTime\": 1514980747.653469, \"Dimensions\": {\"model\": 19, \"Host\": \"algo-1\", \"Operation\": \"training\", \"Algorithm\": \"Linear Learner\", \"epoch\": 5}, \"StartTime\": 1514980747.653447}\n",
      "\u001b[0m\n",
      "\u001b[31m#metrics {\"Metrics\": {\"training_binary_classification_cross_entropy\": {\"count\": 1, \"max\": 0.012231531041113778, \"sum\": 0.012231531041113778, \"min\": 0.012231531041113778}, \"validation_binary_classification_cross_entropy\": {\"count\": 1, \"max\": -Infinity, \"sum\": NaN, \"min\": Infinity}}, \"EndTime\": 1514980747.653537, \"Dimensions\": {\"model\": 20, \"Host\": \"algo-1\", \"Operation\": \"training\", \"Algorithm\": \"Linear Learner\", \"epoch\": 5}, \"StartTime\": 1514980747.653516}\n",
      "\u001b[0m\n",
      "\u001b[31m#metrics {\"Metrics\": {\"training_binary_classification_cross_entropy\": {\"count\": 1, \"max\": 0.01266632912844088, \"sum\": 0.01266632912844088, \"min\": 0.01266632912844088}, \"validation_binary_classification_cross_entropy\": {\"count\": 1, \"max\": -Infinity, \"sum\": NaN, \"min\": Infinity}}, \"EndTime\": 1514980747.65359, \"Dimensions\": {\"model\": 21, \"Host\": \"algo-1\", \"Operation\": \"training\", \"Algorithm\": \"Linear Learner\", \"epoch\": 5}, \"StartTime\": 1514980747.65357}\n",
      "\u001b[0m\n",
      "\u001b[31m#metrics {\"Metrics\": {\"training_binary_classification_cross_entropy\": {\"count\": 1, \"max\": 0.012231525842807053, \"sum\": 0.012231525842807053, \"min\": 0.012231525842807053}, \"validation_binary_classification_cross_entropy\": {\"count\": 1, \"max\": -Infinity, \"sum\": NaN, \"min\": Infinity}}, \"EndTime\": 1514980747.653643, \"Dimensions\": {\"model\": 22, \"Host\": \"algo-1\", \"Operation\": \"training\", \"Algorithm\": \"Linear Learner\", \"epoch\": 5}, \"StartTime\": 1514980747.653623}\n",
      "\u001b[0m\n",
      "\u001b[31m#metrics {\"Metrics\": {\"training_binary_classification_cross_entropy\": {\"count\": 1, \"max\": 0.012668819972630198, \"sum\": 0.012668819972630198, \"min\": 0.012668819972630198}, \"validation_binary_classification_cross_entropy\": {\"count\": 1, \"max\": -Infinity, \"sum\": NaN, \"min\": Infinity}}, \"EndTime\": 1514980747.653716, \"Dimensions\": {\"model\": 23, \"Host\": \"algo-1\", \"Operation\": \"training\", \"Algorithm\": \"Linear Learner\", \"epoch\": 5}, \"StartTime\": 1514980747.653693}\n",
      "\u001b[0m\n",
      "\u001b[31m#metrics {\"Metrics\": {\"training_binary_classification_cross_entropy\": {\"count\": 1, \"max\": 0.013298289931316007, \"sum\": 0.013298289931316007, \"min\": 0.013298289931316007}, \"validation_binary_classification_cross_entropy\": {\"count\": 1, \"max\": -Infinity, \"sum\": NaN, \"min\": Infinity}}, \"EndTime\": 1514980747.653789, \"Dimensions\": {\"model\": 24, \"Host\": \"algo-1\", \"Operation\": \"training\", \"Algorithm\": \"Linear Learner\", \"epoch\": 5}, \"StartTime\": 1514980747.653766}\n",
      "\u001b[0m\n",
      "\u001b[31m#metrics {\"Metrics\": {\"training_binary_classification_cross_entropy\": {\"count\": 1, \"max\": 0.01326540965490933, \"sum\": 0.01326540965490933, \"min\": 0.01326540965490933}, \"validation_binary_classification_cross_entropy\": {\"count\": 1, \"max\": -Infinity, \"sum\": NaN, \"min\": Infinity}}, \"EndTime\": 1514980747.653859, \"Dimensions\": {\"model\": 25, \"Host\": \"algo-1\", \"Operation\": \"training\", \"Algorithm\": \"Linear Learner\", \"epoch\": 5}, \"StartTime\": 1514980747.653836}\n",
      "\u001b[0m\n",
      "\u001b[31m#metrics {\"Metrics\": {\"training_binary_classification_cross_entropy\": {\"count\": 1, \"max\": 0.013297790528844335, \"sum\": 0.013297790528844335, \"min\": 0.013297790528844335}, \"validation_binary_classification_cross_entropy\": {\"count\": 1, \"max\": -Infinity, \"sum\": NaN, \"min\": Infinity}}, \"EndTime\": 1514980747.65393, \"Dimensions\": {\"model\": 26, \"Host\": \"algo-1\", \"Operation\": \"training\", \"Algorithm\": \"Linear Learner\", \"epoch\": 5}, \"StartTime\": 1514980747.653907}\n",
      "\u001b[0m\n",
      "\u001b[31m#metrics {\"Metrics\": {\"training_binary_classification_cross_entropy\": {\"count\": 1, \"max\": 0.01326541420726642, \"sum\": 0.01326541420726642, \"min\": 0.01326541420726642}, \"validation_binary_classification_cross_entropy\": {\"count\": 1, \"max\": -Infinity, \"sum\": NaN, \"min\": Infinity}}, \"EndTime\": 1514980747.653982, \"Dimensions\": {\"model\": 27, \"Host\": \"algo-1\", \"Operation\": \"training\", \"Algorithm\": \"Linear Learner\", \"epoch\": 5}, \"StartTime\": 1514980747.653967}\n",
      "\u001b[0m\n",
      "\u001b[31m#metrics {\"Metrics\": {\"training_binary_classification_cross_entropy\": {\"count\": 1, \"max\": 0.013271756812197263, \"sum\": 0.013271756812197263, \"min\": 0.013271756812197263}, \"validation_binary_classification_cross_entropy\": {\"count\": 1, \"max\": -Infinity, \"sum\": NaN, \"min\": Infinity}}, \"EndTime\": 1514980747.65404, \"Dimensions\": {\"model\": 28, \"Host\": \"algo-1\", \"Operation\": \"training\", \"Algorithm\": \"Linear Learner\", \"epoch\": 5}, \"StartTime\": 1514980747.654023}\n",
      "\u001b[0m\n",
      "\u001b[31m#metrics {\"Metrics\": {\"training_binary_classification_cross_entropy\": {\"count\": 1, \"max\": 0.013550590386197617, \"sum\": 0.013550590386197617, \"min\": 0.013550590386197617}, \"validation_binary_classification_cross_entropy\": {\"count\": 1, \"max\": -Infinity, \"sum\": NaN, \"min\": Infinity}}, \"EndTime\": 1514980747.654096, \"Dimensions\": {\"model\": 29, \"Host\": \"algo-1\", \"Operation\": \"training\", \"Algorithm\": \"Linear Learner\", \"epoch\": 5}, \"StartTime\": 1514980747.654076}\n",
      "\u001b[0m\n",
      "\u001b[31m#metrics {\"Metrics\": {\"training_binary_classification_cross_entropy\": {\"count\": 1, \"max\": 0.013271932773798076, \"sum\": 0.013271932773798076, \"min\": 0.013271932773798076}, \"validation_binary_classification_cross_entropy\": {\"count\": 1, \"max\": -Infinity, \"sum\": NaN, \"min\": Infinity}}, \"EndTime\": 1514980747.654163, \"Dimensions\": {\"model\": 30, \"Host\": \"algo-1\", \"Operation\": \"training\", \"Algorithm\": \"Linear Learner\", \"epoch\": 5}, \"StartTime\": 1514980747.654143}\n",
      "\u001b[0m\n",
      "\u001b[31m#metrics {\"Metrics\": {\"training_binary_classification_cross_entropy\": {\"count\": 1, \"max\": 0.013553830148484252, \"sum\": 0.013553830148484252, \"min\": 0.013553830148484252}, \"validation_binary_classification_cross_entropy\": {\"count\": 1, \"max\": -Infinity, \"sum\": NaN, \"min\": Infinity}}, \"EndTime\": 1514980747.654219, \"Dimensions\": {\"model\": 31, \"Host\": \"algo-1\", \"Operation\": \"training\", \"Algorithm\": \"Linear Learner\", \"epoch\": 5}, \"StartTime\": 1514980747.6542}\n",
      "\u001b[0m\n"
     ]
    },
    {
     "name": "stdout",
     "output_type": "stream",
     "text": [
      "\u001b[31m#metrics {\"Metrics\": {\"training_binary_classification_cross_entropy\": {\"count\": 1, \"max\": 0.004854489116901117, \"sum\": 0.004854489116901117, \"min\": 0.004854489116901117}, \"validation_binary_classification_cross_entropy\": {\"count\": 1, \"max\": -Infinity, \"sum\": NaN, \"min\": Infinity}}, \"EndTime\": 1514980780.974051, \"Dimensions\": {\"model\": 0, \"Host\": \"algo-1\", \"Operation\": \"training\", \"Algorithm\": \"Linear Learner\", \"epoch\": 6}, \"StartTime\": 1514980780.973911}\n",
      "\u001b[0m\n",
      "\u001b[31m#metrics {\"Metrics\": {\"training_binary_classification_cross_entropy\": {\"count\": 1, \"max\": 0.004425792935363233, \"sum\": 0.004425792935363233, \"min\": 0.004425792935363233}, \"validation_binary_classification_cross_entropy\": {\"count\": 1, \"max\": -Infinity, \"sum\": NaN, \"min\": Infinity}}, \"EndTime\": 1514980780.974151, \"Dimensions\": {\"model\": 1, \"Host\": \"algo-1\", \"Operation\": \"training\", \"Algorithm\": \"Linear Learner\", \"epoch\": 6}, \"StartTime\": 1514980780.974133}\n",
      "\u001b[0m\n",
      "\u001b[31m#metrics {\"Metrics\": {\"training_binary_classification_cross_entropy\": {\"count\": 1, \"max\": 0.004831324761572013, \"sum\": 0.004831324761572013, \"min\": 0.004831324761572013}, \"validation_binary_classification_cross_entropy\": {\"count\": 1, \"max\": -Infinity, \"sum\": NaN, \"min\": Infinity}}, \"EndTime\": 1514980780.974226, \"Dimensions\": {\"model\": 2, \"Host\": \"algo-1\", \"Operation\": \"training\", \"Algorithm\": \"Linear Learner\", \"epoch\": 6}, \"StartTime\": 1514980780.974204}\n",
      "\u001b[0m\n",
      "\u001b[31m#metrics {\"Metrics\": {\"training_binary_classification_cross_entropy\": {\"count\": 1, \"max\": 0.004424939481912298, \"sum\": 0.004424939481912298, \"min\": 0.004424939481912298}, \"validation_binary_classification_cross_entropy\": {\"count\": 1, \"max\": -Infinity, \"sum\": NaN, \"min\": Infinity}}, \"EndTime\": 1514980780.974283, \"Dimensions\": {\"model\": 3, \"Host\": \"algo-1\", \"Operation\": \"training\", \"Algorithm\": \"Linear Learner\", \"epoch\": 6}, \"StartTime\": 1514980780.974262}\n",
      "\u001b[0m\n",
      "\u001b[31m#metrics {\"Metrics\": {\"training_binary_classification_cross_entropy\": {\"count\": 1, \"max\": 0.004324928753741034, \"sum\": 0.004324928753741034, \"min\": 0.004324928753741034}, \"validation_binary_classification_cross_entropy\": {\"count\": 1, \"max\": -Infinity, \"sum\": NaN, \"min\": Infinity}}, \"EndTime\": 1514980780.974336, \"Dimensions\": {\"model\": 4, \"Host\": \"algo-1\", \"Operation\": \"training\", \"Algorithm\": \"Linear Learner\", \"epoch\": 6}, \"StartTime\": 1514980780.974317}\n",
      "\u001b[0m\n",
      "\u001b[31m#metrics {\"Metrics\": {\"training_binary_classification_cross_entropy\": {\"count\": 1, \"max\": 0.007194907493687309, \"sum\": 0.007194907493687309, \"min\": 0.007194907493687309}, \"validation_binary_classification_cross_entropy\": {\"count\": 1, \"max\": -Infinity, \"sum\": NaN, \"min\": Infinity}}, \"EndTime\": 1514980780.974405, \"Dimensions\": {\"model\": 5, \"Host\": \"algo-1\", \"Operation\": \"training\", \"Algorithm\": \"Linear Learner\", \"epoch\": 6}, \"StartTime\": 1514980780.974385}\n",
      "\u001b[0m\n",
      "\u001b[31m#metrics {\"Metrics\": {\"training_binary_classification_cross_entropy\": {\"count\": 1, \"max\": 0.004276663375499307, \"sum\": 0.004276663375499307, \"min\": 0.004276663375499307}, \"validation_binary_classification_cross_entropy\": {\"count\": 1, \"max\": -Infinity, \"sum\": NaN, \"min\": Infinity}}, \"EndTime\": 1514980780.974457, \"Dimensions\": {\"model\": 6, \"Host\": \"algo-1\", \"Operation\": \"training\", \"Algorithm\": \"Linear Learner\", \"epoch\": 6}, \"StartTime\": 1514980780.974438}\n",
      "\u001b[0m\n",
      "\u001b[31m#metrics {\"Metrics\": {\"training_binary_classification_cross_entropy\": {\"count\": 1, \"max\": 0.007098743393239527, \"sum\": 0.007098743393239527, \"min\": 0.007098743393239527}, \"validation_binary_classification_cross_entropy\": {\"count\": 1, \"max\": -Infinity, \"sum\": NaN, \"min\": Infinity}}, \"EndTime\": 1514980780.974514, \"Dimensions\": {\"model\": 7, \"Host\": \"algo-1\", \"Operation\": \"training\", \"Algorithm\": \"Linear Learner\", \"epoch\": 6}, \"StartTime\": 1514980780.974495}\n",
      "\u001b[0m\n",
      "\u001b[31m#metrics {\"Metrics\": {\"training_binary_classification_cross_entropy\": {\"count\": 1, \"max\": 0.005555713602649244, \"sum\": 0.005555713602649244, \"min\": 0.005555713602649244}, \"validation_binary_classification_cross_entropy\": {\"count\": 1, \"max\": -Infinity, \"sum\": NaN, \"min\": Infinity}}, \"EndTime\": 1514980780.974586, \"Dimensions\": {\"model\": 8, \"Host\": \"algo-1\", \"Operation\": \"training\", \"Algorithm\": \"Linear Learner\", \"epoch\": 6}, \"StartTime\": 1514980780.974566}\n",
      "\u001b[0m\n",
      "\u001b[31m#metrics {\"Metrics\": {\"training_binary_classification_cross_entropy\": {\"count\": 1, \"max\": 0.005283551626692611, \"sum\": 0.005283551626692611, \"min\": 0.005283551626692611}, \"validation_binary_classification_cross_entropy\": {\"count\": 1, \"max\": -Infinity, \"sum\": NaN, \"min\": Infinity}}, \"EndTime\": 1514980780.974647, \"Dimensions\": {\"model\": 9, \"Host\": \"algo-1\", \"Operation\": \"training\", \"Algorithm\": \"Linear Learner\", \"epoch\": 6}, \"StartTime\": 1514980780.974629}\n",
      "\u001b[0m\n",
      "\u001b[31m#metrics {\"Metrics\": {\"training_binary_classification_cross_entropy\": {\"count\": 1, \"max\": 0.005540644740402279, \"sum\": 0.005540644740402279, \"min\": 0.005540644740402279}, \"validation_binary_classification_cross_entropy\": {\"count\": 1, \"max\": -Infinity, \"sum\": NaN, \"min\": Infinity}}, \"EndTime\": 1514980780.974708, \"Dimensions\": {\"model\": 10, \"Host\": \"algo-1\", \"Operation\": \"training\", \"Algorithm\": \"Linear Learner\", \"epoch\": 6}, \"StartTime\": 1514980780.974689}\n",
      "\u001b[0m\n",
      "\u001b[31m#metrics {\"Metrics\": {\"training_binary_classification_cross_entropy\": {\"count\": 1, \"max\": 0.00528356847678261, \"sum\": 0.00528356847678261, \"min\": 0.00528356847678261}, \"validation_binary_classification_cross_entropy\": {\"count\": 1, \"max\": -Infinity, \"sum\": NaN, \"min\": Infinity}}, \"EndTime\": 1514980780.974771, \"Dimensions\": {\"model\": 11, \"Host\": \"algo-1\", \"Operation\": \"training\", \"Algorithm\": \"Linear Learner\", \"epoch\": 6}, \"StartTime\": 1514980780.974751}\n",
      "\u001b[0m\n",
      "\u001b[31m#metrics {\"Metrics\": {\"training_binary_classification_cross_entropy\": {\"count\": 1, \"max\": 0.005230098401372969, \"sum\": 0.005230098401372969, \"min\": 0.005230098401372969}, \"validation_binary_classification_cross_entropy\": {\"count\": 1, \"max\": -Infinity, \"sum\": NaN, \"min\": Infinity}}, \"EndTime\": 1514980780.974846, \"Dimensions\": {\"model\": 12, \"Host\": \"algo-1\", \"Operation\": \"training\", \"Algorithm\": \"Linear Learner\", \"epoch\": 6}, \"StartTime\": 1514980780.974823}\n",
      "\u001b[0m\n",
      "\u001b[31m#metrics {\"Metrics\": {\"training_binary_classification_cross_entropy\": {\"count\": 1, \"max\": 0.006844955799366136, \"sum\": 0.006844955799366136, \"min\": 0.006844955799366136}, \"validation_binary_classification_cross_entropy\": {\"count\": 1, \"max\": -Infinity, \"sum\": NaN, \"min\": Infinity}}, \"EndTime\": 1514980780.974917, \"Dimensions\": {\"model\": 13, \"Host\": \"algo-1\", \"Operation\": \"training\", \"Algorithm\": \"Linear Learner\", \"epoch\": 6}, \"StartTime\": 1514980780.974894}\n",
      "\u001b[0m\n",
      "\u001b[31m#metrics {\"Metrics\": {\"training_binary_classification_cross_entropy\": {\"count\": 1, \"max\": 0.005230075458557601, \"sum\": 0.005230075458557601, \"min\": 0.005230075458557601}, \"validation_binary_classification_cross_entropy\": {\"count\": 1, \"max\": -Infinity, \"sum\": NaN, \"min\": Infinity}}, \"EndTime\": 1514980780.974986, \"Dimensions\": {\"model\": 14, \"Host\": \"algo-1\", \"Operation\": \"training\", \"Algorithm\": \"Linear Learner\", \"epoch\": 6}, \"StartTime\": 1514980780.974964}\n",
      "\u001b[0m\n",
      "\u001b[31m#metrics {\"Metrics\": {\"training_binary_classification_cross_entropy\": {\"count\": 1, \"max\": 0.006853034598414788, \"sum\": 0.006853034598414788, \"min\": 0.006853034598414788}, \"validation_binary_classification_cross_entropy\": {\"count\": 1, \"max\": -Infinity, \"sum\": NaN, \"min\": Infinity}}, \"EndTime\": 1514980780.975049, \"Dimensions\": {\"model\": 15, \"Host\": \"algo-1\", \"Operation\": \"training\", \"Algorithm\": \"Linear Learner\", \"epoch\": 6}, \"StartTime\": 1514980780.975028}\n",
      "\u001b[0m\n",
      "\u001b[31m#metrics {\"Metrics\": {\"training_binary_classification_cross_entropy\": {\"count\": 1, \"max\": 0.012279624567482734, \"sum\": 0.012279624567482734, \"min\": 0.012279624567482734}, \"validation_binary_classification_cross_entropy\": {\"count\": 1, \"max\": -Infinity, \"sum\": NaN, \"min\": Infinity}}, \"EndTime\": 1514980780.97512, \"Dimensions\": {\"model\": 16, \"Host\": \"algo-1\", \"Operation\": \"training\", \"Algorithm\": \"Linear Learner\", \"epoch\": 6}, \"StartTime\": 1514980780.975098}\n",
      "\u001b[0m\n",
      "\u001b[31m#metrics {\"Metrics\": {\"training_binary_classification_cross_entropy\": {\"count\": 1, \"max\": 0.012227194778603748, \"sum\": 0.012227194778603748, \"min\": 0.012227194778603748}, \"validation_binary_classification_cross_entropy\": {\"count\": 1, \"max\": -Infinity, \"sum\": NaN, \"min\": Infinity}}, \"EndTime\": 1514980780.975184, \"Dimensions\": {\"model\": 17, \"Host\": \"algo-1\", \"Operation\": \"training\", \"Algorithm\": \"Linear Learner\", \"epoch\": 6}, \"StartTime\": 1514980780.975168}\n",
      "\u001b[0m\n",
      "\u001b[31m#metrics {\"Metrics\": {\"training_binary_classification_cross_entropy\": {\"count\": 1, \"max\": 0.012280268886538803, \"sum\": 0.012280268886538803, \"min\": 0.012280268886538803}, \"validation_binary_classification_cross_entropy\": {\"count\": 1, \"max\": -Infinity, \"sum\": NaN, \"min\": Infinity}}, \"EndTime\": 1514980780.975243, \"Dimensions\": {\"model\": 18, \"Host\": \"algo-1\", \"Operation\": \"training\", \"Algorithm\": \"Linear Learner\", \"epoch\": 6}, \"StartTime\": 1514980780.975225}\n",
      "\u001b[0m\n",
      "\u001b[31m#metrics {\"Metrics\": {\"training_binary_classification_cross_entropy\": {\"count\": 1, \"max\": 0.012227195990588123, \"sum\": 0.012227195990588123, \"min\": 0.012227195990588123}, \"validation_binary_classification_cross_entropy\": {\"count\": 1, \"max\": -Infinity, \"sum\": NaN, \"min\": Infinity}}, \"EndTime\": 1514980780.975311, \"Dimensions\": {\"model\": 19, \"Host\": \"algo-1\", \"Operation\": \"training\", \"Algorithm\": \"Linear Learner\", \"epoch\": 6}, \"StartTime\": 1514980780.97529}\n",
      "\u001b[0m\n",
      "\u001b[31m#metrics {\"Metrics\": {\"training_binary_classification_cross_entropy\": {\"count\": 1, \"max\": 0.012267872856218866, \"sum\": 0.012267872856218866, \"min\": 0.012267872856218866}, \"validation_binary_classification_cross_entropy\": {\"count\": 1, \"max\": -Infinity, \"sum\": NaN, \"min\": Infinity}}, \"EndTime\": 1514980780.975381, \"Dimensions\": {\"model\": 20, \"Host\": \"algo-1\", \"Operation\": \"training\", \"Algorithm\": \"Linear Learner\", \"epoch\": 6}, \"StartTime\": 1514980780.975359}\n",
      "\u001b[0m\n",
      "\u001b[31m#metrics {\"Metrics\": {\"training_binary_classification_cross_entropy\": {\"count\": 1, \"max\": 0.012699240804780755, \"sum\": 0.012699240804780755, \"min\": 0.012699240804780755}, \"validation_binary_classification_cross_entropy\": {\"count\": 1, \"max\": -Infinity, \"sum\": NaN, \"min\": Infinity}}, \"EndTime\": 1514980780.97545, \"Dimensions\": {\"model\": 21, \"Host\": \"algo-1\", \"Operation\": \"training\", \"Algorithm\": \"Linear Learner\", \"epoch\": 6}, \"StartTime\": 1514980780.975429}\n",
      "\u001b[0m\n",
      "\u001b[31m#metrics {\"Metrics\": {\"training_binary_classification_cross_entropy\": {\"count\": 1, \"max\": 0.012267871994429226, \"sum\": 0.012267871994429226, \"min\": 0.012267871994429226}, \"validation_binary_classification_cross_entropy\": {\"count\": 1, \"max\": -Infinity, \"sum\": NaN, \"min\": Infinity}}, \"EndTime\": 1514980780.975526, \"Dimensions\": {\"model\": 22, \"Host\": \"algo-1\", \"Operation\": \"training\", \"Algorithm\": \"Linear Learner\", \"epoch\": 6}, \"StartTime\": 1514980780.975503}\n",
      "\u001b[0m\n",
      "\u001b[31m#metrics {\"Metrics\": {\"training_binary_classification_cross_entropy\": {\"count\": 1, \"max\": 0.012700725350795047, \"sum\": 0.012700725350795047, \"min\": 0.012700725350795047}, \"validation_binary_classification_cross_entropy\": {\"count\": 1, \"max\": -Infinity, \"sum\": NaN, \"min\": Infinity}}, \"EndTime\": 1514980780.975584, \"Dimensions\": {\"model\": 23, \"Host\": \"algo-1\", \"Operation\": \"training\", \"Algorithm\": \"Linear Learner\", \"epoch\": 6}, \"StartTime\": 1514980780.975564}\n",
      "\u001b[0m\n",
      "\u001b[31m#metrics {\"Metrics\": {\"training_binary_classification_cross_entropy\": {\"count\": 1, \"max\": 0.013288441385018184, \"sum\": 0.013288441385018184, \"min\": 0.013288441385018184}, \"validation_binary_classification_cross_entropy\": {\"count\": 1, \"max\": -Infinity, \"sum\": NaN, \"min\": Infinity}}, \"EndTime\": 1514980780.97564, \"Dimensions\": {\"model\": 24, \"Host\": \"algo-1\", \"Operation\": \"training\", \"Algorithm\": \"Linear Learner\", \"epoch\": 6}, \"StartTime\": 1514980780.975622}\n",
      "\u001b[0m\n",
      "\u001b[31m#metrics {\"Metrics\": {\"training_binary_classification_cross_entropy\": {\"count\": 1, \"max\": 0.013266316837079352, \"sum\": 0.013266316837079352, \"min\": 0.013266316837079352}, \"validation_binary_classification_cross_entropy\": {\"count\": 1, \"max\": -Infinity, \"sum\": NaN, \"min\": Infinity}}, \"EndTime\": 1514980780.975698, \"Dimensions\": {\"model\": 25, \"Host\": \"algo-1\", \"Operation\": \"training\", \"Algorithm\": \"Linear Learner\", \"epoch\": 6}, \"StartTime\": 1514980780.975678}\n",
      "\u001b[0m\n",
      "\u001b[31m#metrics {\"Metrics\": {\"training_binary_classification_cross_entropy\": {\"count\": 1, \"max\": 0.013284670405560969, \"sum\": 0.013284670405560969, \"min\": 0.013284670405560969}, \"validation_binary_classification_cross_entropy\": {\"count\": 1, \"max\": -Infinity, \"sum\": NaN, \"min\": Infinity}}, \"EndTime\": 1514980780.975767, \"Dimensions\": {\"model\": 26, \"Host\": \"algo-1\", \"Operation\": \"training\", \"Algorithm\": \"Linear Learner\", \"epoch\": 6}, \"StartTime\": 1514980780.975745}\n",
      "\u001b[0m\n",
      "\u001b[31m#metrics {\"Metrics\": {\"training_binary_classification_cross_entropy\": {\"count\": 1, \"max\": 0.013266369459640225, \"sum\": 0.013266369459640225, \"min\": 0.013266369459640225}, \"validation_binary_classification_cross_entropy\": {\"count\": 1, \"max\": -Infinity, \"sum\": NaN, \"min\": Infinity}}, \"EndTime\": 1514980780.975867, \"Dimensions\": {\"model\": 27, \"Host\": \"algo-1\", \"Operation\": \"training\", \"Algorithm\": \"Linear Learner\", \"epoch\": 6}, \"StartTime\": 1514980780.975843}\n",
      "\u001b[0m\n",
      "\u001b[31m#metrics {\"Metrics\": {\"training_binary_classification_cross_entropy\": {\"count\": 1, \"max\": 0.01326759535374351, \"sum\": 0.01326759535374351, \"min\": 0.01326759535374351}, \"validation_binary_classification_cross_entropy\": {\"count\": 1, \"max\": -Infinity, \"sum\": NaN, \"min\": Infinity}}, \"EndTime\": 1514980780.975942, \"Dimensions\": {\"model\": 28, \"Host\": \"algo-1\", \"Operation\": \"training\", \"Algorithm\": \"Linear Learner\", \"epoch\": 6}, \"StartTime\": 1514980780.97592}\n",
      "\u001b[0m\n",
      "\u001b[31m#metrics {\"Metrics\": {\"training_binary_classification_cross_entropy\": {\"count\": 1, \"max\": 0.013571345988907513, \"sum\": 0.013571345988907513, \"min\": 0.013571345988907513}, \"validation_binary_classification_cross_entropy\": {\"count\": 1, \"max\": -Infinity, \"sum\": NaN, \"min\": Infinity}}, \"EndTime\": 1514980780.975995, \"Dimensions\": {\"model\": 29, \"Host\": \"algo-1\", \"Operation\": \"training\", \"Algorithm\": \"Linear Learner\", \"epoch\": 6}, \"StartTime\": 1514980780.975976}\n",
      "\u001b[0m\n",
      "\u001b[31m#metrics {\"Metrics\": {\"training_binary_classification_cross_entropy\": {\"count\": 1, \"max\": 0.01326742455188787, \"sum\": 0.01326742455188787, \"min\": 0.01326742455188787}, \"validation_binary_classification_cross_entropy\": {\"count\": 1, \"max\": -Infinity, \"sum\": NaN, \"min\": Infinity}}, \"EndTime\": 1514980780.976048, \"Dimensions\": {\"model\": 30, \"Host\": \"algo-1\", \"Operation\": \"training\", \"Algorithm\": \"Linear Learner\", \"epoch\": 6}, \"StartTime\": 1514980780.976028}\n",
      "\u001b[0m\n",
      "\u001b[31m#metrics {\"Metrics\": {\"training_binary_classification_cross_entropy\": {\"count\": 1, \"max\": 0.013573431360973722, \"sum\": 0.013573431360973722, \"min\": 0.013573431360973722}, \"validation_binary_classification_cross_entropy\": {\"count\": 1, \"max\": -Infinity, \"sum\": NaN, \"min\": Infinity}}, \"EndTime\": 1514980780.976118, \"Dimensions\": {\"model\": 31, \"Host\": \"algo-1\", \"Operation\": \"training\", \"Algorithm\": \"Linear Learner\", \"epoch\": 6}, \"StartTime\": 1514980780.976096}\n",
      "\u001b[0m\n"
     ]
    },
    {
     "name": "stdout",
     "output_type": "stream",
     "text": [
      "\u001b[31m#metrics {\"Metrics\": {\"training_binary_classification_cross_entropy\": {\"count\": 1, \"max\": 0.004822987571655308, \"sum\": 0.004822987571655308, \"min\": 0.004822987571655308}, \"validation_binary_classification_cross_entropy\": {\"count\": 1, \"max\": -Infinity, \"sum\": NaN, \"min\": Infinity}}, \"EndTime\": 1514980814.182285, \"Dimensions\": {\"model\": 0, \"Host\": \"algo-1\", \"Operation\": \"training\", \"Algorithm\": \"Linear Learner\", \"epoch\": 7}, \"StartTime\": 1514980814.182158}\n",
      "\u001b[0m\n",
      "\u001b[31m#metrics {\"Metrics\": {\"training_binary_classification_cross_entropy\": {\"count\": 1, \"max\": 0.004405417282099397, \"sum\": 0.004405417282099397, \"min\": 0.004405417282099397}, \"validation_binary_classification_cross_entropy\": {\"count\": 1, \"max\": -Infinity, \"sum\": NaN, \"min\": Infinity}}, \"EndTime\": 1514980814.182386, \"Dimensions\": {\"model\": 1, \"Host\": \"algo-1\", \"Operation\": \"training\", \"Algorithm\": \"Linear Learner\", \"epoch\": 7}, \"StartTime\": 1514980814.182369}\n",
      "\u001b[0m\n",
      "\u001b[31m#metrics {\"Metrics\": {\"training_binary_classification_cross_entropy\": {\"count\": 1, \"max\": 0.004749435049326833, \"sum\": 0.004749435049326833, \"min\": 0.004749435049326833}, \"validation_binary_classification_cross_entropy\": {\"count\": 1, \"max\": -Infinity, \"sum\": NaN, \"min\": Infinity}}, \"EndTime\": 1514980814.182454, \"Dimensions\": {\"model\": 2, \"Host\": \"algo-1\", \"Operation\": \"training\", \"Algorithm\": \"Linear Learner\", \"epoch\": 7}, \"StartTime\": 1514980814.182434}\n",
      "\u001b[0m\n",
      "\u001b[31m#metrics {\"Metrics\": {\"training_binary_classification_cross_entropy\": {\"count\": 1, \"max\": 0.004403563051962182, \"sum\": 0.004403563051962182, \"min\": 0.004403563051962182}, \"validation_binary_classification_cross_entropy\": {\"count\": 1, \"max\": -Infinity, \"sum\": NaN, \"min\": Infinity}}, \"EndTime\": 1514980814.182515, \"Dimensions\": {\"model\": 3, \"Host\": \"algo-1\", \"Operation\": \"training\", \"Algorithm\": \"Linear Learner\", \"epoch\": 7}, \"StartTime\": 1514980814.182497}\n",
      "\u001b[0m\n",
      "\u001b[31m#metrics {\"Metrics\": {\"training_binary_classification_cross_entropy\": {\"count\": 1, \"max\": 0.004269436850393544, \"sum\": 0.004269436850393544, \"min\": 0.004269436850393544}, \"validation_binary_classification_cross_entropy\": {\"count\": 1, \"max\": -Infinity, \"sum\": NaN, \"min\": Infinity}}, \"EndTime\": 1514980814.182568, \"Dimensions\": {\"model\": 4, \"Host\": \"algo-1\", \"Operation\": \"training\", \"Algorithm\": \"Linear Learner\", \"epoch\": 7}, \"StartTime\": 1514980814.182553}\n",
      "\u001b[0m\n",
      "\u001b[31m#metrics {\"Metrics\": {\"training_binary_classification_cross_entropy\": {\"count\": 1, \"max\": 0.00717575381654661, \"sum\": 0.00717575381654661, \"min\": 0.00717575381654661}, \"validation_binary_classification_cross_entropy\": {\"count\": 1, \"max\": -Infinity, \"sum\": NaN, \"min\": Infinity}}, \"EndTime\": 1514980814.182621, \"Dimensions\": {\"model\": 5, \"Host\": \"algo-1\", \"Operation\": \"training\", \"Algorithm\": \"Linear Learner\", \"epoch\": 7}, \"StartTime\": 1514980814.182605}\n",
      "\u001b[0m\n",
      "\u001b[31m#metrics {\"Metrics\": {\"training_binary_classification_cross_entropy\": {\"count\": 1, \"max\": 0.004225345362998563, \"sum\": 0.004225345362998563, \"min\": 0.004225345362998563}, \"validation_binary_classification_cross_entropy\": {\"count\": 1, \"max\": -Infinity, \"sum\": NaN, \"min\": Infinity}}, \"EndTime\": 1514980814.182683, \"Dimensions\": {\"model\": 6, \"Host\": \"algo-1\", \"Operation\": \"training\", \"Algorithm\": \"Linear Learner\", \"epoch\": 7}, \"StartTime\": 1514980814.182668}\n",
      "\u001b[0m\n",
      "\u001b[31m#metrics {\"Metrics\": {\"training_binary_classification_cross_entropy\": {\"count\": 1, \"max\": 0.007638776772404041, \"sum\": 0.007638776772404041, \"min\": 0.007638776772404041}, \"validation_binary_classification_cross_entropy\": {\"count\": 1, \"max\": -Infinity, \"sum\": NaN, \"min\": Infinity}}, \"EndTime\": 1514980814.182735, \"Dimensions\": {\"model\": 7, \"Host\": \"algo-1\", \"Operation\": \"training\", \"Algorithm\": \"Linear Learner\", \"epoch\": 7}, \"StartTime\": 1514980814.182721}\n",
      "\u001b[0m\n",
      "\u001b[31m#metrics {\"Metrics\": {\"training_binary_classification_cross_entropy\": {\"count\": 1, \"max\": 0.005533292270341858, \"sum\": 0.005533292270341858, \"min\": 0.005533292270341858}, \"validation_binary_classification_cross_entropy\": {\"count\": 1, \"max\": -Infinity, \"sum\": NaN, \"min\": Infinity}}, \"EndTime\": 1514980814.182799, \"Dimensions\": {\"model\": 8, \"Host\": \"algo-1\", \"Operation\": \"training\", \"Algorithm\": \"Linear Learner\", \"epoch\": 7}, \"StartTime\": 1514980814.182781}\n",
      "\u001b[0m\n",
      "\u001b[31m#metrics {\"Metrics\": {\"training_binary_classification_cross_entropy\": {\"count\": 1, \"max\": 0.005274123283281957, \"sum\": 0.005274123283281957, \"min\": 0.005274123283281957}, \"validation_binary_classification_cross_entropy\": {\"count\": 1, \"max\": -Infinity, \"sum\": NaN, \"min\": Infinity}}, \"EndTime\": 1514980814.182864, \"Dimensions\": {\"model\": 9, \"Host\": \"algo-1\", \"Operation\": \"training\", \"Algorithm\": \"Linear Learner\", \"epoch\": 7}, \"StartTime\": 1514980814.182844}\n",
      "\u001b[0m\n",
      "\u001b[31m#metrics {\"Metrics\": {\"training_binary_classification_cross_entropy\": {\"count\": 1, \"max\": 0.005483435904236392, \"sum\": 0.005483435904236392, \"min\": 0.005483435904236392}, \"validation_binary_classification_cross_entropy\": {\"count\": 1, \"max\": -Infinity, \"sum\": NaN, \"min\": Infinity}}, \"EndTime\": 1514980814.182928, \"Dimensions\": {\"model\": 10, \"Host\": \"algo-1\", \"Operation\": \"training\", \"Algorithm\": \"Linear Learner\", \"epoch\": 7}, \"StartTime\": 1514980814.182908}\n",
      "\u001b[0m\n",
      "\u001b[31m#metrics {\"Metrics\": {\"training_binary_classification_cross_entropy\": {\"count\": 1, \"max\": 0.00527410702382932, \"sum\": 0.00527410702382932, \"min\": 0.00527410702382932}, \"validation_binary_classification_cross_entropy\": {\"count\": 1, \"max\": -Infinity, \"sum\": NaN, \"min\": Infinity}}, \"EndTime\": 1514980814.182989, \"Dimensions\": {\"model\": 11, \"Host\": \"algo-1\", \"Operation\": \"training\", \"Algorithm\": \"Linear Learner\", \"epoch\": 7}, \"StartTime\": 1514980814.182969}\n",
      "\u001b[0m\n",
      "\u001b[31m#metrics {\"Metrics\": {\"training_binary_classification_cross_entropy\": {\"count\": 1, \"max\": 0.005220160502635064, \"sum\": 0.005220160502635064, \"min\": 0.005220160502635064}, \"validation_binary_classification_cross_entropy\": {\"count\": 1, \"max\": -Infinity, \"sum\": NaN, \"min\": Infinity}}, \"EndTime\": 1514980814.183051, \"Dimensions\": {\"model\": 12, \"Host\": \"algo-1\", \"Operation\": \"training\", \"Algorithm\": \"Linear Learner\", \"epoch\": 7}, \"StartTime\": 1514980814.183037}\n",
      "\u001b[0m\n",
      "\u001b[31m#metrics {\"Metrics\": {\"training_binary_classification_cross_entropy\": {\"count\": 1, \"max\": 0.0067235096505094995, \"sum\": 0.0067235096505094995, \"min\": 0.0067235096505094995}, \"validation_binary_classification_cross_entropy\": {\"count\": 1, \"max\": -Infinity, \"sum\": NaN, \"min\": Infinity}}, \"EndTime\": 1514980814.183107, \"Dimensions\": {\"model\": 13, \"Host\": \"algo-1\", \"Operation\": \"training\", \"Algorithm\": \"Linear Learner\", \"epoch\": 7}, \"StartTime\": 1514980814.183094}\n",
      "\u001b[0m\n",
      "\u001b[31m#metrics {\"Metrics\": {\"training_binary_classification_cross_entropy\": {\"count\": 1, \"max\": 0.005220160629312383, \"sum\": 0.005220160629312383, \"min\": 0.005220160629312383}, \"validation_binary_classification_cross_entropy\": {\"count\": 1, \"max\": -Infinity, \"sum\": NaN, \"min\": Infinity}}, \"EndTime\": 1514980814.183169, \"Dimensions\": {\"model\": 14, \"Host\": \"algo-1\", \"Operation\": \"training\", \"Algorithm\": \"Linear Learner\", \"epoch\": 7}, \"StartTime\": 1514980814.183149}\n",
      "\u001b[0m\n",
      "\u001b[31m#metrics {\"Metrics\": {\"training_binary_classification_cross_entropy\": {\"count\": 1, \"max\": 0.006727025633922122, \"sum\": 0.006727025633922122, \"min\": 0.006727025633922122}, \"validation_binary_classification_cross_entropy\": {\"count\": 1, \"max\": -Infinity, \"sum\": NaN, \"min\": Infinity}}, \"EndTime\": 1514980814.183219, \"Dimensions\": {\"model\": 15, \"Host\": \"algo-1\", \"Operation\": \"training\", \"Algorithm\": \"Linear Learner\", \"epoch\": 7}, \"StartTime\": 1514980814.183206}\n",
      "\u001b[0m\n",
      "\u001b[31m#metrics {\"Metrics\": {\"training_binary_classification_cross_entropy\": {\"count\": 1, \"max\": 0.012274148262670783, \"sum\": 0.012274148262670783, \"min\": 0.012274148262670783}, \"validation_binary_classification_cross_entropy\": {\"count\": 1, \"max\": -Infinity, \"sum\": NaN, \"min\": Infinity}}, \"EndTime\": 1514980814.183289, \"Dimensions\": {\"model\": 16, \"Host\": \"algo-1\", \"Operation\": \"training\", \"Algorithm\": \"Linear Learner\", \"epoch\": 7}, \"StartTime\": 1514980814.183268}\n",
      "\u001b[0m\n",
      "\u001b[31m#metrics {\"Metrics\": {\"training_binary_classification_cross_entropy\": {\"count\": 1, \"max\": 0.012231377650933467, \"sum\": 0.012231377650933467, \"min\": 0.012231377650933467}, \"validation_binary_classification_cross_entropy\": {\"count\": 1, \"max\": -Infinity, \"sum\": NaN, \"min\": Infinity}}, \"EndTime\": 1514980814.183358, \"Dimensions\": {\"model\": 17, \"Host\": \"algo-1\", \"Operation\": \"training\", \"Algorithm\": \"Linear Learner\", \"epoch\": 7}, \"StartTime\": 1514980814.183336}\n",
      "\u001b[0m\n",
      "\u001b[31m#metrics {\"Metrics\": {\"training_binary_classification_cross_entropy\": {\"count\": 1, \"max\": 0.012269104879340745, \"sum\": 0.012269104879340745, \"min\": 0.012269104879340745}, \"validation_binary_classification_cross_entropy\": {\"count\": 1, \"max\": -Infinity, \"sum\": NaN, \"min\": Infinity}}, \"EndTime\": 1514980814.183426, \"Dimensions\": {\"model\": 18, \"Host\": \"algo-1\", \"Operation\": \"training\", \"Algorithm\": \"Linear Learner\", \"epoch\": 7}, \"StartTime\": 1514980814.183404}\n",
      "\u001b[0m\n",
      "\u001b[31m#metrics {\"Metrics\": {\"training_binary_classification_cross_entropy\": {\"count\": 1, \"max\": 0.012231379565226668, \"sum\": 0.012231379565226668, \"min\": 0.012231379565226668}, \"validation_binary_classification_cross_entropy\": {\"count\": 1, \"max\": -Infinity, \"sum\": NaN, \"min\": Infinity}}, \"EndTime\": 1514980814.183488, \"Dimensions\": {\"model\": 19, \"Host\": \"algo-1\", \"Operation\": \"training\", \"Algorithm\": \"Linear Learner\", \"epoch\": 7}, \"StartTime\": 1514980814.18347}\n",
      "\u001b[0m\n",
      "\u001b[31m#metrics {\"Metrics\": {\"training_binary_classification_cross_entropy\": {\"count\": 1, \"max\": 0.012272122249321301, \"sum\": 0.012272122249321301, \"min\": 0.012272122249321301}, \"validation_binary_classification_cross_entropy\": {\"count\": 1, \"max\": -Infinity, \"sum\": NaN, \"min\": Infinity}}, \"EndTime\": 1514980814.183543, \"Dimensions\": {\"model\": 20, \"Host\": \"algo-1\", \"Operation\": \"training\", \"Algorithm\": \"Linear Learner\", \"epoch\": 7}, \"StartTime\": 1514980814.183527}\n",
      "\u001b[0m\n",
      "\u001b[31m#metrics {\"Metrics\": {\"training_binary_classification_cross_entropy\": {\"count\": 1, \"max\": 0.012699527261403566, \"sum\": 0.012699527261403566, \"min\": 0.012699527261403566}, \"validation_binary_classification_cross_entropy\": {\"count\": 1, \"max\": -Infinity, \"sum\": NaN, \"min\": Infinity}}, \"EndTime\": 1514980814.18361, \"Dimensions\": {\"model\": 21, \"Host\": \"algo-1\", \"Operation\": \"training\", \"Algorithm\": \"Linear Learner\", \"epoch\": 7}, \"StartTime\": 1514980814.183589}\n",
      "\u001b[0m\n",
      "\u001b[31m#metrics {\"Metrics\": {\"training_binary_classification_cross_entropy\": {\"count\": 1, \"max\": 0.012272122199592601, \"sum\": 0.012272122199592601, \"min\": 0.012272122199592601}, \"validation_binary_classification_cross_entropy\": {\"count\": 1, \"max\": -Infinity, \"sum\": NaN, \"min\": Infinity}}, \"EndTime\": 1514980814.183671, \"Dimensions\": {\"model\": 22, \"Host\": \"algo-1\", \"Operation\": \"training\", \"Algorithm\": \"Linear Learner\", \"epoch\": 7}, \"StartTime\": 1514980814.18365}\n",
      "\u001b[0m\n",
      "\u001b[31m#metrics {\"Metrics\": {\"training_binary_classification_cross_entropy\": {\"count\": 1, \"max\": 0.012700218007326196, \"sum\": 0.012700218007326196, \"min\": 0.012700218007326196}, \"validation_binary_classification_cross_entropy\": {\"count\": 1, \"max\": -Infinity, \"sum\": NaN, \"min\": Infinity}}, \"EndTime\": 1514980814.183729, \"Dimensions\": {\"model\": 23, \"Host\": \"algo-1\", \"Operation\": \"training\", \"Algorithm\": \"Linear Learner\", \"epoch\": 7}, \"StartTime\": 1514980814.183709}\n",
      "\u001b[0m\n",
      "\u001b[31m#metrics {\"Metrics\": {\"training_binary_classification_cross_entropy\": {\"count\": 1, \"max\": 0.013284118966978105, \"sum\": 0.013284118966978105, \"min\": 0.013284118966978105}, \"validation_binary_classification_cross_entropy\": {\"count\": 1, \"max\": -Infinity, \"sum\": NaN, \"min\": Infinity}}, \"EndTime\": 1514980814.183832, \"Dimensions\": {\"model\": 24, \"Host\": \"algo-1\", \"Operation\": \"training\", \"Algorithm\": \"Linear Learner\", \"epoch\": 7}, \"StartTime\": 1514980814.183784}\n",
      "\u001b[0m\n",
      "\u001b[31m#metrics {\"Metrics\": {\"training_binary_classification_cross_entropy\": {\"count\": 1, \"max\": 0.013268361147972963, \"sum\": 0.013268361147972963, \"min\": 0.013268361147972963}, \"validation_binary_classification_cross_entropy\": {\"count\": 1, \"max\": -Infinity, \"sum\": NaN, \"min\": Infinity}}, \"EndTime\": 1514980814.183907, \"Dimensions\": {\"model\": 25, \"Host\": \"algo-1\", \"Operation\": \"training\", \"Algorithm\": \"Linear Learner\", \"epoch\": 7}, \"StartTime\": 1514980814.183885}\n",
      "\u001b[0m\n",
      "\u001b[31m#metrics {\"Metrics\": {\"training_binary_classification_cross_entropy\": {\"count\": 1, \"max\": 0.01327357927132267, \"sum\": 0.01327357927132267, \"min\": 0.01327357927132267}, \"validation_binary_classification_cross_entropy\": {\"count\": 1, \"max\": -Infinity, \"sum\": NaN, \"min\": Infinity}}, \"EndTime\": 1514980814.183961, \"Dimensions\": {\"model\": 26, \"Host\": \"algo-1\", \"Operation\": \"training\", \"Algorithm\": \"Linear Learner\", \"epoch\": 7}, \"StartTime\": 1514980814.183941}\n",
      "\u001b[0m\n",
      "\u001b[31m#metrics {\"Metrics\": {\"training_binary_classification_cross_entropy\": {\"count\": 1, \"max\": 0.01326847304347946, \"sum\": 0.01326847304347946, \"min\": 0.01326847304347946}, \"validation_binary_classification_cross_entropy\": {\"count\": 1, \"max\": -Infinity, \"sum\": NaN, \"min\": Infinity}}, \"EndTime\": 1514980814.184023, \"Dimensions\": {\"model\": 27, \"Host\": \"algo-1\", \"Operation\": \"training\", \"Algorithm\": \"Linear Learner\", \"epoch\": 7}, \"StartTime\": 1514980814.184003}\n",
      "\u001b[0m\n",
      "\u001b[31m#metrics {\"Metrics\": {\"training_binary_classification_cross_entropy\": {\"count\": 1, \"max\": 0.013263094950057305, \"sum\": 0.013263094950057305, \"min\": 0.013263094950057305}, \"validation_binary_classification_cross_entropy\": {\"count\": 1, \"max\": -Infinity, \"sum\": NaN, \"min\": Infinity}}, \"EndTime\": 1514980814.184098, \"Dimensions\": {\"model\": 28, \"Host\": \"algo-1\", \"Operation\": \"training\", \"Algorithm\": \"Linear Learner\", \"epoch\": 7}, \"StartTime\": 1514980814.184074}\n",
      "\u001b[0m\n",
      "\u001b[31m#metrics {\"Metrics\": {\"training_binary_classification_cross_entropy\": {\"count\": 1, \"max\": 0.013573092638113616, \"sum\": 0.013573092638113616, \"min\": 0.013573092638113616}, \"validation_binary_classification_cross_entropy\": {\"count\": 1, \"max\": -Infinity, \"sum\": NaN, \"min\": Infinity}}, \"EndTime\": 1514980814.18417, \"Dimensions\": {\"model\": 29, \"Host\": \"algo-1\", \"Operation\": \"training\", \"Algorithm\": \"Linear Learner\", \"epoch\": 7}, \"StartTime\": 1514980814.184147}\n",
      "\u001b[0m\n",
      "\u001b[31m#metrics {\"Metrics\": {\"training_binary_classification_cross_entropy\": {\"count\": 1, \"max\": 0.013262990462033195, \"sum\": 0.013262990462033195, \"min\": 0.013262990462033195}, \"validation_binary_classification_cross_entropy\": {\"count\": 1, \"max\": -Infinity, \"sum\": NaN, \"min\": Infinity}}, \"EndTime\": 1514980814.184237, \"Dimensions\": {\"model\": 30, \"Host\": \"algo-1\", \"Operation\": \"training\", \"Algorithm\": \"Linear Learner\", \"epoch\": 7}, \"StartTime\": 1514980814.184216}\n",
      "\u001b[0m\n",
      "\u001b[31m#metrics {\"Metrics\": {\"training_binary_classification_cross_entropy\": {\"count\": 1, \"max\": 0.013573902386406423, \"sum\": 0.013573902386406423, \"min\": 0.013573902386406423}, \"validation_binary_classification_cross_entropy\": {\"count\": 1, \"max\": -Infinity, \"sum\": NaN, \"min\": Infinity}}, \"EndTime\": 1514980814.184283, \"Dimensions\": {\"model\": 31, \"Host\": \"algo-1\", \"Operation\": \"training\", \"Algorithm\": \"Linear Learner\", \"epoch\": 7}, \"StartTime\": 1514980814.184272}\n",
      "\u001b[0m\n"
     ]
    },
    {
     "name": "stdout",
     "output_type": "stream",
     "text": [
      "\u001b[31m#metrics {\"Metrics\": {\"training_binary_classification_cross_entropy\": {\"count\": 1, \"max\": 0.00480559869204807, \"sum\": 0.00480559869204807, \"min\": 0.00480559869204807}, \"validation_binary_classification_cross_entropy\": {\"count\": 1, \"max\": -Infinity, \"sum\": NaN, \"min\": Infinity}}, \"EndTime\": 1514980847.339132, \"Dimensions\": {\"model\": 0, \"Host\": \"algo-1\", \"Operation\": \"training\", \"Algorithm\": \"Linear Learner\", \"epoch\": 8}, \"StartTime\": 1514980847.338955}\n",
      "\u001b[0m\n",
      "\u001b[31m#metrics {\"Metrics\": {\"training_binary_classification_cross_entropy\": {\"count\": 1, \"max\": 0.004385153301958806, \"sum\": 0.004385153301958806, \"min\": 0.004385153301958806}, \"validation_binary_classification_cross_entropy\": {\"count\": 1, \"max\": -Infinity, \"sum\": NaN, \"min\": Infinity}}, \"EndTime\": 1514980847.339271, \"Dimensions\": {\"model\": 1, \"Host\": \"algo-1\", \"Operation\": \"training\", \"Algorithm\": \"Linear Learner\", \"epoch\": 8}, \"StartTime\": 1514980847.339247}\n",
      "\u001b[0m\n",
      "\u001b[31m#metrics {\"Metrics\": {\"training_binary_classification_cross_entropy\": {\"count\": 1, \"max\": 0.004671274567114525, \"sum\": 0.004671274567114525, \"min\": 0.004671274567114525}, \"validation_binary_classification_cross_entropy\": {\"count\": 1, \"max\": -Infinity, \"sum\": NaN, \"min\": Infinity}}, \"EndTime\": 1514980847.339348, \"Dimensions\": {\"model\": 2, \"Host\": \"algo-1\", \"Operation\": \"training\", \"Algorithm\": \"Linear Learner\", \"epoch\": 8}, \"StartTime\": 1514980847.339327}\n",
      "\u001b[0m\n",
      "\u001b[31m#metrics {\"Metrics\": {\"training_binary_classification_cross_entropy\": {\"count\": 1, \"max\": 0.00438532716819288, \"sum\": 0.00438532716819288, \"min\": 0.00438532716819288}, \"validation_binary_classification_cross_entropy\": {\"count\": 1, \"max\": -Infinity, \"sum\": NaN, \"min\": Infinity}}, \"EndTime\": 1514980847.339417, \"Dimensions\": {\"model\": 3, \"Host\": \"algo-1\", \"Operation\": \"training\", \"Algorithm\": \"Linear Learner\", \"epoch\": 8}, \"StartTime\": 1514980847.339397}\n",
      "\u001b[0m\n",
      "\u001b[31m#metrics {\"Metrics\": {\"training_binary_classification_cross_entropy\": {\"count\": 1, \"max\": 0.0042454212789687674, \"sum\": 0.0042454212789687674, \"min\": 0.0042454212789687674}, \"validation_binary_classification_cross_entropy\": {\"count\": 1, \"max\": -Infinity, \"sum\": NaN, \"min\": Infinity}}, \"EndTime\": 1514980847.339485, \"Dimensions\": {\"model\": 4, \"Host\": \"algo-1\", \"Operation\": \"training\", \"Algorithm\": \"Linear Learner\", \"epoch\": 8}, \"StartTime\": 1514980847.339465}\n",
      "\u001b[0m\n",
      "\u001b[31m#metrics {\"Metrics\": {\"training_binary_classification_cross_entropy\": {\"count\": 1, \"max\": 0.006941675742072151, \"sum\": 0.006941675742072151, \"min\": 0.006941675742072151}, \"validation_binary_classification_cross_entropy\": {\"count\": 1, \"max\": -Infinity, \"sum\": NaN, \"min\": Infinity}}, \"EndTime\": 1514980847.339549, \"Dimensions\": {\"model\": 5, \"Host\": \"algo-1\", \"Operation\": \"training\", \"Algorithm\": \"Linear Learner\", \"epoch\": 8}, \"StartTime\": 1514980847.339531}\n",
      "\u001b[0m\n",
      "\u001b[31m#metrics {\"Metrics\": {\"training_binary_classification_cross_entropy\": {\"count\": 1, \"max\": 0.004202208354135656, \"sum\": 0.004202208354135656, \"min\": 0.004202208354135656}, \"validation_binary_classification_cross_entropy\": {\"count\": 1, \"max\": -Infinity, \"sum\": NaN, \"min\": Infinity}}, \"EndTime\": 1514980847.339608, \"Dimensions\": {\"model\": 6, \"Host\": \"algo-1\", \"Operation\": \"training\", \"Algorithm\": \"Linear Learner\", \"epoch\": 8}, \"StartTime\": 1514980847.339589}\n",
      "\u001b[0m\n",
      "\u001b[31m#metrics {\"Metrics\": {\"training_binary_classification_cross_entropy\": {\"count\": 1, \"max\": 0.007005989371881541, \"sum\": 0.007005989371881541, \"min\": 0.007005989371881541}, \"validation_binary_classification_cross_entropy\": {\"count\": 1, \"max\": -Infinity, \"sum\": NaN, \"min\": Infinity}}, \"EndTime\": 1514980847.339664, \"Dimensions\": {\"model\": 7, \"Host\": \"algo-1\", \"Operation\": \"training\", \"Algorithm\": \"Linear Learner\", \"epoch\": 8}, \"StartTime\": 1514980847.339647}\n",
      "\u001b[0m\n",
      "\u001b[31m#metrics {\"Metrics\": {\"training_binary_classification_cross_entropy\": {\"count\": 1, \"max\": 0.005521546526870906, \"sum\": 0.005521546526870906, \"min\": 0.005521546526870906}, \"validation_binary_classification_cross_entropy\": {\"count\": 1, \"max\": -Infinity, \"sum\": NaN, \"min\": Infinity}}, \"EndTime\": 1514980847.339721, \"Dimensions\": {\"model\": 8, \"Host\": \"algo-1\", \"Operation\": \"training\", \"Algorithm\": \"Linear Learner\", \"epoch\": 8}, \"StartTime\": 1514980847.339703}\n",
      "\u001b[0m\n",
      "\u001b[31m#metrics {\"Metrics\": {\"training_binary_classification_cross_entropy\": {\"count\": 1, \"max\": 0.005280464037258257, \"sum\": 0.005280464037258257, \"min\": 0.005280464037258257}, \"validation_binary_classification_cross_entropy\": {\"count\": 1, \"max\": -Infinity, \"sum\": NaN, \"min\": Infinity}}, \"EndTime\": 1514980847.339781, \"Dimensions\": {\"model\": 9, \"Host\": \"algo-1\", \"Operation\": \"training\", \"Algorithm\": \"Linear Learner\", \"epoch\": 8}, \"StartTime\": 1514980847.339762}\n",
      "\u001b[0m\n",
      "\u001b[31m#metrics {\"Metrics\": {\"training_binary_classification_cross_entropy\": {\"count\": 1, \"max\": 0.005429714726288508, \"sum\": 0.005429714726288508, \"min\": 0.005429714726288508}, \"validation_binary_classification_cross_entropy\": {\"count\": 1, \"max\": -Infinity, \"sum\": NaN, \"min\": Infinity}}, \"EndTime\": 1514980847.339869, \"Dimensions\": {\"model\": 10, \"Host\": \"algo-1\", \"Operation\": \"training\", \"Algorithm\": \"Linear Learner\", \"epoch\": 8}, \"StartTime\": 1514980847.339848}\n",
      "\u001b[0m\n",
      "\u001b[31m#metrics {\"Metrics\": {\"training_binary_classification_cross_entropy\": {\"count\": 1, \"max\": 0.005280499667958716, \"sum\": 0.005280499667958716, \"min\": 0.005280499667958716}, \"validation_binary_classification_cross_entropy\": {\"count\": 1, \"max\": -Infinity, \"sum\": NaN, \"min\": Infinity}}, \"EndTime\": 1514980847.339928, \"Dimensions\": {\"model\": 11, \"Host\": \"algo-1\", \"Operation\": \"training\", \"Algorithm\": \"Linear Learner\", \"epoch\": 8}, \"StartTime\": 1514980847.339909}\n",
      "\u001b[0m\n",
      "\u001b[31m#metrics {\"Metrics\": {\"training_binary_classification_cross_entropy\": {\"count\": 1, \"max\": 0.005213064296951897, \"sum\": 0.005213064296951897, \"min\": 0.005213064296951897}, \"validation_binary_classification_cross_entropy\": {\"count\": 1, \"max\": -Infinity, \"sum\": NaN, \"min\": Infinity}}, \"EndTime\": 1514980847.339993, \"Dimensions\": {\"model\": 12, \"Host\": \"algo-1\", \"Operation\": \"training\", \"Algorithm\": \"Linear Learner\", \"epoch\": 8}, \"StartTime\": 1514980847.339974}\n",
      "\u001b[0m\n",
      "\u001b[31m#metrics {\"Metrics\": {\"training_binary_classification_cross_entropy\": {\"count\": 1, \"max\": 0.006572102366933551, \"sum\": 0.006572102366933551, \"min\": 0.006572102366933551}, \"validation_binary_classification_cross_entropy\": {\"count\": 1, \"max\": -Infinity, \"sum\": NaN, \"min\": Infinity}}, \"EndTime\": 1514980847.34006, \"Dimensions\": {\"model\": 13, \"Host\": \"algo-1\", \"Operation\": \"training\", \"Algorithm\": \"Linear Learner\", \"epoch\": 8}, \"StartTime\": 1514980847.34004}\n",
      "\u001b[0m\n",
      "\u001b[31m#metrics {\"Metrics\": {\"training_binary_classification_cross_entropy\": {\"count\": 1, \"max\": 0.005213066348304375, \"sum\": 0.005213066348304375, \"min\": 0.005213066348304375}, \"validation_binary_classification_cross_entropy\": {\"count\": 1, \"max\": -Infinity, \"sum\": NaN, \"min\": Infinity}}, \"EndTime\": 1514980847.340125, \"Dimensions\": {\"model\": 14, \"Host\": \"algo-1\", \"Operation\": \"training\", \"Algorithm\": \"Linear Learner\", \"epoch\": 8}, \"StartTime\": 1514980847.340106}\n",
      "\u001b[0m\n",
      "\u001b[31m#metrics {\"Metrics\": {\"training_binary_classification_cross_entropy\": {\"count\": 1, \"max\": 0.006573472642612401, \"sum\": 0.006573472642612401, \"min\": 0.006573472642612401}, \"validation_binary_classification_cross_entropy\": {\"count\": 1, \"max\": -Infinity, \"sum\": NaN, \"min\": Infinity}}, \"EndTime\": 1514980847.340191, \"Dimensions\": {\"model\": 15, \"Host\": \"algo-1\", \"Operation\": \"training\", \"Algorithm\": \"Linear Learner\", \"epoch\": 8}, \"StartTime\": 1514980847.340172}\n",
      "\u001b[0m\n",
      "\u001b[31m#metrics {\"Metrics\": {\"training_binary_classification_cross_entropy\": {\"count\": 1, \"max\": 0.012271756968990981, \"sum\": 0.012271756968990981, \"min\": 0.012271756968990981}, \"validation_binary_classification_cross_entropy\": {\"count\": 1, \"max\": -Infinity, \"sum\": NaN, \"min\": Infinity}}, \"EndTime\": 1514980847.340252, \"Dimensions\": {\"model\": 16, \"Host\": \"algo-1\", \"Operation\": \"training\", \"Algorithm\": \"Linear Learner\", \"epoch\": 8}, \"StartTime\": 1514980847.340234}\n",
      "\u001b[0m\n",
      "\u001b[31m#metrics {\"Metrics\": {\"training_binary_classification_cross_entropy\": {\"count\": 1, \"max\": 0.012235628679848388, \"sum\": 0.012235628679848388, \"min\": 0.012235628679848388}, \"validation_binary_classification_cross_entropy\": {\"count\": 1, \"max\": -Infinity, \"sum\": NaN, \"min\": Infinity}}, \"EndTime\": 1514980847.340314, \"Dimensions\": {\"model\": 17, \"Host\": \"algo-1\", \"Operation\": \"training\", \"Algorithm\": \"Linear Learner\", \"epoch\": 8}, \"StartTime\": 1514980847.340296}\n",
      "\u001b[0m\n",
      "\u001b[31m#metrics {\"Metrics\": {\"training_binary_classification_cross_entropy\": {\"count\": 1, \"max\": 0.01226145583935588, \"sum\": 0.01226145583935588, \"min\": 0.01226145583935588}, \"validation_binary_classification_cross_entropy\": {\"count\": 1, \"max\": -Infinity, \"sum\": NaN, \"min\": Infinity}}, \"EndTime\": 1514980847.340379, \"Dimensions\": {\"model\": 18, \"Host\": \"algo-1\", \"Operation\": \"training\", \"Algorithm\": \"Linear Learner\", \"epoch\": 8}, \"StartTime\": 1514980847.34036}\n",
      "\u001b[0m\n",
      "\u001b[31m#metrics {\"Metrics\": {\"training_binary_classification_cross_entropy\": {\"count\": 1, \"max\": 0.012235630008215368, \"sum\": 0.012235630008215368, \"min\": 0.012235630008215368}, \"validation_binary_classification_cross_entropy\": {\"count\": 1, \"max\": -Infinity, \"sum\": NaN, \"min\": Infinity}}, \"EndTime\": 1514980847.340445, \"Dimensions\": {\"model\": 19, \"Host\": \"algo-1\", \"Operation\": \"training\", \"Algorithm\": \"Linear Learner\", \"epoch\": 8}, \"StartTime\": 1514980847.340426}\n",
      "\u001b[0m\n",
      "\u001b[31m#metrics {\"Metrics\": {\"training_binary_classification_cross_entropy\": {\"count\": 1, \"max\": 0.012261601728179973, \"sum\": 0.012261601728179973, \"min\": 0.012261601728179973}, \"validation_binary_classification_cross_entropy\": {\"count\": 1, \"max\": -Infinity, \"sum\": NaN, \"min\": Infinity}}, \"EndTime\": 1514980847.340511, \"Dimensions\": {\"model\": 20, \"Host\": \"algo-1\", \"Operation\": \"training\", \"Algorithm\": \"Linear Learner\", \"epoch\": 8}, \"StartTime\": 1514980847.340492}\n",
      "\u001b[0m\n",
      "\u001b[31m#metrics {\"Metrics\": {\"training_binary_classification_cross_entropy\": {\"count\": 1, \"max\": 0.012683180638717649, \"sum\": 0.012683180638717649, \"min\": 0.012683180638717649}, \"validation_binary_classification_cross_entropy\": {\"count\": 1, \"max\": -Infinity, \"sum\": NaN, \"min\": Infinity}}, \"EndTime\": 1514980847.340572, \"Dimensions\": {\"model\": 21, \"Host\": \"algo-1\", \"Operation\": \"training\", \"Algorithm\": \"Linear Learner\", \"epoch\": 8}, \"StartTime\": 1514980847.340554}\n",
      "\u001b[0m\n",
      "\u001b[31m#metrics {\"Metrics\": {\"training_binary_classification_cross_entropy\": {\"count\": 1, \"max\": 0.012261601675136027, \"sum\": 0.012261601675136027, \"min\": 0.012261601675136027}, \"validation_binary_classification_cross_entropy\": {\"count\": 1, \"max\": -Infinity, \"sum\": NaN, \"min\": Infinity}}, \"EndTime\": 1514980847.340629, \"Dimensions\": {\"model\": 22, \"Host\": \"algo-1\", \"Operation\": \"training\", \"Algorithm\": \"Linear Learner\", \"epoch\": 8}, \"StartTime\": 1514980847.340611}\n",
      "\u001b[0m\n",
      "\u001b[31m#metrics {\"Metrics\": {\"training_binary_classification_cross_entropy\": {\"count\": 1, \"max\": 0.012683464054114227, \"sum\": 0.012683464054114227, \"min\": 0.012683464054114227}, \"validation_binary_classification_cross_entropy\": {\"count\": 1, \"max\": -Infinity, \"sum\": NaN, \"min\": Infinity}}, \"EndTime\": 1514980847.340686, \"Dimensions\": {\"model\": 23, \"Host\": \"algo-1\", \"Operation\": \"training\", \"Algorithm\": \"Linear Learner\", \"epoch\": 8}, \"StartTime\": 1514980847.340668}\n",
      "\u001b[0m\n",
      "\u001b[31m#metrics {\"Metrics\": {\"training_binary_classification_cross_entropy\": {\"count\": 1, \"max\": 0.013281922407919406, \"sum\": 0.013281922407919406, \"min\": 0.013281922407919406}, \"validation_binary_classification_cross_entropy\": {\"count\": 1, \"max\": -Infinity, \"sum\": NaN, \"min\": Infinity}}, \"EndTime\": 1514980847.340776, \"Dimensions\": {\"model\": 24, \"Host\": \"algo-1\", \"Operation\": \"training\", \"Algorithm\": \"Linear Learner\", \"epoch\": 8}, \"StartTime\": 1514980847.340753}\n",
      "\u001b[0m\n",
      "\u001b[31m#metrics {\"Metrics\": {\"training_binary_classification_cross_entropy\": {\"count\": 1, \"max\": 0.01326994496238455, \"sum\": 0.01326994496238455, \"min\": 0.01326994496238455}, \"validation_binary_classification_cross_entropy\": {\"count\": 1, \"max\": -Infinity, \"sum\": NaN, \"min\": Infinity}}, \"EndTime\": 1514980847.340902, \"Dimensions\": {\"model\": 25, \"Host\": \"algo-1\", \"Operation\": \"training\", \"Algorithm\": \"Linear Learner\", \"epoch\": 8}, \"StartTime\": 1514980847.340868}\n",
      "\u001b[0m\n",
      "\u001b[31m#metrics {\"Metrics\": {\"training_binary_classification_cross_entropy\": {\"count\": 1, \"max\": 0.013266047778118411, \"sum\": 0.013266047778118411, \"min\": 0.013266047778118411}, \"validation_binary_classification_cross_entropy\": {\"count\": 1, \"max\": -Infinity, \"sum\": NaN, \"min\": Infinity}}, \"EndTime\": 1514980847.340975, \"Dimensions\": {\"model\": 26, \"Host\": \"algo-1\", \"Operation\": \"training\", \"Algorithm\": \"Linear Learner\", \"epoch\": 8}, \"StartTime\": 1514980847.340952}\n",
      "\u001b[0m\n",
      "\u001b[31m#metrics {\"Metrics\": {\"training_binary_classification_cross_entropy\": {\"count\": 1, \"max\": 0.013270003488178276, \"sum\": 0.013270003488178276, \"min\": 0.013270003488178276}, \"validation_binary_classification_cross_entropy\": {\"count\": 1, \"max\": -Infinity, \"sum\": NaN, \"min\": Infinity}}, \"EndTime\": 1514980847.341047, \"Dimensions\": {\"model\": 27, \"Host\": \"algo-1\", \"Operation\": \"training\", \"Algorithm\": \"Linear Learner\", \"epoch\": 8}, \"StartTime\": 1514980847.341026}\n",
      "\u001b[0m\n",
      "\u001b[31m#metrics {\"Metrics\": {\"training_binary_classification_cross_entropy\": {\"count\": 1, \"max\": 0.013260521219053089, \"sum\": 0.013260521219053089, \"min\": 0.013260521219053089}, \"validation_binary_classification_cross_entropy\": {\"count\": 1, \"max\": -Infinity, \"sum\": NaN, \"min\": Infinity}}, \"EndTime\": 1514980847.341106, \"Dimensions\": {\"model\": 28, \"Host\": \"algo-1\", \"Operation\": \"training\", \"Algorithm\": \"Linear Learner\", \"epoch\": 8}, \"StartTime\": 1514980847.341088}\n",
      "\u001b[0m\n",
      "\u001b[31m#metrics {\"Metrics\": {\"training_binary_classification_cross_entropy\": {\"count\": 1, \"max\": 0.013559688494848284, \"sum\": 0.013559688494848284, \"min\": 0.013559688494848284}, \"validation_binary_classification_cross_entropy\": {\"count\": 1, \"max\": -Infinity, \"sum\": NaN, \"min\": Infinity}}, \"EndTime\": 1514980847.341165, \"Dimensions\": {\"model\": 29, \"Host\": \"algo-1\", \"Operation\": \"training\", \"Algorithm\": \"Linear Learner\", \"epoch\": 8}, \"StartTime\": 1514980847.341146}\n",
      "\u001b[0m\n",
      "\u001b[31m#metrics {\"Metrics\": {\"training_binary_classification_cross_entropy\": {\"count\": 1, \"max\": 0.01326057710032692, \"sum\": 0.01326057710032692, \"min\": 0.01326057710032692}, \"validation_binary_classification_cross_entropy\": {\"count\": 1, \"max\": -Infinity, \"sum\": NaN, \"min\": Infinity}}, \"EndTime\": 1514980847.341237, \"Dimensions\": {\"model\": 30, \"Host\": \"algo-1\", \"Operation\": \"training\", \"Algorithm\": \"Linear Learner\", \"epoch\": 8}, \"StartTime\": 1514980847.341217}\n",
      "\u001b[0m\n",
      "\u001b[31m#metrics {\"Metrics\": {\"training_binary_classification_cross_entropy\": {\"count\": 1, \"max\": 0.013559941408885272, \"sum\": 0.013559941408885272, \"min\": 0.013559941408885272}, \"validation_binary_classification_cross_entropy\": {\"count\": 1, \"max\": -Infinity, \"sum\": NaN, \"min\": Infinity}}, \"EndTime\": 1514980847.34131, \"Dimensions\": {\"model\": 31, \"Host\": \"algo-1\", \"Operation\": \"training\", \"Algorithm\": \"Linear Learner\", \"epoch\": 8}, \"StartTime\": 1514980847.341288}\n",
      "\u001b[0m\n"
     ]
    },
    {
     "name": "stdout",
     "output_type": "stream",
     "text": [
      "\u001b[31m#metrics {\"Metrics\": {\"training_binary_classification_cross_entropy\": {\"count\": 1, \"max\": 0.004790482024293594, \"sum\": 0.004790482024293594, \"min\": 0.004790482024293594}, \"validation_binary_classification_cross_entropy\": {\"count\": 1, \"max\": -Infinity, \"sum\": NaN, \"min\": Infinity}}, \"EndTime\": 1514980880.938624, \"Dimensions\": {\"model\": 0, \"Host\": \"algo-1\", \"Operation\": \"training\", \"Algorithm\": \"Linear Learner\", \"epoch\": 9}, \"StartTime\": 1514980880.938508}\n",
      "\u001b[0m\n",
      "\u001b[31m#metrics {\"Metrics\": {\"training_binary_classification_cross_entropy\": {\"count\": 1, \"max\": 0.0043723995594931574, \"sum\": 0.0043723995594931574, \"min\": 0.0043723995594931574}, \"validation_binary_classification_cross_entropy\": {\"count\": 1, \"max\": -Infinity, \"sum\": NaN, \"min\": Infinity}}, \"EndTime\": 1514980880.938726, \"Dimensions\": {\"model\": 1, \"Host\": \"algo-1\", \"Operation\": \"training\", \"Algorithm\": \"Linear Learner\", \"epoch\": 9}, \"StartTime\": 1514980880.938709}\n",
      "\u001b[0m\n",
      "\u001b[31m#metrics {\"Metrics\": {\"training_binary_classification_cross_entropy\": {\"count\": 1, \"max\": 0.004605250280149787, \"sum\": 0.004605250280149787, \"min\": 0.004605250280149787}, \"validation_binary_classification_cross_entropy\": {\"count\": 1, \"max\": -Infinity, \"sum\": NaN, \"min\": Infinity}}, \"EndTime\": 1514980880.938798, \"Dimensions\": {\"model\": 2, \"Host\": \"algo-1\", \"Operation\": \"training\", \"Algorithm\": \"Linear Learner\", \"epoch\": 9}, \"StartTime\": 1514980880.938778}\n",
      "\u001b[0m\n",
      "\u001b[31m#metrics {\"Metrics\": {\"training_binary_classification_cross_entropy\": {\"count\": 1, \"max\": 0.004371358352850695, \"sum\": 0.004371358352850695, \"min\": 0.004371358352850695}, \"validation_binary_classification_cross_entropy\": {\"count\": 1, \"max\": -Infinity, \"sum\": NaN, \"min\": Infinity}}, \"EndTime\": 1514980880.938864, \"Dimensions\": {\"model\": 3, \"Host\": \"algo-1\", \"Operation\": \"training\", \"Algorithm\": \"Linear Learner\", \"epoch\": 9}, \"StartTime\": 1514980880.938841}\n",
      "\u001b[0m\n",
      "\u001b[31m#metrics {\"Metrics\": {\"training_binary_classification_cross_entropy\": {\"count\": 1, \"max\": 0.004234888947566653, \"sum\": 0.004234888947566653, \"min\": 0.004234888947566653}, \"validation_binary_classification_cross_entropy\": {\"count\": 1, \"max\": -Infinity, \"sum\": NaN, \"min\": Infinity}}, \"EndTime\": 1514980880.93892, \"Dimensions\": {\"model\": 4, \"Host\": \"algo-1\", \"Operation\": \"training\", \"Algorithm\": \"Linear Learner\", \"epoch\": 9}, \"StartTime\": 1514980880.9389}\n",
      "\u001b[0m\n",
      "\u001b[31m#metrics {\"Metrics\": {\"training_binary_classification_cross_entropy\": {\"count\": 1, \"max\": 0.006861445791186466, \"sum\": 0.006861445791186466, \"min\": 0.006861445791186466}, \"validation_binary_classification_cross_entropy\": {\"count\": 1, \"max\": -Infinity, \"sum\": NaN, \"min\": Infinity}}, \"EndTime\": 1514980880.938985, \"Dimensions\": {\"model\": 5, \"Host\": \"algo-1\", \"Operation\": \"training\", \"Algorithm\": \"Linear Learner\", \"epoch\": 9}, \"StartTime\": 1514980880.938966}\n",
      "\u001b[0m\n",
      "\u001b[31m#metrics {\"Metrics\": {\"training_binary_classification_cross_entropy\": {\"count\": 1, \"max\": 0.004193191421011013, \"sum\": 0.004193191421011013, \"min\": 0.004193191421011013}, \"validation_binary_classification_cross_entropy\": {\"count\": 1, \"max\": -Infinity, \"sum\": NaN, \"min\": Infinity}}, \"EndTime\": 1514980880.939037, \"Dimensions\": {\"model\": 6, \"Host\": \"algo-1\", \"Operation\": \"training\", \"Algorithm\": \"Linear Learner\", \"epoch\": 9}, \"StartTime\": 1514980880.939018}\n",
      "\u001b[0m\n",
      "\u001b[31m#metrics {\"Metrics\": {\"training_binary_classification_cross_entropy\": {\"count\": 1, \"max\": 0.00718423534693023, \"sum\": 0.00718423534693023, \"min\": 0.00718423534693023}, \"validation_binary_classification_cross_entropy\": {\"count\": 1, \"max\": -Infinity, \"sum\": NaN, \"min\": Infinity}}, \"EndTime\": 1514980880.939087, \"Dimensions\": {\"model\": 7, \"Host\": \"algo-1\", \"Operation\": \"training\", \"Algorithm\": \"Linear Learner\", \"epoch\": 9}, \"StartTime\": 1514980880.939069}\n",
      "\u001b[0m\n",
      "\u001b[31m#metrics {\"Metrics\": {\"training_binary_classification_cross_entropy\": {\"count\": 1, \"max\": 0.0055117685159349885, \"sum\": 0.0055117685159349885, \"min\": 0.0055117685159349885}, \"validation_binary_classification_cross_entropy\": {\"count\": 1, \"max\": -Infinity, \"sum\": NaN, \"min\": Infinity}}, \"EndTime\": 1514980880.939148, \"Dimensions\": {\"model\": 8, \"Host\": \"algo-1\", \"Operation\": \"training\", \"Algorithm\": \"Linear Learner\", \"epoch\": 9}, \"StartTime\": 1514980880.939128}\n",
      "\u001b[0m\n",
      "\u001b[31m#metrics {\"Metrics\": {\"training_binary_classification_cross_entropy\": {\"count\": 1, \"max\": 0.0052682391377013235, \"sum\": 0.0052682391377013235, \"min\": 0.0052682391377013235}, \"validation_binary_classification_cross_entropy\": {\"count\": 1, \"max\": -Infinity, \"sum\": NaN, \"min\": Infinity}}, \"EndTime\": 1514980880.939216, \"Dimensions\": {\"model\": 9, \"Host\": \"algo-1\", \"Operation\": \"training\", \"Algorithm\": \"Linear Learner\", \"epoch\": 9}, \"StartTime\": 1514980880.939194}\n",
      "\u001b[0m\n",
      "\u001b[31m#metrics {\"Metrics\": {\"training_binary_classification_cross_entropy\": {\"count\": 1, \"max\": 0.005384725916703217, \"sum\": 0.005384725916703217, \"min\": 0.005384725916703217}, \"validation_binary_classification_cross_entropy\": {\"count\": 1, \"max\": -Infinity, \"sum\": NaN, \"min\": Infinity}}, \"EndTime\": 1514980880.939295, \"Dimensions\": {\"model\": 10, \"Host\": \"algo-1\", \"Operation\": \"training\", \"Algorithm\": \"Linear Learner\", \"epoch\": 9}, \"StartTime\": 1514980880.939272}\n",
      "\u001b[0m\n",
      "\u001b[31m#metrics {\"Metrics\": {\"training_binary_classification_cross_entropy\": {\"count\": 1, \"max\": 0.005268238065742497, \"sum\": 0.005268238065742497, \"min\": 0.005268238065742497}, \"validation_binary_classification_cross_entropy\": {\"count\": 1, \"max\": -Infinity, \"sum\": NaN, \"min\": Infinity}}, \"EndTime\": 1514980880.939355, \"Dimensions\": {\"model\": 11, \"Host\": \"algo-1\", \"Operation\": \"training\", \"Algorithm\": \"Linear Learner\", \"epoch\": 9}, \"StartTime\": 1514980880.939342}\n",
      "\u001b[0m\n",
      "\u001b[31m#metrics {\"Metrics\": {\"training_binary_classification_cross_entropy\": {\"count\": 1, \"max\": 0.005207575159518166, \"sum\": 0.005207575159518166, \"min\": 0.005207575159518166}, \"validation_binary_classification_cross_entropy\": {\"count\": 1, \"max\": -Infinity, \"sum\": NaN, \"min\": Infinity}}, \"EndTime\": 1514980880.939425, \"Dimensions\": {\"model\": 12, \"Host\": \"algo-1\", \"Operation\": \"training\", \"Algorithm\": \"Linear Learner\", \"epoch\": 9}, \"StartTime\": 1514980880.939403}\n",
      "\u001b[0m\n",
      "\u001b[31m#metrics {\"Metrics\": {\"training_binary_classification_cross_entropy\": {\"count\": 1, \"max\": 0.006430615283651343, \"sum\": 0.006430615283651343, \"min\": 0.006430615283651343}, \"validation_binary_classification_cross_entropy\": {\"count\": 1, \"max\": -Infinity, \"sum\": NaN, \"min\": Infinity}}, \"EndTime\": 1514980880.939479, \"Dimensions\": {\"model\": 13, \"Host\": \"algo-1\", \"Operation\": \"training\", \"Algorithm\": \"Linear Learner\", \"epoch\": 9}, \"StartTime\": 1514980880.93946}\n",
      "\u001b[0m\n",
      "\u001b[31m#metrics {\"Metrics\": {\"training_binary_classification_cross_entropy\": {\"count\": 1, \"max\": 0.0052102142137931155, \"sum\": 0.0052102142137931155, \"min\": 0.0052102142137931155}, \"validation_binary_classification_cross_entropy\": {\"count\": 1, \"max\": -Infinity, \"sum\": NaN, \"min\": Infinity}}, \"EndTime\": 1514980880.939537, \"Dimensions\": {\"model\": 14, \"Host\": \"algo-1\", \"Operation\": \"training\", \"Algorithm\": \"Linear Learner\", \"epoch\": 9}, \"StartTime\": 1514980880.939517}\n",
      "\u001b[0m\n",
      "\u001b[31m#metrics {\"Metrics\": {\"training_binary_classification_cross_entropy\": {\"count\": 1, \"max\": 0.006431154473412093, \"sum\": 0.006431154473412093, \"min\": 0.006431154473412093}, \"validation_binary_classification_cross_entropy\": {\"count\": 1, \"max\": -Infinity, \"sum\": NaN, \"min\": Infinity}}, \"EndTime\": 1514980880.939605, \"Dimensions\": {\"model\": 15, \"Host\": \"algo-1\", \"Operation\": \"training\", \"Algorithm\": \"Linear Learner\", \"epoch\": 9}, \"StartTime\": 1514980880.939584}\n",
      "\u001b[0m\n",
      "\u001b[31m#metrics {\"Metrics\": {\"training_binary_classification_cross_entropy\": {\"count\": 1, \"max\": 0.01226936683721788, \"sum\": 0.01226936683721788, \"min\": 0.01226936683721788}, \"validation_binary_classification_cross_entropy\": {\"count\": 1, \"max\": -Infinity, \"sum\": NaN, \"min\": Infinity}}, \"EndTime\": 1514980880.939667, \"Dimensions\": {\"model\": 16, \"Host\": \"algo-1\", \"Operation\": \"training\", \"Algorithm\": \"Linear Learner\", \"epoch\": 9}, \"StartTime\": 1514980880.939647}\n",
      "\u001b[0m\n",
      "\u001b[31m#metrics {\"Metrics\": {\"training_binary_classification_cross_entropy\": {\"count\": 1, \"max\": 0.012240056551696266, \"sum\": 0.012240056551696266, \"min\": 0.012240056551696266}, \"validation_binary_classification_cross_entropy\": {\"count\": 1, \"max\": -Infinity, \"sum\": NaN, \"min\": Infinity}}, \"EndTime\": 1514980880.939738, \"Dimensions\": {\"model\": 17, \"Host\": \"algo-1\", \"Operation\": \"training\", \"Algorithm\": \"Linear Learner\", \"epoch\": 9}, \"StartTime\": 1514980880.939715}\n",
      "\u001b[0m\n",
      "\u001b[31m#metrics {\"Metrics\": {\"training_binary_classification_cross_entropy\": {\"count\": 1, \"max\": 0.0122573948457872, \"sum\": 0.0122573948457872, \"min\": 0.0122573948457872}, \"validation_binary_classification_cross_entropy\": {\"count\": 1, \"max\": -Infinity, \"sum\": NaN, \"min\": Infinity}}, \"EndTime\": 1514980880.939829, \"Dimensions\": {\"model\": 18, \"Host\": \"algo-1\", \"Operation\": \"training\", \"Algorithm\": \"Linear Learner\", \"epoch\": 9}, \"StartTime\": 1514980880.939785}\n",
      "\u001b[0m\n",
      "\u001b[31m#metrics {\"Metrics\": {\"training_binary_classification_cross_entropy\": {\"count\": 1, \"max\": 0.012240057210557913, \"sum\": 0.012240057210557913, \"min\": 0.012240057210557913}, \"validation_binary_classification_cross_entropy\": {\"count\": 1, \"max\": -Infinity, \"sum\": NaN, \"min\": Infinity}}, \"EndTime\": 1514980880.9399, \"Dimensions\": {\"model\": 19, \"Host\": \"algo-1\", \"Operation\": \"training\", \"Algorithm\": \"Linear Learner\", \"epoch\": 9}, \"StartTime\": 1514980880.939879}\n",
      "\u001b[0m\n",
      "\u001b[31m#metrics {\"Metrics\": {\"training_binary_classification_cross_entropy\": {\"count\": 1, \"max\": 0.01225120110834231, \"sum\": 0.01225120110834231, \"min\": 0.01225120110834231}, \"validation_binary_classification_cross_entropy\": {\"count\": 1, \"max\": -Infinity, \"sum\": NaN, \"min\": Infinity}}, \"EndTime\": 1514980880.939954, \"Dimensions\": {\"model\": 20, \"Host\": \"algo-1\", \"Operation\": \"training\", \"Algorithm\": \"Linear Learner\", \"epoch\": 9}, \"StartTime\": 1514980880.939934}\n",
      "\u001b[0m\n",
      "\u001b[31m#metrics {\"Metrics\": {\"training_binary_classification_cross_entropy\": {\"count\": 1, \"max\": 0.012657160843881741, \"sum\": 0.012657160843881741, \"min\": 0.012657160843881741}, \"validation_binary_classification_cross_entropy\": {\"count\": 1, \"max\": -Infinity, \"sum\": NaN, \"min\": Infinity}}, \"EndTime\": 1514980880.940009, \"Dimensions\": {\"model\": 21, \"Host\": \"algo-1\", \"Operation\": \"training\", \"Algorithm\": \"Linear Learner\", \"epoch\": 9}, \"StartTime\": 1514980880.939989}\n",
      "\u001b[0m\n",
      "\u001b[31m#metrics {\"Metrics\": {\"training_binary_classification_cross_entropy\": {\"count\": 1, \"max\": 0.012254457652429229, \"sum\": 0.012254457652429229, \"min\": 0.012254457652429229}, \"validation_binary_classification_cross_entropy\": {\"count\": 1, \"max\": -Infinity, \"sum\": NaN, \"min\": Infinity}}, \"EndTime\": 1514980880.940068, \"Dimensions\": {\"model\": 22, \"Host\": \"algo-1\", \"Operation\": \"training\", \"Algorithm\": \"Linear Learner\", \"epoch\": 9}, \"StartTime\": 1514980880.940048}\n",
      "\u001b[0m\n",
      "\u001b[31m#metrics {\"Metrics\": {\"training_binary_classification_cross_entropy\": {\"count\": 1, \"max\": 0.012657271174330098, \"sum\": 0.012657271174330098, \"min\": 0.012657271174330098}, \"validation_binary_classification_cross_entropy\": {\"count\": 1, \"max\": -Infinity, \"sum\": NaN, \"min\": Infinity}}, \"EndTime\": 1514980880.940136, \"Dimensions\": {\"model\": 23, \"Host\": \"algo-1\", \"Operation\": \"training\", \"Algorithm\": \"Linear Learner\", \"epoch\": 9}, \"StartTime\": 1514980880.940114}\n",
      "\u001b[0m\n",
      "\u001b[31m#metrics {\"Metrics\": {\"training_binary_classification_cross_entropy\": {\"count\": 1, \"max\": 0.013279903460756397, \"sum\": 0.013279903460756397, \"min\": 0.013279903460756397}, \"validation_binary_classification_cross_entropy\": {\"count\": 1, \"max\": -Infinity, \"sum\": NaN, \"min\": Infinity}}, \"EndTime\": 1514980880.940206, \"Dimensions\": {\"model\": 24, \"Host\": \"algo-1\", \"Operation\": \"training\", \"Algorithm\": \"Linear Learner\", \"epoch\": 9}, \"StartTime\": 1514980880.940184}\n",
      "\u001b[0m\n",
      "\u001b[31m#metrics {\"Metrics\": {\"training_binary_classification_cross_entropy\": {\"count\": 1, \"max\": 0.013270716192397078, \"sum\": 0.013270716192397078, \"min\": 0.013270716192397078}, \"validation_binary_classification_cross_entropy\": {\"count\": 1, \"max\": -Infinity, \"sum\": NaN, \"min\": Infinity}}, \"EndTime\": 1514980880.940275, \"Dimensions\": {\"model\": 25, \"Host\": \"algo-1\", \"Operation\": \"training\", \"Algorithm\": \"Linear Learner\", \"epoch\": 9}, \"StartTime\": 1514980880.940253}\n",
      "\u001b[0m\n",
      "\u001b[31m#metrics {\"Metrics\": {\"training_binary_classification_cross_entropy\": {\"count\": 1, \"max\": 0.013262081492247292, \"sum\": 0.013262081492247292, \"min\": 0.013262081492247292}, \"validation_binary_classification_cross_entropy\": {\"count\": 1, \"max\": -Infinity, \"sum\": NaN, \"min\": Infinity}}, \"EndTime\": 1514980880.940346, \"Dimensions\": {\"model\": 26, \"Host\": \"algo-1\", \"Operation\": \"training\", \"Algorithm\": \"Linear Learner\", \"epoch\": 9}, \"StartTime\": 1514980880.940327}\n",
      "\u001b[0m\n",
      "\u001b[31m#metrics {\"Metrics\": {\"training_binary_classification_cross_entropy\": {\"count\": 1, \"max\": 0.013270749622995178, \"sum\": 0.013270749622995178, \"min\": 0.013270749622995178}, \"validation_binary_classification_cross_entropy\": {\"count\": 1, \"max\": -Infinity, \"sum\": NaN, \"min\": Infinity}}, \"EndTime\": 1514980880.940414, \"Dimensions\": {\"model\": 27, \"Host\": \"algo-1\", \"Operation\": \"training\", \"Algorithm\": \"Linear Learner\", \"epoch\": 9}, \"StartTime\": 1514980880.940393}\n",
      "\u001b[0m\n",
      "\u001b[31m#metrics {\"Metrics\": {\"training_binary_classification_cross_entropy\": {\"count\": 1, \"max\": 0.013259341282469047, \"sum\": 0.013259341282469047, \"min\": 0.013259341282469047}, \"validation_binary_classification_cross_entropy\": {\"count\": 1, \"max\": -Infinity, \"sum\": NaN, \"min\": Infinity}}, \"EndTime\": 1514980880.940467, \"Dimensions\": {\"model\": 28, \"Host\": \"algo-1\", \"Operation\": \"training\", \"Algorithm\": \"Linear Learner\", \"epoch\": 9}, \"StartTime\": 1514980880.940448}\n",
      "\u001b[0m\n",
      "\u001b[31m#metrics {\"Metrics\": {\"training_binary_classification_cross_entropy\": {\"count\": 1, \"max\": 0.013533997279559142, \"sum\": 0.013533997279559142, \"min\": 0.013533997279559142}, \"validation_binary_classification_cross_entropy\": {\"count\": 1, \"max\": -Infinity, \"sum\": NaN, \"min\": Infinity}}, \"EndTime\": 1514980880.94054, \"Dimensions\": {\"model\": 29, \"Host\": \"algo-1\", \"Operation\": \"training\", \"Algorithm\": \"Linear Learner\", \"epoch\": 9}, \"StartTime\": 1514980880.940518}\n",
      "\u001b[0m\n",
      "\u001b[31m#metrics {\"Metrics\": {\"training_binary_classification_cross_entropy\": {\"count\": 1, \"max\": 0.013259876285454986, \"sum\": 0.013259876285454986, \"min\": 0.013259876285454986}, \"validation_binary_classification_cross_entropy\": {\"count\": 1, \"max\": -Infinity, \"sum\": NaN, \"min\": Infinity}}, \"EndTime\": 1514980880.940619, \"Dimensions\": {\"model\": 30, \"Host\": \"algo-1\", \"Operation\": \"training\", \"Algorithm\": \"Linear Learner\", \"epoch\": 9}, \"StartTime\": 1514980880.940596}\n",
      "\u001b[0m\n",
      "\u001b[31m#metrics {\"Metrics\": {\"training_binary_classification_cross_entropy\": {\"count\": 1, \"max\": 0.013534106033084263, \"sum\": 0.013534106033084263, \"min\": 0.013534106033084263}, \"validation_binary_classification_cross_entropy\": {\"count\": 1, \"max\": -Infinity, \"sum\": NaN, \"min\": Infinity}}, \"EndTime\": 1514980880.940692, \"Dimensions\": {\"model\": 31, \"Host\": \"algo-1\", \"Operation\": \"training\", \"Algorithm\": \"Linear Learner\", \"epoch\": 9}, \"StartTime\": 1514980880.94067}\n",
      "\u001b[0m\n"
     ]
    },
    {
     "name": "stdout",
     "output_type": "stream",
     "text": [
      "\u001b[31m#metrics {\"Metrics\": {\"training_binary_classification_cross_entropy\": {\"count\": 1, \"max\": 0.004773788956065926, \"sum\": 0.004773788956065926, \"min\": 0.004773788956065926}, \"validation_binary_classification_cross_entropy\": {\"count\": 1, \"max\": -Infinity, \"sum\": NaN, \"min\": Infinity}}, \"EndTime\": 1514980914.17032, \"Dimensions\": {\"model\": 0, \"Host\": \"algo-1\", \"Operation\": \"training\", \"Algorithm\": \"Linear Learner\", \"epoch\": 10}, \"StartTime\": 1514980914.170188}\n",
      "\u001b[0m\n",
      "\u001b[31m#metrics {\"Metrics\": {\"training_binary_classification_cross_entropy\": {\"count\": 1, \"max\": 0.00434559062655483, \"sum\": 0.00434559062655483, \"min\": 0.00434559062655483}, \"validation_binary_classification_cross_entropy\": {\"count\": 1, \"max\": -Infinity, \"sum\": NaN, \"min\": Infinity}}, \"EndTime\": 1514980914.170416, \"Dimensions\": {\"model\": 1, \"Host\": \"algo-1\", \"Operation\": \"training\", \"Algorithm\": \"Linear Learner\", \"epoch\": 10}, \"StartTime\": 1514980914.1704}\n",
      "\u001b[0m\n",
      "\u001b[31m#metrics {\"Metrics\": {\"training_binary_classification_cross_entropy\": {\"count\": 1, \"max\": 0.004554347097960931, \"sum\": 0.004554347097960931, \"min\": 0.004554347097960931}, \"validation_binary_classification_cross_entropy\": {\"count\": 1, \"max\": -Infinity, \"sum\": NaN, \"min\": Infinity}}, \"EndTime\": 1514980914.17049, \"Dimensions\": {\"model\": 2, \"Host\": \"algo-1\", \"Operation\": \"training\", \"Algorithm\": \"Linear Learner\", \"epoch\": 10}, \"StartTime\": 1514980914.170468}\n",
      "\u001b[0m\n",
      "\u001b[31m#metrics {\"Metrics\": {\"training_binary_classification_cross_entropy\": {\"count\": 1, \"max\": 0.004344930467163092, \"sum\": 0.004344930467163092, \"min\": 0.004344930467163092}, \"validation_binary_classification_cross_entropy\": {\"count\": 1, \"max\": -Infinity, \"sum\": NaN, \"min\": Infinity}}, \"EndTime\": 1514980914.170562, \"Dimensions\": {\"model\": 3, \"Host\": \"algo-1\", \"Operation\": \"training\", \"Algorithm\": \"Linear Learner\", \"epoch\": 10}, \"StartTime\": 1514980914.170543}\n",
      "\u001b[0m\n",
      "\u001b[31m#metrics {\"Metrics\": {\"training_binary_classification_cross_entropy\": {\"count\": 1, \"max\": 0.004230289617880516, \"sum\": 0.004230289617880516, \"min\": 0.004230289617880516}, \"validation_binary_classification_cross_entropy\": {\"count\": 1, \"max\": -Infinity, \"sum\": NaN, \"min\": Infinity}}, \"EndTime\": 1514980914.170619, \"Dimensions\": {\"model\": 4, \"Host\": \"algo-1\", \"Operation\": \"training\", \"Algorithm\": \"Linear Learner\", \"epoch\": 10}, \"StartTime\": 1514980914.170602}\n",
      "\u001b[0m\n",
      "\u001b[31m#metrics {\"Metrics\": {\"training_binary_classification_cross_entropy\": {\"count\": 1, \"max\": 0.0069620759943944555, \"sum\": 0.0069620759943944555, \"min\": 0.0069620759943944555}, \"validation_binary_classification_cross_entropy\": {\"count\": 1, \"max\": -Infinity, \"sum\": NaN, \"min\": Infinity}}, \"EndTime\": 1514980914.170673, \"Dimensions\": {\"model\": 5, \"Host\": \"algo-1\", \"Operation\": \"training\", \"Algorithm\": \"Linear Learner\", \"epoch\": 10}, \"StartTime\": 1514980914.170658}\n",
      "\u001b[0m\n",
      "\u001b[31m#metrics {\"Metrics\": {\"training_binary_classification_cross_entropy\": {\"count\": 1, \"max\": 0.0041907289744609975, \"sum\": 0.0041907289744609975, \"min\": 0.0041907289744609975}, \"validation_binary_classification_cross_entropy\": {\"count\": 1, \"max\": -Infinity, \"sum\": NaN, \"min\": Infinity}}, \"EndTime\": 1514980914.17073, \"Dimensions\": {\"model\": 6, \"Host\": \"algo-1\", \"Operation\": \"training\", \"Algorithm\": \"Linear Learner\", \"epoch\": 10}, \"StartTime\": 1514980914.170714}\n",
      "\u001b[0m\n",
      "\u001b[31m#metrics {\"Metrics\": {\"training_binary_classification_cross_entropy\": {\"count\": 1, \"max\": 0.0064233906999864535, \"sum\": 0.0064233906999864535, \"min\": 0.0064233906999864535}, \"validation_binary_classification_cross_entropy\": {\"count\": 1, \"max\": -Infinity, \"sum\": NaN, \"min\": Infinity}}, \"EndTime\": 1514980914.170795, \"Dimensions\": {\"model\": 7, \"Host\": \"algo-1\", \"Operation\": \"training\", \"Algorithm\": \"Linear Learner\", \"epoch\": 10}, \"StartTime\": 1514980914.170775}\n",
      "\u001b[0m\n",
      "\u001b[31m#metrics {\"Metrics\": {\"training_binary_classification_cross_entropy\": {\"count\": 1, \"max\": 0.005501208526084518, \"sum\": 0.005501208526084518, \"min\": 0.005501208526084518}, \"validation_binary_classification_cross_entropy\": {\"count\": 1, \"max\": -Infinity, \"sum\": NaN, \"min\": Infinity}}, \"EndTime\": 1514980914.170857, \"Dimensions\": {\"model\": 8, \"Host\": \"algo-1\", \"Operation\": \"training\", \"Algorithm\": \"Linear Learner\", \"epoch\": 10}, \"StartTime\": 1514980914.170838}\n",
      "\u001b[0m\n",
      "\u001b[31m#metrics {\"Metrics\": {\"training_binary_classification_cross_entropy\": {\"count\": 1, \"max\": 0.005273879633330908, \"sum\": 0.005273879633330908, \"min\": 0.005273879633330908}, \"validation_binary_classification_cross_entropy\": {\"count\": 1, \"max\": -Infinity, \"sum\": NaN, \"min\": Infinity}}, \"EndTime\": 1514980914.170925, \"Dimensions\": {\"model\": 9, \"Host\": \"algo-1\", \"Operation\": \"training\", \"Algorithm\": \"Linear Learner\", \"epoch\": 10}, \"StartTime\": 1514980914.170905}\n",
      "\u001b[0m\n",
      "\u001b[31m#metrics {\"Metrics\": {\"training_binary_classification_cross_entropy\": {\"count\": 1, \"max\": 0.005349759720353109, \"sum\": 0.005349759720353109, \"min\": 0.005349759720353109}, \"validation_binary_classification_cross_entropy\": {\"count\": 1, \"max\": -Infinity, \"sum\": NaN, \"min\": Infinity}}, \"EndTime\": 1514980914.170999, \"Dimensions\": {\"model\": 10, \"Host\": \"algo-1\", \"Operation\": \"training\", \"Algorithm\": \"Linear Learner\", \"epoch\": 10}, \"StartTime\": 1514980914.170978}\n",
      "\u001b[0m\n",
      "\u001b[31m#metrics {\"Metrics\": {\"training_binary_classification_cross_entropy\": {\"count\": 1, \"max\": 0.005273869532908573, \"sum\": 0.005273869532908573, \"min\": 0.005273869532908573}, \"validation_binary_classification_cross_entropy\": {\"count\": 1, \"max\": -Infinity, \"sum\": NaN, \"min\": Infinity}}, \"EndTime\": 1514980914.171055, \"Dimensions\": {\"model\": 11, \"Host\": \"algo-1\", \"Operation\": \"training\", \"Algorithm\": \"Linear Learner\", \"epoch\": 10}, \"StartTime\": 1514980914.171037}\n",
      "\u001b[0m\n",
      "\u001b[31m#metrics {\"Metrics\": {\"training_binary_classification_cross_entropy\": {\"count\": 1, \"max\": 0.005204729306614092, \"sum\": 0.005204729306614092, \"min\": 0.005204729306614092}, \"validation_binary_classification_cross_entropy\": {\"count\": 1, \"max\": -Infinity, \"sum\": NaN, \"min\": Infinity}}, \"EndTime\": 1514980914.171121, \"Dimensions\": {\"model\": 12, \"Host\": \"algo-1\", \"Operation\": \"training\", \"Algorithm\": \"Linear Learner\", \"epoch\": 10}, \"StartTime\": 1514980914.1711}\n",
      "\u001b[0m\n",
      "\u001b[31m#metrics {\"Metrics\": {\"training_binary_classification_cross_entropy\": {\"count\": 1, \"max\": 0.006353260536336796, \"sum\": 0.006353260536336796, \"min\": 0.006353260536336796}, \"validation_binary_classification_cross_entropy\": {\"count\": 1, \"max\": -Infinity, \"sum\": NaN, \"min\": Infinity}}, \"EndTime\": 1514980914.171183, \"Dimensions\": {\"model\": 13, \"Host\": \"algo-1\", \"Operation\": \"training\", \"Algorithm\": \"Linear Learner\", \"epoch\": 10}, \"StartTime\": 1514980914.171163}\n",
      "\u001b[0m\n",
      "\u001b[31m#metrics {\"Metrics\": {\"training_binary_classification_cross_entropy\": {\"count\": 1, \"max\": 0.0052110083160411555, \"sum\": 0.0052110083160411555, \"min\": 0.0052110083160411555}, \"validation_binary_classification_cross_entropy\": {\"count\": 1, \"max\": -Infinity, \"sum\": NaN, \"min\": Infinity}}, \"EndTime\": 1514980914.171246, \"Dimensions\": {\"model\": 14, \"Host\": \"algo-1\", \"Operation\": \"training\", \"Algorithm\": \"Linear Learner\", \"epoch\": 10}, \"StartTime\": 1514980914.171225}\n",
      "\u001b[0m\n",
      "\u001b[31m#metrics {\"Metrics\": {\"training_binary_classification_cross_entropy\": {\"count\": 1, \"max\": 0.00635264374429155, \"sum\": 0.00635264374429155, \"min\": 0.00635264374429155}, \"validation_binary_classification_cross_entropy\": {\"count\": 1, \"max\": -Infinity, \"sum\": NaN, \"min\": Infinity}}, \"EndTime\": 1514980914.171318, \"Dimensions\": {\"model\": 15, \"Host\": \"algo-1\", \"Operation\": \"training\", \"Algorithm\": \"Linear Learner\", \"epoch\": 10}, \"StartTime\": 1514980914.171297}\n",
      "\u001b[0m\n",
      "\u001b[31m#metrics {\"Metrics\": {\"training_binary_classification_cross_entropy\": {\"count\": 1, \"max\": 0.012267182112542751, \"sum\": 0.012267182112542751, \"min\": 0.012267182112542751}, \"validation_binary_classification_cross_entropy\": {\"count\": 1, \"max\": -Infinity, \"sum\": NaN, \"min\": Infinity}}, \"EndTime\": 1514980914.17137, \"Dimensions\": {\"model\": 16, \"Host\": \"algo-1\", \"Operation\": \"training\", \"Algorithm\": \"Linear Learner\", \"epoch\": 10}, \"StartTime\": 1514980914.171351}\n",
      "\u001b[0m\n",
      "\u001b[31m#metrics {\"Metrics\": {\"training_binary_classification_cross_entropy\": {\"count\": 1, \"max\": 0.012243597718780159, \"sum\": 0.012243597718780159, \"min\": 0.012243597718780159}, \"validation_binary_classification_cross_entropy\": {\"count\": 1, \"max\": -Infinity, \"sum\": NaN, \"min\": Infinity}}, \"EndTime\": 1514980914.171421, \"Dimensions\": {\"model\": 17, \"Host\": \"algo-1\", \"Operation\": \"training\", \"Algorithm\": \"Linear Learner\", \"epoch\": 10}, \"StartTime\": 1514980914.171402}\n",
      "\u001b[0m\n",
      "\u001b[31m#metrics {\"Metrics\": {\"training_binary_classification_cross_entropy\": {\"count\": 1, \"max\": 0.012255664211316186, \"sum\": 0.012255664211316186, \"min\": 0.012255664211316186}, \"validation_binary_classification_cross_entropy\": {\"count\": 1, \"max\": -Infinity, \"sum\": NaN, \"min\": Infinity}}, \"EndTime\": 1514980914.171493, \"Dimensions\": {\"model\": 18, \"Host\": \"algo-1\", \"Operation\": \"training\", \"Algorithm\": \"Linear Learner\", \"epoch\": 10}, \"StartTime\": 1514980914.171471}\n",
      "\u001b[0m\n",
      "\u001b[31m#metrics {\"Metrics\": {\"training_binary_classification_cross_entropy\": {\"count\": 1, \"max\": 0.01224359809061124, \"sum\": 0.01224359809061124, \"min\": 0.01224359809061124}, \"validation_binary_classification_cross_entropy\": {\"count\": 1, \"max\": -Infinity, \"sum\": NaN, \"min\": Infinity}}, \"EndTime\": 1514980914.171564, \"Dimensions\": {\"model\": 19, \"Host\": \"algo-1\", \"Operation\": \"training\", \"Algorithm\": \"Linear Learner\", \"epoch\": 10}, \"StartTime\": 1514980914.171543}\n",
      "\u001b[0m\n",
      "\u001b[31m#metrics {\"Metrics\": {\"training_binary_classification_cross_entropy\": {\"count\": 1, \"max\": 0.012249134500844696, \"sum\": 0.012249134500844696, \"min\": 0.012249134500844696}, \"validation_binary_classification_cross_entropy\": {\"count\": 1, \"max\": -Infinity, \"sum\": NaN, \"min\": Infinity}}, \"EndTime\": 1514980914.171634, \"Dimensions\": {\"model\": 20, \"Host\": \"algo-1\", \"Operation\": \"training\", \"Algorithm\": \"Linear Learner\", \"epoch\": 10}, \"StartTime\": 1514980914.171613}\n",
      "\u001b[0m\n",
      "\u001b[31m#metrics {\"Metrics\": {\"training_binary_classification_cross_entropy\": {\"count\": 1, \"max\": 0.012629439824345834, \"sum\": 0.012629439824345834, \"min\": 0.012629439824345834}, \"validation_binary_classification_cross_entropy\": {\"count\": 1, \"max\": -Infinity, \"sum\": NaN, \"min\": Infinity}}, \"EndTime\": 1514980914.171701, \"Dimensions\": {\"model\": 21, \"Host\": \"algo-1\", \"Operation\": \"training\", \"Algorithm\": \"Linear Learner\", \"epoch\": 10}, \"StartTime\": 1514980914.171683}\n",
      "\u001b[0m\n",
      "\u001b[31m#metrics {\"Metrics\": {\"training_binary_classification_cross_entropy\": {\"count\": 1, \"max\": 0.012254794429490382, \"sum\": 0.012254794429490382, \"min\": 0.012254794429490382}, \"validation_binary_classification_cross_entropy\": {\"count\": 1, \"max\": -Infinity, \"sum\": NaN, \"min\": Infinity}}, \"EndTime\": 1514980914.171748, \"Dimensions\": {\"model\": 22, \"Host\": \"algo-1\", \"Operation\": \"training\", \"Algorithm\": \"Linear Learner\", \"epoch\": 10}, \"StartTime\": 1514980914.171735}\n",
      "\u001b[0m\n",
      "\u001b[31m#metrics {\"Metrics\": {\"training_binary_classification_cross_entropy\": {\"count\": 1, \"max\": 0.012629481851269405, \"sum\": 0.012629481851269405, \"min\": 0.012629481851269405}, \"validation_binary_classification_cross_entropy\": {\"count\": 1, \"max\": -Infinity, \"sum\": NaN, \"min\": Infinity}}, \"EndTime\": 1514980914.171827, \"Dimensions\": {\"model\": 23, \"Host\": \"algo-1\", \"Operation\": \"training\", \"Algorithm\": \"Linear Learner\", \"epoch\": 10}, \"StartTime\": 1514980914.171806}\n",
      "\u001b[0m\n",
      "\u001b[31m#metrics {\"Metrics\": {\"training_binary_classification_cross_entropy\": {\"count\": 1, \"max\": 0.013277859303760025, \"sum\": 0.013277859303760025, \"min\": 0.013277859303760025}, \"validation_binary_classification_cross_entropy\": {\"count\": 1, \"max\": -Infinity, \"sum\": NaN, \"min\": Infinity}}, \"EndTime\": 1514980914.171904, \"Dimensions\": {\"model\": 24, \"Host\": \"algo-1\", \"Operation\": \"training\", \"Algorithm\": \"Linear Learner\", \"epoch\": 10}, \"StartTime\": 1514980914.171881}\n",
      "\u001b[0m\n",
      "\u001b[31m#metrics {\"Metrics\": {\"training_binary_classification_cross_entropy\": {\"count\": 1, \"max\": 0.013270691907168551, \"sum\": 0.013270691907168551, \"min\": 0.013270691907168551}, \"validation_binary_classification_cross_entropy\": {\"count\": 1, \"max\": -Infinity, \"sum\": NaN, \"min\": Infinity}}, \"EndTime\": 1514980914.171985, \"Dimensions\": {\"model\": 25, \"Host\": \"algo-1\", \"Operation\": \"training\", \"Algorithm\": \"Linear Learner\", \"epoch\": 10}, \"StartTime\": 1514980914.171962}\n",
      "\u001b[0m\n",
      "\u001b[31m#metrics {\"Metrics\": {\"training_binary_classification_cross_entropy\": {\"count\": 1, \"max\": 0.01326044900181422, \"sum\": 0.01326044900181422, \"min\": 0.01326044900181422}, \"validation_binary_classification_cross_entropy\": {\"count\": 1, \"max\": -Infinity, \"sum\": NaN, \"min\": Infinity}}, \"EndTime\": 1514980914.172056, \"Dimensions\": {\"model\": 26, \"Host\": \"algo-1\", \"Operation\": \"training\", \"Algorithm\": \"Linear Learner\", \"epoch\": 10}, \"StartTime\": 1514980914.172034}\n",
      "\u001b[0m\n",
      "\u001b[31m#metrics {\"Metrics\": {\"training_binary_classification_cross_entropy\": {\"count\": 1, \"max\": 0.013270738173878164, \"sum\": 0.013270738173878164, \"min\": 0.013270738173878164}, \"validation_binary_classification_cross_entropy\": {\"count\": 1, \"max\": -Infinity, \"sum\": NaN, \"min\": Infinity}}, \"EndTime\": 1514980914.172131, \"Dimensions\": {\"model\": 27, \"Host\": \"algo-1\", \"Operation\": \"training\", \"Algorithm\": \"Linear Learner\", \"epoch\": 10}, \"StartTime\": 1514980914.17211}\n",
      "\u001b[0m\n",
      "\u001b[31m#metrics {\"Metrics\": {\"training_binary_classification_cross_entropy\": {\"count\": 1, \"max\": 0.013258760427702786, \"sum\": 0.013258760427702786, \"min\": 0.013258760427702786}, \"validation_binary_classification_cross_entropy\": {\"count\": 1, \"max\": -Infinity, \"sum\": NaN, \"min\": Infinity}}, \"EndTime\": 1514980914.172202, \"Dimensions\": {\"model\": 28, \"Host\": \"algo-1\", \"Operation\": \"training\", \"Algorithm\": \"Linear Learner\", \"epoch\": 10}, \"StartTime\": 1514980914.17218}\n",
      "\u001b[0m\n",
      "\u001b[31m#metrics {\"Metrics\": {\"training_binary_classification_cross_entropy\": {\"count\": 1, \"max\": 0.013508898677888917, \"sum\": 0.013508898677888917, \"min\": 0.013508898677888917}, \"validation_binary_classification_cross_entropy\": {\"count\": 1, \"max\": -Infinity, \"sum\": NaN, \"min\": Infinity}}, \"EndTime\": 1514980914.172272, \"Dimensions\": {\"model\": 29, \"Host\": \"algo-1\", \"Operation\": \"training\", \"Algorithm\": \"Linear Learner\", \"epoch\": 10}, \"StartTime\": 1514980914.172251}\n",
      "\u001b[0m\n",
      "\u001b[31m#metrics {\"Metrics\": {\"training_binary_classification_cross_entropy\": {\"count\": 1, \"max\": 0.013259825442832582, \"sum\": 0.013259825442832582, \"min\": 0.013259825442832582}, \"validation_binary_classification_cross_entropy\": {\"count\": 1, \"max\": -Infinity, \"sum\": NaN, \"min\": Infinity}}, \"EndTime\": 1514980914.172342, \"Dimensions\": {\"model\": 30, \"Host\": \"algo-1\", \"Operation\": \"training\", \"Algorithm\": \"Linear Learner\", \"epoch\": 10}, \"StartTime\": 1514980914.17232}\n",
      "\u001b[0m\n",
      "\u001b[31m#metrics {\"Metrics\": {\"training_binary_classification_cross_entropy\": {\"count\": 1, \"max\": 0.013509012657006117, \"sum\": 0.013509012657006117, \"min\": 0.013509012657006117}, \"validation_binary_classification_cross_entropy\": {\"count\": 1, \"max\": -Infinity, \"sum\": NaN, \"min\": Infinity}}, \"EndTime\": 1514980914.172418, \"Dimensions\": {\"model\": 31, \"Host\": \"algo-1\", \"Operation\": \"training\", \"Algorithm\": \"Linear Learner\", \"epoch\": 10}, \"StartTime\": 1514980914.172396}\n",
      "\u001b[0m\n",
      "\u001b[31m[01/03/2018 12:01:54 WARNING 140429112674112 sdk.py:146] wait_for_all_workers will not sync workers since the kv store is not running distributed\u001b[0m\n",
      "\u001b[31m[01/03/2018 12:01:54 INFO 140429112674112 lr_scheduler.py:88] Update[8541]: now learning rate arrived at 1.00000e-05, will not change in the future\u001b[0m\n",
      "\u001b[31m[01/03/2018 12:01:54 INFO 140429112674112 lr_scheduler.py:88] Update[8541]: now learning rate arrived at 1.00000e-04, will not change in the future\u001b[0m\n",
      "\u001b[31m[01/03/2018 12:01:54 INFO 140429112674112 lr_scheduler.py:91] Update[8541]: Change learning rate to 1.87265e-05\u001b[0m\n",
      "\u001b[31m[01/03/2018 12:01:54 INFO 140429112674112 lr_scheduler.py:88] Update[8541]: now learning rate arrived at 1.00000e-04, will not change in the future\u001b[0m\n",
      "\u001b[31m[01/03/2018 12:01:54 INFO 140429112674112 lr_scheduler.py:88] Update[8541]: now learning rate arrived at 1.00000e-05, will not change in the future\u001b[0m\n",
      "\u001b[31m[01/03/2018 12:01:54 INFO 140429112674112 lr_scheduler.py:88] Update[8541]: now learning rate arrived at 1.00000e-04, will not change in the future\u001b[0m\n",
      "\u001b[31m[01/03/2018 12:01:54 INFO 140429112674112 lr_scheduler.py:91] Update[8541]: Change learning rate to 1.87265e-05\u001b[0m\n",
      "\u001b[31m[01/03/2018 12:01:54 INFO 140429112674112 lr_scheduler.py:88] Update[8541]: now learning rate arrived at 1.00000e-04, will not change in the future\u001b[0m\n",
      "\u001b[31m[01/03/2018 12:01:54 INFO 140429112674112 lr_scheduler.py:88] Update[8541]: now learning rate arrived at 1.00000e-05, will not change in the future\u001b[0m\n",
      "\u001b[31m[01/03/2018 12:01:54 INFO 140429112674112 lr_scheduler.py:88] Update[8541]: now learning rate arrived at 1.00000e-04, will not change in the future\u001b[0m\n",
      "\u001b[31m[01/03/2018 12:01:54 INFO 140429112674112 lr_scheduler.py:91] Update[8541]: Change learning rate to 1.87265e-05\u001b[0m\n",
      "\u001b[31m[01/03/2018 12:01:54 INFO 140429112674112 lr_scheduler.py:88] Update[8541]: now learning rate arrived at 1.00000e-04, will not change in the future\u001b[0m\n",
      "\u001b[31m[01/03/2018 12:01:54 INFO 140429112674112 lr_scheduler.py:88] Update[8541]: now learning rate arrived at 1.00000e-05, will not change in the future\u001b[0m\n",
      "\u001b[31m[01/03/2018 12:01:54 INFO 140429112674112 lr_scheduler.py:88] Update[8541]: now learning rate arrived at 1.00000e-04, will not change in the future\u001b[0m\n",
      "\u001b[31m[01/03/2018 12:01:54 INFO 140429112674112 lr_scheduler.py:91] Update[8541]: Change learning rate to 1.87265e-05\u001b[0m\n",
      "\u001b[31m[01/03/2018 12:01:54 INFO 140429112674112 lr_scheduler.py:88] Update[8541]: now learning rate arrived at 1.00000e-04, will not change in the future\u001b[0m\n"
     ]
    },
    {
     "name": "stdout",
     "output_type": "stream",
     "text": [
      "\u001b[31m#metrics {\"Metrics\": {\"f1\": {\"count\": 1, \"max\": 0.8019966722129783, \"sum\": 0.8019966722129783, \"min\": 0.8019966722129783}, \"threshold_for_accuracy\": {\"count\": 1, \"max\": 0.1104748472571373, \"sum\": 0.1104748472571373, \"min\": 0.1104748472571373}, \"threshold_for_precision_at_target_recall\": {\"count\": 1, \"max\": 0.045947615057229996, \"sum\": 0.045947615057229996, \"min\": 0.045947615057229996}, \"threshold_for_recall_at_target_precision\": {\"count\": 1, \"max\": 0.09909462928771973, \"sum\": 0.09909462928771973, \"min\": 0.09909462928771973}, \"recall_at_precision\": {\"count\": 1, \"max\": 0.7838709677420052, \"sum\": 0.7838709677420052, \"min\": 0.7838709677420052}, \"precision_at_target_recall\": {\"count\": 1, \"max\": 0.7781155015198242, \"sum\": 0.7781155015198242, \"min\": 0.7781155015198242}, \"accuracy\": {\"count\": 1, \"max\": 0.9993036211699164, \"sum\": 0.9993036211699164, \"min\": 0.9993036211699164}, \"threshold_for_f1\": {\"count\": 1, \"max\": 0.1104748472571373, \"sum\": 0.1104748472571373, \"min\": 0.1104748472571373}}, \"EndTime\": 1514980919.850618, \"Dimensions\": {\"model\": 0, \"Host\": \"algo-1\", \"Operation\": \"training\", \"Algorithm\": \"Linear Learner\"}, \"StartTime\": 1514980919.841081}\n",
      "\u001b[0m\n",
      "\u001b[31m#metrics {\"Metrics\": {\"f1\": {\"count\": 1, \"max\": 0.7793880837359098, \"sum\": 0.7793880837359098, \"min\": 0.7793880837359098}, \"threshold_for_accuracy\": {\"count\": 1, \"max\": 0.09078841656446457, \"sum\": 0.09078841656446457, \"min\": 0.09078841656446457}, \"threshold_for_precision_at_target_recall\": {\"count\": 1, \"max\": 0.06482773274183273, \"sum\": 0.06482773274183273, \"min\": 0.06482773274183273}, \"threshold_for_recall_at_target_precision\": {\"count\": 1, \"max\": 0.2598111629486084, \"sum\": 0.2598111629486084, \"min\": 0.2598111629486084}, \"recall_at_precision\": {\"count\": 1, \"max\": 0.6870967741936493, \"sum\": 0.6870967741936493, \"min\": 0.6870967741936493}, \"precision_at_target_recall\": {\"count\": 1, \"max\": 0.7500000000000753, \"sum\": 0.7500000000000753, \"min\": 0.7500000000000753}, \"accuracy\": {\"count\": 1, \"max\": 0.9991982865569626, \"sum\": 0.9991982865569626, \"min\": 0.9991982865569626}, \"threshold_for_f1\": {\"count\": 1, \"max\": 0.09078841656446457, \"sum\": 0.09078841656446457, \"min\": 0.09078841656446457}}, \"EndTime\": 1514980919.860596, \"Dimensions\": {\"model\": 1, \"Host\": \"algo-1\", \"Operation\": \"training\", \"Algorithm\": \"Linear Learner\"}, \"StartTime\": 1514980919.850768}\n",
      "\u001b[0m\n",
      "\u001b[31m#metrics {\"Metrics\": {\"f1\": {\"count\": 1, \"max\": 0.802065404475043, \"sum\": 0.802065404475043, \"min\": 0.802065404475043}, \"threshold_for_accuracy\": {\"count\": 1, \"max\": 0.12396247684955597, \"sum\": 0.12396247684955597, \"min\": 0.12396247684955597}, \"threshold_for_precision_at_target_recall\": {\"count\": 1, \"max\": 0.04215456545352936, \"sum\": 0.04215456545352936, \"min\": 0.04215456545352936}, \"threshold_for_recall_at_target_precision\": {\"count\": 1, \"max\": 0.10044462233781815, \"sum\": 0.10044462233781815, \"min\": 0.10044462233781815}, \"recall_at_precision\": {\"count\": 1, \"max\": 0.7677419354839459, \"sum\": 0.7677419354839459, \"min\": 0.7677419354839459}, \"precision_at_target_recall\": {\"count\": 1, \"max\": 0.7795031055901306, \"sum\": 0.7795031055901306, \"min\": 0.7795031055901306}, \"accuracy\": {\"count\": 1, \"max\": 0.9993270288616839, \"sum\": 0.9993270288616839, \"min\": 0.9993270288616839}, \"threshold_for_f1\": {\"count\": 1, \"max\": 0.12396247684955597, \"sum\": 0.12396247684955597, \"min\": 0.12396247684955597}}, \"EndTime\": 1514980919.86994, \"Dimensions\": {\"model\": 2, \"Host\": \"algo-1\", \"Operation\": \"training\", \"Algorithm\": \"Linear Learner\"}, \"StartTime\": 1514980919.860688}\n",
      "\u001b[0m\n",
      "\u001b[31m#metrics {\"Metrics\": {\"f1\": {\"count\": 1, \"max\": 0.7793880837359098, \"sum\": 0.7793880837359098, \"min\": 0.7793880837359098}, \"threshold_for_accuracy\": {\"count\": 1, \"max\": 0.09212351590394974, \"sum\": 0.09212351590394974, \"min\": 0.09212351590394974}, \"threshold_for_precision_at_target_recall\": {\"count\": 1, \"max\": 0.06552490592002869, \"sum\": 0.06552490592002869, \"min\": 0.06552490592002869}, \"threshold_for_recall_at_target_precision\": {\"count\": 1, \"max\": 0.2596302628517151, \"sum\": 0.2596302628517151, \"min\": 0.2596302628517151}, \"recall_at_precision\": {\"count\": 1, \"max\": 0.6870967741936493, \"sum\": 0.6870967741936493, \"min\": 0.6870967741936493}, \"precision_at_target_recall\": {\"count\": 1, \"max\": 0.7500000000000753, \"sum\": 0.7500000000000753, \"min\": 0.7500000000000753}, \"accuracy\": {\"count\": 1, \"max\": 0.9991982865569626, \"sum\": 0.9991982865569626, \"min\": 0.9991982865569626}, \"threshold_for_f1\": {\"count\": 1, \"max\": 0.09212351590394974, \"sum\": 0.09212351590394974, \"min\": 0.09212351590394974}}, \"EndTime\": 1514980919.879331, \"Dimensions\": {\"model\": 3, \"Host\": \"algo-1\", \"Operation\": \"training\", \"Algorithm\": \"Linear Learner\"}, \"StartTime\": 1514980919.870032}\n",
      "\u001b[0m\n",
      "\u001b[31m#metrics {\"Metrics\": {\"f1\": {\"count\": 1, \"max\": 0.7801857585139319, \"sum\": 0.7801857585139319, \"min\": 0.7801857585139319}, \"threshold_for_accuracy\": {\"count\": 1, \"max\": 0.27822521328926086, \"sum\": 0.27822521328926086, \"min\": 0.27822521328926086}, \"threshold_for_precision_at_target_recall\": {\"count\": 1, \"max\": 0.052182819694280624, \"sum\": 0.052182819694280624, \"min\": 0.052182819694280624}, \"threshold_for_recall_at_target_precision\": {\"count\": 1, \"max\": 0.20181070268154144, \"sum\": 0.20181070268154144, \"min\": 0.20181070268154144}, \"recall_at_precision\": {\"count\": 1, \"max\": 0.7258064516129916, \"sum\": 0.7258064516129916, \"min\": 0.7258064516129916}, \"precision_at_target_recall\": {\"count\": 1, \"max\": 0.7500000000000744, \"sum\": 0.7500000000000744, \"min\": 0.7500000000000744}, \"accuracy\": {\"count\": 1, \"max\": 0.9992216942487301, \"sum\": 0.9992216942487301, \"min\": 0.9992216942487301}, \"threshold_for_f1\": {\"count\": 1, \"max\": 0.052182819694280624, \"sum\": 0.052182819694280624, \"min\": 0.052182819694280624}}, \"EndTime\": 1514980919.8887, \"Dimensions\": {\"model\": 4, \"Host\": \"algo-1\", \"Operation\": \"training\", \"Algorithm\": \"Linear Learner\"}, \"StartTime\": 1514980919.879422}\n",
      "\u001b[0m\n",
      "\u001b[31m#metrics {\"Metrics\": {\"f1\": {\"count\": 1, \"max\": 0.7426597582037997, \"sum\": 0.7426597582037997, \"min\": 0.7426597582037997}, \"threshold_for_accuracy\": {\"count\": 1, \"max\": 0.3170143663883209, \"sum\": 0.3170143663883209, \"min\": 0.3170143663883209}, \"threshold_for_precision_at_target_recall\": {\"count\": 1, \"max\": 0.00806211307644844, \"sum\": 0.00806211307644844, \"min\": 0.00806211307644844}, \"threshold_for_recall_at_target_precision\": {\"count\": 1, \"max\": 0.25048747658729553, \"sum\": 0.25048747658729553, \"min\": 0.25048747658729553}, \"recall_at_precision\": {\"count\": 1, \"max\": 0.67096774193559, \"sum\": 0.67096774193559, \"min\": 0.67096774193559}, \"precision_at_target_recall\": {\"count\": 1, \"max\": 0.5299145299146304, \"sum\": 0.5299145299146304, \"min\": 0.5299145299146304}, \"accuracy\": {\"count\": 1, \"max\": 0.9991397673275438, \"sum\": 0.9991397673275438, \"min\": 0.9991397673275438}, \"threshold_for_f1\": {\"count\": 1, \"max\": 0.1850539743900299, \"sum\": 0.1850539743900299, \"min\": 0.1850539743900299}}, \"EndTime\": 1514980919.897661, \"Dimensions\": {\"model\": 5, \"Host\": \"algo-1\", \"Operation\": \"training\", \"Algorithm\": \"Linear Learner\"}, \"StartTime\": 1514980919.88879}\n",
      "\u001b[0m\n",
      "\u001b[31m#metrics {\"Metrics\": {\"f1\": {\"count\": 1, \"max\": 0.7850467289719626, \"sum\": 0.7850467289719626, \"min\": 0.7850467289719626}, \"threshold_for_accuracy\": {\"count\": 1, \"max\": 0.28619545698165894, \"sum\": 0.28619545698165894, \"min\": 0.28619545698165894}, \"threshold_for_precision_at_target_recall\": {\"count\": 1, \"max\": 0.05151112750172615, \"sum\": 0.05151112750172615, \"min\": 0.05151112750172615}, \"threshold_for_recall_at_target_precision\": {\"count\": 1, \"max\": 0.19009935855865479, \"sum\": 0.19009935855865479, \"min\": 0.19009935855865479}, \"recall_at_precision\": {\"count\": 1, \"max\": 0.7258064516129916, \"sum\": 0.7258064516129916, \"min\": 0.7258064516129916}, \"precision_at_target_recall\": {\"count\": 1, \"max\": 0.7590361445783859, \"sum\": 0.7590361445783859, \"min\": 0.7590361445783859}, \"accuracy\": {\"count\": 1, \"max\": 0.9992158423257883, \"sum\": 0.9992158423257883, \"min\": 0.9992158423257883}, \"threshold_for_f1\": {\"count\": 1, \"max\": 0.05151112750172615, \"sum\": 0.05151112750172615, \"min\": 0.05151112750172615}}, \"EndTime\": 1514980919.907144, \"Dimensions\": {\"model\": 6, \"Host\": \"algo-1\", \"Operation\": \"training\", \"Algorithm\": \"Linear Learner\"}, \"StartTime\": 1514980919.897751}\n",
      "\u001b[0m\n",
      "\u001b[31m#metrics {\"Metrics\": {\"f1\": {\"count\": 1, \"max\": 0.5975609756097561, \"sum\": 0.5975609756097561, \"min\": 0.5975609756097561}, \"threshold_for_accuracy\": {\"count\": 1, \"max\": 0.16726569831371307, \"sum\": 0.16726569831371307, \"min\": 0.16726569831371307}, \"threshold_for_precision_at_target_recall\": {\"count\": 1, \"max\": 0.0013340996811166406, \"sum\": 0.0013340996811166406, \"min\": 0.0013340996811166406}, \"threshold_for_recall_at_target_precision\": {\"count\": 1, \"max\": 0.16726569831371307, \"sum\": 0.16726569831371307, \"min\": 0.16726569831371307}, \"recall_at_precision\": {\"count\": 1, \"max\": 0.47419354838726635, \"sum\": 0.47419354838726635, \"min\": 0.47419354838726635}, \"precision_at_target_recall\": {\"count\": 1, \"max\": 0.12995824634660072, \"sum\": 0.12995824634660072, \"min\": 0.12995824634660072}, \"accuracy\": {\"count\": 1, \"max\": 0.998841319257508, \"sum\": 0.998841319257508, \"min\": 0.998841319257508}, \"threshold_for_f1\": {\"count\": 1, \"max\": 0.16726569831371307, \"sum\": 0.16726569831371307, \"min\": 0.16726569831371307}}, \"EndTime\": 1514980919.916564, \"Dimensions\": {\"model\": 7, \"Host\": \"algo-1\", \"Operation\": \"training\", \"Algorithm\": \"Linear Learner\"}, \"StartTime\": 1514980919.907235}\n",
      "\u001b[0m\n",
      "\u001b[31m#metrics {\"Metrics\": {\"f1\": {\"count\": 1, \"max\": 0.8258706467661692, \"sum\": 0.8258706467661692, \"min\": 0.8258706467661692}, \"threshold_for_accuracy\": {\"count\": 1, \"max\": 0.022462932392954826, \"sum\": 0.022462932392954826, \"min\": 0.022462932392954826}, \"threshold_for_precision_at_target_recall\": {\"count\": 1, \"max\": 0.022462932392954826, \"sum\": 0.022462932392954826, \"min\": 0.022462932392954826}, \"threshold_for_recall_at_target_precision\": {\"count\": 1, \"max\": 0.022462932392954826, \"sum\": 0.022462932392954826, \"min\": 0.022462932392954826}, \"recall_at_precision\": {\"count\": 1, \"max\": 0.8032258064516764, \"sum\": 0.8032258064516764, \"min\": 0.8032258064516764}, \"precision_at_target_recall\": {\"count\": 1, \"max\": 0.8498293515358875, \"sum\": 0.8498293515358875, \"min\": 0.8498293515358875}, \"accuracy\": {\"count\": 1, \"max\": 0.9993855480911027, \"sum\": 0.9993855480911027, \"min\": 0.9993855480911027}, \"threshold_for_f1\": {\"count\": 1, \"max\": 0.022462932392954826, \"sum\": 0.022462932392954826, \"min\": 0.022462932392954826}}, \"EndTime\": 1514980919.926047, \"Dimensions\": {\"model\": 8, \"Host\": \"algo-1\", \"Operation\": \"training\", \"Algorithm\": \"Linear Learner\"}, \"StartTime\": 1514980919.916654}\n",
      "\u001b[0m\n",
      "\u001b[31m#metrics {\"Metrics\": {\"f1\": {\"count\": 1, \"max\": 0.8163934426229508, \"sum\": 0.8163934426229508, \"min\": 0.8163934426229508}, \"threshold_for_accuracy\": {\"count\": 1, \"max\": 0.0301042627543211, \"sum\": 0.0301042627543211, \"min\": 0.0301042627543211}, \"threshold_for_precision_at_target_recall\": {\"count\": 1, \"max\": 0.021519774571061134, \"sum\": 0.021519774571061134, \"min\": 0.021519774571061134}, \"threshold_for_recall_at_target_precision\": {\"count\": 1, \"max\": 0.020430367439985275, \"sum\": 0.020430367439985275, \"min\": 0.020430367439985275}, \"recall_at_precision\": {\"count\": 1, \"max\": 0.8064516129032883, \"sum\": 0.8064516129032883, \"min\": 0.8064516129032883}, \"precision_at_target_recall\": {\"count\": 1, \"max\": 0.8300000000000567, \"sum\": 0.8300000000000567, \"min\": 0.8300000000000567}, \"accuracy\": {\"count\": 1, \"max\": 0.9993504365534515, \"sum\": 0.9993504365534515, \"min\": 0.9993504365534515}, \"threshold_for_f1\": {\"count\": 1, \"max\": 0.021519774571061134, \"sum\": 0.021519774571061134, \"min\": 0.021519774571061134}}, \"EndTime\": 1514980919.935504, \"Dimensions\": {\"model\": 9, \"Host\": \"algo-1\", \"Operation\": \"training\", \"Algorithm\": \"Linear Learner\"}, \"StartTime\": 1514980919.92614}\n",
      "\u001b[0m\n",
      "\u001b[31m#metrics {\"Metrics\": {\"f1\": {\"count\": 1, \"max\": 0.8258706467661692, \"sum\": 0.8258706467661692, \"min\": 0.8258706467661692}, \"threshold_for_accuracy\": {\"count\": 1, \"max\": 0.018863338977098465, \"sum\": 0.018863338977098465, \"min\": 0.018863338977098465}, \"threshold_for_precision_at_target_recall\": {\"count\": 1, \"max\": 0.018863338977098465, \"sum\": 0.018863338977098465, \"min\": 0.018863338977098465}, \"threshold_for_recall_at_target_precision\": {\"count\": 1, \"max\": 0.018863338977098465, \"sum\": 0.018863338977098465, \"min\": 0.018863338977098465}, \"recall_at_precision\": {\"count\": 1, \"max\": 0.8032258064516764, \"sum\": 0.8032258064516764, \"min\": 0.8032258064516764}, \"precision_at_target_recall\": {\"count\": 1, \"max\": 0.8498293515358875, \"sum\": 0.8498293515358875, \"min\": 0.8498293515358875}, \"accuracy\": {\"count\": 1, \"max\": 0.9993855480911027, \"sum\": 0.9993855480911027, \"min\": 0.9993855480911027}, \"threshold_for_f1\": {\"count\": 1, \"max\": 0.018863338977098465, \"sum\": 0.018863338977098465, \"min\": 0.018863338977098465}}, \"EndTime\": 1514980919.945014, \"Dimensions\": {\"model\": 10, \"Host\": \"algo-1\", \"Operation\": \"training\", \"Algorithm\": \"Linear Learner\"}, \"StartTime\": 1514980919.935597}\n",
      "\u001b[0m\n",
      "\u001b[31m#metrics {\"Metrics\": {\"f1\": {\"count\": 1, \"max\": 0.8163934426229508, \"sum\": 0.8163934426229508, \"min\": 0.8163934426229508}, \"threshold_for_accuracy\": {\"count\": 1, \"max\": 0.030104227364063263, \"sum\": 0.030104227364063263, \"min\": 0.030104227364063263}, \"threshold_for_precision_at_target_recall\": {\"count\": 1, \"max\": 0.021520061418414116, \"sum\": 0.021520061418414116, \"min\": 0.021520061418414116}, \"threshold_for_recall_at_target_precision\": {\"count\": 1, \"max\": 0.02043071575462818, \"sum\": 0.02043071575462818, \"min\": 0.02043071575462818}, \"recall_at_precision\": {\"count\": 1, \"max\": 0.8064516129032883, \"sum\": 0.8064516129032883, \"min\": 0.8064516129032883}, \"precision_at_target_recall\": {\"count\": 1, \"max\": 0.8300000000000567, \"sum\": 0.8300000000000567, \"min\": 0.8300000000000567}, \"accuracy\": {\"count\": 1, \"max\": 0.9993504365534515, \"sum\": 0.9993504365534515, \"min\": 0.9993504365534515}, \"threshold_for_f1\": {\"count\": 1, \"max\": 0.021520061418414116, \"sum\": 0.021520061418414116, \"min\": 0.021520061418414116}}, \"EndTime\": 1514980919.954683, \"Dimensions\": {\"model\": 11, \"Host\": \"algo-1\", \"Operation\": \"training\", \"Algorithm\": \"Linear Learner\"}, \"StartTime\": 1514980919.945104}\n",
      "\u001b[0m\n",
      "\u001b[31m#metrics {\"Metrics\": {\"f1\": {\"count\": 1, \"max\": 0.8258706467661692, \"sum\": 0.8258706467661692, \"min\": 0.8258706467661692}, \"threshold_for_accuracy\": {\"count\": 1, \"max\": 0.01966986060142517, \"sum\": 0.01966986060142517, \"min\": 0.01966986060142517}, \"threshold_for_precision_at_target_recall\": {\"count\": 1, \"max\": 0.01966986060142517, \"sum\": 0.01966986060142517, \"min\": 0.01966986060142517}, \"threshold_for_recall_at_target_precision\": {\"count\": 1, \"max\": 0.01878475956618786, \"sum\": 0.01878475956618786, \"min\": 0.01878475956618786}, \"recall_at_precision\": {\"count\": 1, \"max\": 0.8064516129032883, \"sum\": 0.8064516129032883, \"min\": 0.8064516129032883}, \"precision_at_target_recall\": {\"count\": 1, \"max\": 0.8498293515358875, \"sum\": 0.8498293515358875, \"min\": 0.8498293515358875}, \"accuracy\": {\"count\": 1, \"max\": 0.9993855480911027, \"sum\": 0.9993855480911027, \"min\": 0.9993855480911027}, \"threshold_for_f1\": {\"count\": 1, \"max\": 0.01966986060142517, \"sum\": 0.01966986060142517, \"min\": 0.01966986060142517}}, \"EndTime\": 1514980919.968409, \"Dimensions\": {\"model\": 12, \"Host\": \"algo-1\", \"Operation\": \"training\", \"Algorithm\": \"Linear Learner\"}, \"StartTime\": 1514980919.954785}\n",
      "\u001b[0m\n",
      "\u001b[31m#metrics {\"Metrics\": {\"f1\": {\"count\": 1, \"max\": 0.7388535031847133, \"sum\": 0.7388535031847133, \"min\": 0.7388535031847133}, \"threshold_for_accuracy\": {\"count\": 1, \"max\": 0.017622079700231552, \"sum\": 0.017622079700231552, \"min\": 0.017622079700231552}, \"threshold_for_precision_at_target_recall\": {\"count\": 1, \"max\": 0.012194563634693623, \"sum\": 0.012194563634693623, \"min\": 0.012194563634693623}, \"threshold_for_recall_at_target_precision\": {\"count\": 1, \"max\": 0.16818839311599731, \"sum\": 0.16818839311599731, \"min\": 0.16818839311599731}, \"recall_at_precision\": {\"count\": 1, \"max\": 0.5322580645162799, \"sum\": 0.5322580645162799, \"min\": 0.5322580645162799}, \"precision_at_target_recall\": {\"count\": 1, \"max\": 0.6595744680851969, \"sum\": 0.6595744680851969, \"min\": 0.6595744680851969}, \"accuracy\": {\"count\": 1, \"max\": 0.9990402846375319, \"sum\": 0.9990402846375319, \"min\": 0.9990402846375319}, \"threshold_for_f1\": {\"count\": 1, \"max\": 0.017622079700231552, \"sum\": 0.017622079700231552, \"min\": 0.017622079700231552}}, \"EndTime\": 1514980919.980581, \"Dimensions\": {\"model\": 13, \"Host\": \"algo-1\", \"Operation\": \"training\", \"Algorithm\": \"Linear Learner\"}, \"StartTime\": 1514980919.968563}\n",
      "\u001b[0m\n",
      "\u001b[31m#metrics {\"Metrics\": {\"f1\": {\"count\": 1, \"max\": 0.8258706467661692, \"sum\": 0.8258706467661692, \"min\": 0.8258706467661692}, \"threshold_for_accuracy\": {\"count\": 1, \"max\": 0.019463494420051575, \"sum\": 0.019463494420051575, \"min\": 0.019463494420051575}, \"threshold_for_precision_at_target_recall\": {\"count\": 1, \"max\": 0.019463494420051575, \"sum\": 0.019463494420051575, \"min\": 0.019463494420051575}, \"threshold_for_recall_at_target_precision\": {\"count\": 1, \"max\": 0.018572239205241203, \"sum\": 0.018572239205241203, \"min\": 0.018572239205241203}, \"recall_at_precision\": {\"count\": 1, \"max\": 0.8064516129032883, \"sum\": 0.8064516129032883, \"min\": 0.8064516129032883}, \"precision_at_target_recall\": {\"count\": 1, \"max\": 0.8498293515358875, \"sum\": 0.8498293515358875, \"min\": 0.8498293515358875}, \"accuracy\": {\"count\": 1, \"max\": 0.9993855480911027, \"sum\": 0.9993855480911027, \"min\": 0.9993855480911027}, \"threshold_for_f1\": {\"count\": 1, \"max\": 0.019463494420051575, \"sum\": 0.019463494420051575, \"min\": 0.019463494420051575}}, \"EndTime\": 1514980919.989987, \"Dimensions\": {\"model\": 14, \"Host\": \"algo-1\", \"Operation\": \"training\", \"Algorithm\": \"Linear Learner\"}, \"StartTime\": 1514980919.98068}\n",
      "\u001b[0m\n",
      "\u001b[31m#metrics {\"Metrics\": {\"f1\": {\"count\": 1, \"max\": 0.7388535031847133, \"sum\": 0.7388535031847133, \"min\": 0.7388535031847133}, \"threshold_for_accuracy\": {\"count\": 1, \"max\": 0.01761963590979576, \"sum\": 0.01761963590979576, \"min\": 0.01761963590979576}, \"threshold_for_precision_at_target_recall\": {\"count\": 1, \"max\": 0.012179397977888584, \"sum\": 0.012179397977888584, \"min\": 0.012179397977888584}, \"threshold_for_recall_at_target_precision\": {\"count\": 1, \"max\": 0.16814815998077393, \"sum\": 0.16814815998077393, \"min\": 0.16814815998077393}, \"recall_at_precision\": {\"count\": 1, \"max\": 0.5322580645162799, \"sum\": 0.5322580645162799, \"min\": 0.5322580645162799}, \"precision_at_target_recall\": {\"count\": 1, \"max\": 0.6595744680851969, \"sum\": 0.6595744680851969, \"min\": 0.6595744680851969}, \"accuracy\": {\"count\": 1, \"max\": 0.9990402846375319, \"sum\": 0.9990402846375319, \"min\": 0.9990402846375319}, \"threshold_for_f1\": {\"count\": 1, \"max\": 0.01761963590979576, \"sum\": 0.01761963590979576, \"min\": 0.01761963590979576}}, \"EndTime\": 1514980919.999435, \"Dimensions\": {\"model\": 15, \"Host\": \"algo-1\", \"Operation\": \"training\", \"Algorithm\": \"Linear Learner\"}, \"StartTime\": 1514980919.990079}\n",
      "\u001b[0m\n",
      "\u001b[31m#metrics {\"Metrics\": {\"f1\": {\"count\": 1, \"max\": 0.8089171974522293, \"sum\": 0.8089171974522293, \"min\": 0.8089171974522293}, \"threshold_for_accuracy\": {\"count\": 1, \"max\": 0.0021646495442837477, \"sum\": 0.0021646495442837477, \"min\": 0.0021646495442837477}, \"threshold_for_precision_at_target_recall\": {\"count\": 1, \"max\": 0.0021646495442837477, \"sum\": 0.0021646495442837477, \"min\": 0.0021646495442837477}, \"threshold_for_recall_at_target_precision\": {\"count\": 1, \"max\": 0.002877087565138936, \"sum\": 0.002877087565138936, \"min\": 0.002877087565138936}, \"recall_at_precision\": {\"count\": 1, \"max\": 0.6387096774194714, \"sum\": 0.6387096774194714, \"min\": 0.6387096774194714}, \"precision_at_target_recall\": {\"count\": 1, \"max\": 0.7987421383648432, \"sum\": 0.7987421383648432, \"min\": 0.7987421383648432}, \"accuracy\": {\"count\": 1, \"max\": 0.9992977692469746, \"sum\": 0.9992977692469746, \"min\": 0.9992977692469746}, \"threshold_for_f1\": {\"count\": 1, \"max\": 0.0021646495442837477, \"sum\": 0.0021646495442837477, \"min\": 0.0021646495442837477}}, \"EndTime\": 1514980920.008929, \"Dimensions\": {\"model\": 16, \"Host\": \"algo-1\", \"Operation\": \"training\", \"Algorithm\": \"Linear Learner\"}, \"StartTime\": 1514980919.999525}\n",
      "\u001b[0m\n",
      "\u001b[31m#metrics {\"Metrics\": {\"f1\": {\"count\": 1, \"max\": 0.7878787878787878, \"sum\": 0.7878787878787878, \"min\": 0.7878787878787878}, \"threshold_for_accuracy\": {\"count\": 1, \"max\": 0.0019524120725691319, \"sum\": 0.0019524120725691319, \"min\": 0.0019524120725691319}, \"threshold_for_precision_at_target_recall\": {\"count\": 1, \"max\": 0.0019443489145487547, \"sum\": 0.0019443489145487547, \"min\": 0.0019443489145487547}, \"threshold_for_recall_at_target_precision\": {\"count\": 1, \"max\": 0.0020086418371647596, \"sum\": 0.0020086418371647596, \"min\": 0.0020086418371647596}, \"recall_at_precision\": {\"count\": 1, \"max\": 0.6870967741936493, \"sum\": 0.6870967741936493, \"min\": 0.6870967741936493}, \"precision_at_target_recall\": {\"count\": 1, \"max\": 0.7584097859327956, \"sum\": 0.7584097859327956, \"min\": 0.7584097859327956}, \"accuracy\": {\"count\": 1, \"max\": 0.9992216942487301, \"sum\": 0.9992216942487301, \"min\": 0.9992216942487301}, \"threshold_for_f1\": {\"count\": 1, \"max\": 0.0019524120725691319, \"sum\": 0.0019524120725691319, \"min\": 0.0019524120725691319}}, \"EndTime\": 1514980920.019471, \"Dimensions\": {\"model\": 17, \"Host\": \"algo-1\", \"Operation\": \"training\", \"Algorithm\": \"Linear Learner\"}, \"StartTime\": 1514980920.009028}\n",
      "\u001b[0m\n",
      "\u001b[31m#metrics {\"Metrics\": {\"f1\": {\"count\": 1, \"max\": 0.8096774193548387, \"sum\": 0.8096774193548387, \"min\": 0.8096774193548387}, \"threshold_for_accuracy\": {\"count\": 1, \"max\": 0.0020626296754926443, \"sum\": 0.0020626296754926443, \"min\": 0.0020626296754926443}, \"threshold_for_precision_at_target_recall\": {\"count\": 1, \"max\": 0.0020626296754926443, \"sum\": 0.0020626296754926443, \"min\": 0.0020626296754926443}, \"threshold_for_recall_at_target_precision\": {\"count\": 1, \"max\": 0.0020626296754926443, \"sum\": 0.0020626296754926443, \"min\": 0.0020626296754926443}, \"recall_at_precision\": {\"count\": 1, \"max\": 0.8096774193549001, \"sum\": 0.8096774193549001, \"min\": 0.8096774193549001}, \"precision_at_target_recall\": {\"count\": 1, \"max\": 0.8096774193549001, \"sum\": 0.8096774193549001, \"min\": 0.8096774193549001}, \"accuracy\": {\"count\": 1, \"max\": 0.9993094730928583, \"sum\": 0.9993094730928583, \"min\": 0.9993094730928583}, \"threshold_for_f1\": {\"count\": 1, \"max\": 0.0020626296754926443, \"sum\": 0.0020626296754926443, \"min\": 0.0020626296754926443}}, \"EndTime\": 1514980920.029478, \"Dimensions\": {\"model\": 18, \"Host\": \"algo-1\", \"Operation\": \"training\", \"Algorithm\": \"Linear Learner\"}, \"StartTime\": 1514980920.019578}\n",
      "\u001b[0m\n",
      "\u001b[31m#metrics {\"Metrics\": {\"f1\": {\"count\": 1, \"max\": 0.7878787878787878, \"sum\": 0.7878787878787878, \"min\": 0.7878787878787878}, \"threshold_for_accuracy\": {\"count\": 1, \"max\": 0.0019523983355611563, \"sum\": 0.0019523983355611563, \"min\": 0.0019523983355611563}, \"threshold_for_precision_at_target_recall\": {\"count\": 1, \"max\": 0.0019443489145487547, \"sum\": 0.0019443489145487547, \"min\": 0.0019443489145487547}, \"threshold_for_recall_at_target_precision\": {\"count\": 1, \"max\": 0.0020086399745196104, \"sum\": 0.0020086399745196104, \"min\": 0.0020086399745196104}, \"recall_at_precision\": {\"count\": 1, \"max\": 0.6870967741936493, \"sum\": 0.6870967741936493, \"min\": 0.6870967741936493}, \"precision_at_target_recall\": {\"count\": 1, \"max\": 0.7584097859327956, \"sum\": 0.7584097859327956, \"min\": 0.7584097859327956}, \"accuracy\": {\"count\": 1, \"max\": 0.9992216942487301, \"sum\": 0.9992216942487301, \"min\": 0.9992216942487301}, \"threshold_for_f1\": {\"count\": 1, \"max\": 0.0019523983355611563, \"sum\": 0.0019523983355611563, \"min\": 0.0019523983355611563}}, \"EndTime\": 1514980920.038796, \"Dimensions\": {\"model\": 19, \"Host\": \"algo-1\", \"Operation\": \"training\", \"Algorithm\": \"Linear Learner\"}, \"StartTime\": 1514980920.029571}\n",
      "\u001b[0m\n",
      "\u001b[31m#metrics {\"Metrics\": {\"f1\": {\"count\": 1, \"max\": 0.8096774193548387, \"sum\": 0.8096774193548387, \"min\": 0.8096774193548387}, \"threshold_for_accuracy\": {\"count\": 1, \"max\": 0.001893918844871223, \"sum\": 0.001893918844871223, \"min\": 0.001893918844871223}, \"threshold_for_precision_at_target_recall\": {\"count\": 1, \"max\": 0.001893918844871223, \"sum\": 0.001893918844871223, \"min\": 0.001893918844871223}, \"threshold_for_recall_at_target_precision\": {\"count\": 1, \"max\": 0.001893918844871223, \"sum\": 0.001893918844871223, \"min\": 0.001893918844871223}, \"recall_at_precision\": {\"count\": 1, \"max\": 0.8096774193549001, \"sum\": 0.8096774193549001, \"min\": 0.8096774193549001}, \"precision_at_target_recall\": {\"count\": 1, \"max\": 0.8096774193549001, \"sum\": 0.8096774193549001, \"min\": 0.8096774193549001}, \"accuracy\": {\"count\": 1, \"max\": 0.9993094730928583, \"sum\": 0.9993094730928583, \"min\": 0.9993094730928583}, \"threshold_for_f1\": {\"count\": 1, \"max\": 0.001893918844871223, \"sum\": 0.001893918844871223, \"min\": 0.001893918844871223}}, \"EndTime\": 1514980920.04819, \"Dimensions\": {\"model\": 20, \"Host\": \"algo-1\", \"Operation\": \"training\", \"Algorithm\": \"Linear Learner\"}, \"StartTime\": 1514980920.038887}\n",
      "\u001b[0m\n",
      "\u001b[31m#metrics {\"Metrics\": {\"f1\": {\"count\": 1, \"max\": 0.8013029315960912, \"sum\": 0.8013029315960912, \"min\": 0.8013029315960912}, \"threshold_for_accuracy\": {\"count\": 1, \"max\": 0.0009403890580870211, \"sum\": 0.0009403890580870211, \"min\": 0.0009403890580870211}, \"threshold_for_precision_at_target_recall\": {\"count\": 1, \"max\": 0.0008331811404787004, \"sum\": 0.0008331811404787004, \"min\": 0.0008331811404787004}, \"threshold_for_recall_at_target_precision\": {\"count\": 1, \"max\": 0.0009403890580870211, \"sum\": 0.0009403890580870211, \"min\": 0.0009403890580870211}, \"recall_at_precision\": {\"count\": 1, \"max\": 0.7935483870968408, \"sum\": 0.7935483870968408, \"min\": 0.7935483870968408}, \"precision_at_target_recall\": {\"count\": 1, \"max\": 0.7886435331230951, \"sum\": 0.7886435331230951, \"min\": 0.7886435331230951}, \"accuracy\": {\"count\": 1, \"max\": 0.9992860654010908, \"sum\": 0.9992860654010908, \"min\": 0.9992860654010908}, \"threshold_for_f1\": {\"count\": 1, \"max\": 0.0009403890580870211, \"sum\": 0.0009403890580870211, \"min\": 0.0009403890580870211}}, \"EndTime\": 1514980920.057851, \"Dimensions\": {\"model\": 21, \"Host\": \"algo-1\", \"Operation\": \"training\", \"Algorithm\": \"Linear Learner\"}, \"StartTime\": 1514980920.048281}\n",
      "\u001b[0m\n",
      "\u001b[31m#metrics {\"Metrics\": {\"f1\": {\"count\": 1, \"max\": 0.8096774193548387, \"sum\": 0.8096774193548387, \"min\": 0.8096774193548387}, \"threshold_for_accuracy\": {\"count\": 1, \"max\": 0.002004423411563039, \"sum\": 0.002004423411563039, \"min\": 0.002004423411563039}, \"threshold_for_precision_at_target_recall\": {\"count\": 1, \"max\": 0.002004423411563039, \"sum\": 0.002004423411563039, \"min\": 0.002004423411563039}, \"threshold_for_recall_at_target_precision\": {\"count\": 1, \"max\": 0.002004423411563039, \"sum\": 0.002004423411563039, \"min\": 0.002004423411563039}, \"recall_at_precision\": {\"count\": 1, \"max\": 0.8096774193549001, \"sum\": 0.8096774193549001, \"min\": 0.8096774193549001}, \"precision_at_target_recall\": {\"count\": 1, \"max\": 0.8096774193549001, \"sum\": 0.8096774193549001, \"min\": 0.8096774193549001}, \"accuracy\": {\"count\": 1, \"max\": 0.9993094730928583, \"sum\": 0.9993094730928583, \"min\": 0.9993094730928583}, \"threshold_for_f1\": {\"count\": 1, \"max\": 0.002004423411563039, \"sum\": 0.002004423411563039, \"min\": 0.002004423411563039}}, \"EndTime\": 1514980920.067219, \"Dimensions\": {\"model\": 22, \"Host\": \"algo-1\", \"Operation\": \"training\", \"Algorithm\": \"Linear Learner\"}, \"StartTime\": 1514980920.057948}\n",
      "\u001b[0m\n",
      "\u001b[31m#metrics {\"Metrics\": {\"f1\": {\"count\": 1, \"max\": 0.8013029315960912, \"sum\": 0.8013029315960912, \"min\": 0.8013029315960912}, \"threshold_for_accuracy\": {\"count\": 1, \"max\": 0.0009403021540492773, \"sum\": 0.0009403021540492773, \"min\": 0.0009403021540492773}, \"threshold_for_precision_at_target_recall\": {\"count\": 1, \"max\": 0.0008331144344992936, \"sum\": 0.0008331144344992936, \"min\": 0.0008331144344992936}, \"threshold_for_recall_at_target_precision\": {\"count\": 1, \"max\": 0.0009403021540492773, \"sum\": 0.0009403021540492773, \"min\": 0.0009403021540492773}, \"recall_at_precision\": {\"count\": 1, \"max\": 0.7935483870968408, \"sum\": 0.7935483870968408, \"min\": 0.7935483870968408}, \"precision_at_target_recall\": {\"count\": 1, \"max\": 0.7886435331230951, \"sum\": 0.7886435331230951, \"min\": 0.7886435331230951}, \"accuracy\": {\"count\": 1, \"max\": 0.9992860654010908, \"sum\": 0.9992860654010908, \"min\": 0.9992860654010908}, \"threshold_for_f1\": {\"count\": 1, \"max\": 0.0009403021540492773, \"sum\": 0.0009403021540492773, \"min\": 0.0009403021540492773}}, \"EndTime\": 1514980920.076587, \"Dimensions\": {\"model\": 23, \"Host\": \"algo-1\", \"Operation\": \"training\", \"Algorithm\": \"Linear Learner\"}, \"StartTime\": 1514980920.06731}\n",
      "\u001b[0m\n",
      "\u001b[31m#metrics {\"Metrics\": {\"f1\": {\"count\": 1, \"max\": 0.8012718600953895, \"sum\": 0.8012718600953895, \"min\": 0.8012718600953895}, \"threshold_for_accuracy\": {\"count\": 1, \"max\": 0.0020862342789769173, \"sum\": 0.0020862342789769173, \"min\": 0.0020862342789769173}, \"threshold_for_precision_at_target_recall\": {\"count\": 1, \"max\": 0.0020840733777731657, \"sum\": 0.0020840733777731657, \"min\": 0.0020840733777731657}, \"threshold_for_recall_at_target_precision\": {\"count\": 1, \"max\": 0.0020862342789769173, \"sum\": 0.0020862342789769173, \"min\": 0.0020862342789769173}, \"recall_at_precision\": {\"count\": 1, \"max\": 0.7032258064517086, \"sum\": 0.7032258064517086, \"min\": 0.7032258064517086}, \"precision_at_target_recall\": {\"count\": 1, \"max\": 0.7899686520376834, \"sum\": 0.7899686520376834, \"min\": 0.7899686520376834}, \"accuracy\": {\"count\": 1, \"max\": 0.9992685096322652, \"sum\": 0.9992685096322652, \"min\": 0.9992685096322652}, \"threshold_for_f1\": {\"count\": 1, \"max\": 0.0020840733777731657, \"sum\": 0.0020840733777731657, \"min\": 0.0020840733777731657}}, \"EndTime\": 1514980920.085857, \"Dimensions\": {\"model\": 24, \"Host\": \"algo-1\", \"Operation\": \"training\", \"Algorithm\": \"Linear Learner\"}, \"StartTime\": 1514980920.076678}\n",
      "\u001b[0m\n",
      "\u001b[31m#metrics {\"Metrics\": {\"f1\": {\"count\": 1, \"max\": 0.021212121212121213, \"sum\": 0.021212121212121213, \"min\": 0.021212121212121213}, \"threshold_for_accuracy\": {\"count\": 1, \"max\": Infinity, \"sum\": Infinity, \"min\": Infinity}, \"threshold_for_precision_at_target_recall\": {\"count\": 1, \"max\": -Infinity, \"sum\": -Infinity, \"min\": -Infinity}, \"threshold_for_recall_at_target_precision\": {\"count\": 1, \"max\": 0.0017843097448349, \"sum\": 0.0017843097448349, \"min\": 0.0017843097448349}, \"recall_at_precision\": {\"count\": 1, \"max\": 0.0, \"sum\": 0.0, \"min\": 0.0}, \"precision_at_target_recall\": {\"count\": 1, \"max\": 0.0018140961119829815, \"sum\": 0.0018140961119829815, \"min\": 0.0018140961119829815}, \"accuracy\": {\"count\": 1, \"max\": 0.9981859038880176, \"sum\": 0.9981859038880176, \"min\": 0.9981859038880176}, \"threshold_for_f1\": {\"count\": 1, \"max\": 0.0017889292212203145, \"sum\": 0.0017889292212203145, \"min\": 0.0017889292212203145}}, \"EndTime\": 1514980920.092498, \"Dimensions\": {\"model\": 25, \"Host\": \"algo-1\", \"Operation\": \"training\", \"Algorithm\": \"Linear Learner\"}, \"StartTime\": 1514980920.085948}\n",
      "\u001b[0m\n",
      "\u001b[31m#metrics {\"Metrics\": {\"f1\": {\"count\": 1, \"max\": 0.7008264462809918, \"sum\": 0.7008264462809918, \"min\": 0.7008264462809918}, \"threshold_for_accuracy\": {\"count\": 1, \"max\": 0.0018628982361406088, \"sum\": 0.0018628982361406088, \"min\": 0.0018628982361406088}, \"threshold_for_precision_at_target_recall\": {\"count\": 1, \"max\": 0.0018610460683703423, \"sum\": 0.0018610460683703423, \"min\": 0.0018610460683703423}, \"threshold_for_recall_at_target_precision\": {\"count\": 1, \"max\": 0.0018655512249097228, \"sum\": 0.0018655512249097228, \"min\": 0.0018655512249097228}, \"recall_at_precision\": {\"count\": 1, \"max\": 0.42580645161308844, \"sum\": 0.42580645161308844, \"min\": 0.42580645161308844}, \"precision_at_target_recall\": {\"count\": 1, \"max\": 0.30970149253739926, \"sum\": 0.30970149253739926, \"min\": 0.30970149253739926}, \"accuracy\": {\"count\": 1, \"max\": 0.9989583577163456, \"sum\": 0.9989583577163456, \"min\": 0.9989583577163456}, \"threshold_for_f1\": {\"count\": 1, \"max\": 0.0018626934615895152, \"sum\": 0.0018626934615895152, \"min\": 0.0018626934615895152}}, \"EndTime\": 1514980920.101818, \"Dimensions\": {\"model\": 26, \"Host\": \"algo-1\", \"Operation\": \"training\", \"Algorithm\": \"Linear Learner\"}, \"StartTime\": 1514980920.092586}\n",
      "\u001b[0m\n",
      "\u001b[31m#metrics {\"Metrics\": {\"f1\": {\"count\": 1, \"max\": 0.01312910284463895, \"sum\": 0.01312910284463895, \"min\": 0.01312910284463895}, \"threshold_for_accuracy\": {\"count\": 1, \"max\": Infinity, \"sum\": Infinity, \"min\": Infinity}, \"threshold_for_precision_at_target_recall\": {\"count\": 1, \"max\": -Infinity, \"sum\": -Infinity, \"min\": -Infinity}, \"threshold_for_recall_at_target_precision\": {\"count\": 1, \"max\": 0.0017855204641819, \"sum\": 0.0017855204641819, \"min\": 0.0017855204641819}, \"recall_at_precision\": {\"count\": 1, \"max\": 0.0, \"sum\": 0.0, \"min\": 0.0}, \"precision_at_target_recall\": {\"count\": 1, \"max\": 0.0018140961119829815, \"sum\": 0.0018140961119829815, \"min\": 0.0018140961119829815}, \"accuracy\": {\"count\": 1, \"max\": 0.9981859038880176, \"sum\": 0.9981859038880176, \"min\": 0.9981859038880176}, \"threshold_for_f1\": {\"count\": 1, \"max\": 0.0017900177044793963, \"sum\": 0.0017900177044793963, \"min\": 0.0017900177044793963}}, \"EndTime\": 1514980920.108552, \"Dimensions\": {\"model\": 27, \"Host\": \"algo-1\", \"Operation\": \"training\", \"Algorithm\": \"Linear Learner\"}, \"StartTime\": 1514980920.101911}\n",
      "\u001b[0m\n",
      "\u001b[31m#metrics {\"Metrics\": {\"f1\": {\"count\": 1, \"max\": 0.8096774193548387, \"sum\": 0.8096774193548387, \"min\": 0.8096774193548387}, \"threshold_for_accuracy\": {\"count\": 1, \"max\": 0.0018136685248464346, \"sum\": 0.0018136685248464346, \"min\": 0.0018136685248464346}, \"threshold_for_precision_at_target_recall\": {\"count\": 1, \"max\": 0.0018136685248464346, \"sum\": 0.0018136685248464346, \"min\": 0.0018136685248464346}, \"threshold_for_recall_at_target_precision\": {\"count\": 1, \"max\": 0.0018136685248464346, \"sum\": 0.0018136685248464346, \"min\": 0.0018136685248464346}, \"recall_at_precision\": {\"count\": 1, \"max\": 0.8096774193549001, \"sum\": 0.8096774193549001, \"min\": 0.8096774193549001}, \"precision_at_target_recall\": {\"count\": 1, \"max\": 0.8096774193549001, \"sum\": 0.8096774193549001, \"min\": 0.8096774193549001}, \"accuracy\": {\"count\": 1, \"max\": 0.9993094730928583, \"sum\": 0.9993094730928583, \"min\": 0.9993094730928583}, \"threshold_for_f1\": {\"count\": 1, \"max\": 0.0018136685248464346, \"sum\": 0.0018136685248464346, \"min\": 0.0018136685248464346}}, \"EndTime\": 1514980920.120153, \"Dimensions\": {\"model\": 28, \"Host\": \"algo-1\", \"Operation\": \"training\", \"Algorithm\": \"Linear Learner\"}, \"StartTime\": 1514980920.108639}\n",
      "\u001b[0m\n",
      "\u001b[31m#metrics {\"Metrics\": {\"f1\": {\"count\": 1, \"max\": 0.0036216222531163474, \"sum\": 0.0036216222531163474, \"min\": 0.0036216222531163474}, \"threshold_for_accuracy\": {\"count\": 1, \"max\": Infinity, \"sum\": Infinity, \"min\": Infinity}, \"threshold_for_precision_at_target_recall\": {\"count\": 1, \"max\": -Infinity, \"sum\": -Infinity, \"min\": -Infinity}, \"threshold_for_recall_at_target_precision\": {\"count\": 1, \"max\": 0.00064708455465734, \"sum\": 0.00064708455465734, \"min\": 0.00064708455465734}, \"recall_at_precision\": {\"count\": 1, \"max\": 0.0, \"sum\": 0.0, \"min\": 0.0}, \"precision_at_target_recall\": {\"count\": 1, \"max\": 0.0018140961119829815, \"sum\": 0.0018140961119829815, \"min\": 0.0018140961119829815}, \"accuracy\": {\"count\": 1, \"max\": 0.9981859038880176, \"sum\": 0.9981859038880176, \"min\": 0.9981859038880176}, \"threshold_for_f1\": {\"count\": 1, \"max\": -Infinity, \"sum\": -Infinity, \"min\": -Infinity}}, \"EndTime\": 1514980920.128315, \"Dimensions\": {\"model\": 29, \"Host\": \"algo-1\", \"Operation\": \"training\", \"Algorithm\": \"Linear Learner\"}, \"StartTime\": 1514980920.120279}\n",
      "\u001b[0m\n",
      "\u001b[31m#metrics {\"Metrics\": {\"f1\": {\"count\": 1, \"max\": 0.707641196013289, \"sum\": 0.707641196013289, \"min\": 0.707641196013289}, \"threshold_for_accuracy\": {\"count\": 1, \"max\": 0.0018101015593856573, \"sum\": 0.0018101015593856573, \"min\": 0.0018101015593856573}, \"threshold_for_precision_at_target_recall\": {\"count\": 1, \"max\": 0.0018085186602547765, \"sum\": 0.0018085186602547765, \"min\": 0.0018085186602547765}, \"threshold_for_recall_at_target_precision\": {\"count\": 1, \"max\": 0.0018125198548659682, \"sum\": 0.0018125198548659682, \"min\": 0.0018125198548659682}, \"recall_at_precision\": {\"count\": 1, \"max\": 0.42580645161308844, \"sum\": 0.42580645161308844, \"min\": 0.42580645161308844}, \"precision_at_target_recall\": {\"count\": 1, \"max\": 0.30970149253739926, \"sum\": 0.30970149253739926, \"min\": 0.30970149253739926}, \"accuracy\": {\"count\": 1, \"max\": 0.9989817654081131, \"sum\": 0.9989817654081131, \"min\": 0.9989817654081131}, \"threshold_for_f1\": {\"count\": 1, \"max\": 0.0018100697780027986, \"sum\": 0.0018100697780027986, \"min\": 0.0018100697780027986}}, \"EndTime\": 1514980920.142364, \"Dimensions\": {\"model\": 30, \"Host\": \"algo-1\", \"Operation\": \"training\", \"Algorithm\": \"Linear Learner\"}, \"StartTime\": 1514980920.128427}\n",
      "\u001b[0m\n",
      "\u001b[31m#metrics {\"Metrics\": {\"f1\": {\"count\": 1, \"max\": 0.0036216222531163474, \"sum\": 0.0036216222531163474, \"min\": 0.0036216222531163474}, \"threshold_for_accuracy\": {\"count\": 1, \"max\": Infinity, \"sum\": Infinity, \"min\": Infinity}, \"threshold_for_precision_at_target_recall\": {\"count\": 1, \"max\": -Infinity, \"sum\": -Infinity, \"min\": -Infinity}, \"threshold_for_recall_at_target_precision\": {\"count\": 1, \"max\": 0.000656740739941597, \"sum\": 0.000656740739941597, \"min\": 0.000656740739941597}, \"recall_at_precision\": {\"count\": 1, \"max\": 0.0, \"sum\": 0.0, \"min\": 0.0}, \"precision_at_target_recall\": {\"count\": 1, \"max\": 0.0018140961119829815, \"sum\": 0.0018140961119829815, \"min\": 0.0018140961119829815}, \"accuracy\": {\"count\": 1, \"max\": 0.9981859038880176, \"sum\": 0.9981859038880176, \"min\": 0.9981859038880176}, \"threshold_for_f1\": {\"count\": 1, \"max\": -Infinity, \"sum\": -Infinity, \"min\": -Infinity}}, \"EndTime\": 1514980920.14953, \"Dimensions\": {\"model\": 31, \"Host\": \"algo-1\", \"Operation\": \"training\", \"Algorithm\": \"Linear Learner\"}, \"StartTime\": 1514980920.142495}\n",
      "\u001b[0m\n",
      "\u001b[31m[01/03/2018 12:02:00 INFO 140429112674112 linear_learner.py:235] Selection criteria: accuracy\u001b[0m\n",
      "\u001b[31mmodel: 8\u001b[0m\n",
      "\u001b[31mthreshold: 0.022463\u001b[0m\n",
      "\u001b[31mscore: 0.999386\u001b[0m\n",
      "\u001b[31m[01/03/2018 12:02:00 INFO 140429112674112 module.py:168] Saved checkpoint to \"/tmp/tmp0y4pHp/mx-mod-0000.params\"\u001b[0m\n",
      "\u001b[31m#metrics {\"Metrics\": {\"totaltime\": {\"count\": 1, \"max\": 342915.23790359497, \"sum\": 342915.23790359497, \"min\": 342915.23790359497}, \"finalize.time\": {\"count\": 1, \"max\": 5987.080097198486, \"sum\": 5987.080097198486, \"min\": 5987.080097198486}, \"initialize.time\": {\"count\": 1, \"max\": 2363.588809967041, \"sum\": 2363.588809967041, \"min\": 2363.588809967041}, \"setuptime\": {\"count\": 1, \"max\": 24.858951568603516, \"sum\": 24.858951568603516, \"min\": 24.858951568603516}, \"update.time\": {\"count\": 10, \"max\": 33599.101066589355, \"sum\": 333094.7051048279, \"min\": 33156.965017318726}, \"epochs\": {\"count\": 1, \"max\": 10, \"sum\": 10.0, \"min\": 10}}, \"EndTime\": 1514980920.165529, \"Dimensions\": {\"Host\": \"algo-1\", \"Operation\": \"training\", \"Algorithm\": \"Linear Learner\"}, \"StartTime\": 1514980578.712945}\n",
      "\u001b[0m\n"
     ]
    },
    {
     "name": "stdout",
     "output_type": "stream",
     "text": [
      "===== Job Complete =====\n"
     ]
    }
   ],
   "source": [
    "sess = sagemaker.Session()\n",
    "\n",
    "linear = sagemaker.estimator.Estimator(containers[boto3.Session().region_name],\n",
    "                                       role, #S3 role, so the notebook can read the data and upload the model\n",
    "                                       train_instance_count=1, #number of instances for training\n",
    "                                       train_instance_type='ml.p2.xlarge', # type of training instance\n",
    "                                       output_path=output_location, #s3 location for uploading trained mdoel\n",
    "                                       sagemaker_session=sess)\n",
    "\n",
    "linear.set_hyperparameters(feature_dim=30, #dataset has 30 columns (features)\n",
    "                           predictor_type='binary_classifier', # we predict a binary value. it could have been regressor\n",
    "                           mini_batch_size=200)\n",
    "\n",
    "linear.fit({'train': s3_train_data})"
   ]
  },
  {
   "cell_type": "markdown",
   "metadata": {},
   "source": [
    "# Hosting the model\n",
    "We use sagemaker to host the live model by calling deploy from estimator we defined previously. This action will create a dockerized environment using ECS and permits autoscaling. "
   ]
  },
  {
   "cell_type": "code",
   "execution_count": 56,
   "metadata": {},
   "outputs": [
    {
     "name": "stderr",
     "output_type": "stream",
     "text": [
      "INFO:sagemaker:Creating model with name: linear-learner-2018-01-03-12-16-51-271\n",
      "INFO:sagemaker:Creating endpoint with name linear-learner-2018-01-03-11-49-37-675\n"
     ]
    },
    {
     "ename": "ClientError",
     "evalue": "An error occurred (ValidationException) when calling the CreateEndpoint operation: Cannot create already existing endpoint \"arn:aws:sagemaker:eu-west-1:475933981307:endpoint/linear-learner-2018-01-03-11-49-37-675\".",
     "output_type": "error",
     "traceback": [
      "\u001b[0;31m---------------------------------------------------------------------------\u001b[0m",
      "\u001b[0;31mClientError\u001b[0m                               Traceback (most recent call last)",
      "\u001b[0;32m<ipython-input-56-38fa7fcf2864>\u001b[0m in \u001b[0;36m<module>\u001b[0;34m()\u001b[0m\n\u001b[1;32m      1\u001b[0m linear_predictor = linear.deploy(initial_instance_count=1, #Initial number of instances. \n\u001b[1;32m      2\u001b[0m                                                            \u001b[0;31m#Autoscaling can increase the number of instances.\u001b[0m\u001b[0;34m\u001b[0m\u001b[0;34m\u001b[0m\u001b[0m\n\u001b[0;32m----> 3\u001b[0;31m                                  instance_type='ml.m4.xlarge') # instance type\n\u001b[0m",
      "\u001b[0;32m~/anaconda3/envs/python3/lib/python3.6/site-packages/sagemaker/estimator.py\u001b[0m in \u001b[0;36mdeploy\u001b[0;34m(self, initial_instance_count, instance_type, endpoint_name, **kwargs)\u001b[0m\n\u001b[1;32m    183\u001b[0m             \u001b[0minstance_type\u001b[0m\u001b[0;34m=\u001b[0m\u001b[0minstance_type\u001b[0m\u001b[0;34m,\u001b[0m\u001b[0;34m\u001b[0m\u001b[0m\n\u001b[1;32m    184\u001b[0m             \u001b[0minitial_instance_count\u001b[0m\u001b[0;34m=\u001b[0m\u001b[0minitial_instance_count\u001b[0m\u001b[0;34m,\u001b[0m\u001b[0;34m\u001b[0m\u001b[0m\n\u001b[0;32m--> 185\u001b[0;31m             endpoint_name=endpoint_name)\n\u001b[0m\u001b[1;32m    186\u001b[0m \u001b[0;34m\u001b[0m\u001b[0m\n\u001b[1;32m    187\u001b[0m     \u001b[0;34m@\u001b[0m\u001b[0mproperty\u001b[0m\u001b[0;34m\u001b[0m\u001b[0m\n",
      "\u001b[0;32m~/anaconda3/envs/python3/lib/python3.6/site-packages/sagemaker/model.py\u001b[0m in \u001b[0;36mdeploy\u001b[0;34m(self, initial_instance_count, instance_type, endpoint_name)\u001b[0m\n\u001b[1;32m     90\u001b[0m         \u001b[0mproduction_variant\u001b[0m \u001b[0;34m=\u001b[0m \u001b[0msagemaker\u001b[0m\u001b[0;34m.\u001b[0m\u001b[0mproduction_variant\u001b[0m\u001b[0;34m(\u001b[0m\u001b[0mmodel_name\u001b[0m\u001b[0;34m,\u001b[0m \u001b[0minstance_type\u001b[0m\u001b[0;34m,\u001b[0m \u001b[0minitial_instance_count\u001b[0m\u001b[0;34m)\u001b[0m\u001b[0;34m\u001b[0m\u001b[0m\n\u001b[1;32m     91\u001b[0m         \u001b[0mself\u001b[0m\u001b[0;34m.\u001b[0m\u001b[0mendpoint_name\u001b[0m \u001b[0;34m=\u001b[0m \u001b[0mendpoint_name\u001b[0m \u001b[0;32mor\u001b[0m \u001b[0mmodel_name\u001b[0m\u001b[0;34m\u001b[0m\u001b[0m\n\u001b[0;32m---> 92\u001b[0;31m         \u001b[0mself\u001b[0m\u001b[0;34m.\u001b[0m\u001b[0msagemaker_session\u001b[0m\u001b[0;34m.\u001b[0m\u001b[0mendpoint_from_production_variants\u001b[0m\u001b[0;34m(\u001b[0m\u001b[0mself\u001b[0m\u001b[0;34m.\u001b[0m\u001b[0mendpoint_name\u001b[0m\u001b[0;34m,\u001b[0m \u001b[0;34m[\u001b[0m\u001b[0mproduction_variant\u001b[0m\u001b[0;34m]\u001b[0m\u001b[0;34m)\u001b[0m\u001b[0;34m\u001b[0m\u001b[0m\n\u001b[0m\u001b[1;32m     93\u001b[0m         \u001b[0;32mif\u001b[0m \u001b[0mself\u001b[0m\u001b[0;34m.\u001b[0m\u001b[0mpredictor_cls\u001b[0m\u001b[0;34m:\u001b[0m\u001b[0;34m\u001b[0m\u001b[0m\n\u001b[1;32m     94\u001b[0m             \u001b[0;32mreturn\u001b[0m \u001b[0mself\u001b[0m\u001b[0;34m.\u001b[0m\u001b[0mpredictor_cls\u001b[0m\u001b[0;34m(\u001b[0m\u001b[0mself\u001b[0m\u001b[0;34m.\u001b[0m\u001b[0mendpoint_name\u001b[0m\u001b[0;34m,\u001b[0m \u001b[0mself\u001b[0m\u001b[0;34m.\u001b[0m\u001b[0msagemaker_session\u001b[0m\u001b[0;34m)\u001b[0m\u001b[0;34m\u001b[0m\u001b[0m\n",
      "\u001b[0;32m~/anaconda3/envs/python3/lib/python3.6/site-packages/sagemaker/session.py\u001b[0m in \u001b[0;36mendpoint_from_production_variants\u001b[0;34m(self, name, production_variants, wait)\u001b[0m\n\u001b[1;32m    523\u001b[0m             self.sagemaker_client.create_endpoint_config(\n\u001b[1;32m    524\u001b[0m                 EndpointConfigName=name, ProductionVariants=production_variants)\n\u001b[0;32m--> 525\u001b[0;31m         \u001b[0;32mreturn\u001b[0m \u001b[0mself\u001b[0m\u001b[0;34m.\u001b[0m\u001b[0mcreate_endpoint\u001b[0m\u001b[0;34m(\u001b[0m\u001b[0mendpoint_name\u001b[0m\u001b[0;34m=\u001b[0m\u001b[0mname\u001b[0m\u001b[0;34m,\u001b[0m \u001b[0mconfig_name\u001b[0m\u001b[0;34m=\u001b[0m\u001b[0mname\u001b[0m\u001b[0;34m,\u001b[0m \u001b[0mwait\u001b[0m\u001b[0;34m=\u001b[0m\u001b[0mwait\u001b[0m\u001b[0;34m)\u001b[0m\u001b[0;34m\u001b[0m\u001b[0m\n\u001b[0m\u001b[1;32m    526\u001b[0m \u001b[0;34m\u001b[0m\u001b[0m\n\u001b[1;32m    527\u001b[0m     \u001b[0;32mdef\u001b[0m \u001b[0mexpand_role\u001b[0m\u001b[0;34m(\u001b[0m\u001b[0mself\u001b[0m\u001b[0;34m,\u001b[0m \u001b[0mrole\u001b[0m\u001b[0;34m)\u001b[0m\u001b[0;34m:\u001b[0m\u001b[0;34m\u001b[0m\u001b[0m\n",
      "\u001b[0;32m~/anaconda3/envs/python3/lib/python3.6/site-packages/sagemaker/session.py\u001b[0m in \u001b[0;36mcreate_endpoint\u001b[0;34m(self, endpoint_name, config_name, wait)\u001b[0m\n\u001b[1;32m    353\u001b[0m         \"\"\"\n\u001b[1;32m    354\u001b[0m         \u001b[0mLOGGER\u001b[0m\u001b[0;34m.\u001b[0m\u001b[0minfo\u001b[0m\u001b[0;34m(\u001b[0m\u001b[0;34m'Creating endpoint with name {}'\u001b[0m\u001b[0;34m.\u001b[0m\u001b[0mformat\u001b[0m\u001b[0;34m(\u001b[0m\u001b[0mendpoint_name\u001b[0m\u001b[0;34m)\u001b[0m\u001b[0;34m)\u001b[0m\u001b[0;34m\u001b[0m\u001b[0m\n\u001b[0;32m--> 355\u001b[0;31m         \u001b[0mself\u001b[0m\u001b[0;34m.\u001b[0m\u001b[0msagemaker_client\u001b[0m\u001b[0;34m.\u001b[0m\u001b[0mcreate_endpoint\u001b[0m\u001b[0;34m(\u001b[0m\u001b[0mEndpointName\u001b[0m\u001b[0;34m=\u001b[0m\u001b[0mendpoint_name\u001b[0m\u001b[0;34m,\u001b[0m \u001b[0mEndpointConfigName\u001b[0m\u001b[0;34m=\u001b[0m\u001b[0mconfig_name\u001b[0m\u001b[0;34m)\u001b[0m\u001b[0;34m\u001b[0m\u001b[0m\n\u001b[0m\u001b[1;32m    356\u001b[0m         \u001b[0;32mif\u001b[0m \u001b[0mwait\u001b[0m\u001b[0;34m:\u001b[0m\u001b[0;34m\u001b[0m\u001b[0m\n\u001b[1;32m    357\u001b[0m             \u001b[0mself\u001b[0m\u001b[0;34m.\u001b[0m\u001b[0mwait_for_endpoint\u001b[0m\u001b[0;34m(\u001b[0m\u001b[0mendpoint_name\u001b[0m\u001b[0;34m)\u001b[0m\u001b[0;34m\u001b[0m\u001b[0m\n",
      "\u001b[0;32m~/anaconda3/envs/python3/lib/python3.6/site-packages/botocore/client.py\u001b[0m in \u001b[0;36m_api_call\u001b[0;34m(self, *args, **kwargs)\u001b[0m\n\u001b[1;32m    315\u001b[0m                     \"%s() only accepts keyword arguments.\" % py_operation_name)\n\u001b[1;32m    316\u001b[0m             \u001b[0;31m# The \"self\" in this scope is referring to the BaseClient.\u001b[0m\u001b[0;34m\u001b[0m\u001b[0;34m\u001b[0m\u001b[0m\n\u001b[0;32m--> 317\u001b[0;31m             \u001b[0;32mreturn\u001b[0m \u001b[0mself\u001b[0m\u001b[0;34m.\u001b[0m\u001b[0m_make_api_call\u001b[0m\u001b[0;34m(\u001b[0m\u001b[0moperation_name\u001b[0m\u001b[0;34m,\u001b[0m \u001b[0mkwargs\u001b[0m\u001b[0;34m)\u001b[0m\u001b[0;34m\u001b[0m\u001b[0m\n\u001b[0m\u001b[1;32m    318\u001b[0m \u001b[0;34m\u001b[0m\u001b[0m\n\u001b[1;32m    319\u001b[0m         \u001b[0m_api_call\u001b[0m\u001b[0;34m.\u001b[0m\u001b[0m__name__\u001b[0m \u001b[0;34m=\u001b[0m \u001b[0mstr\u001b[0m\u001b[0;34m(\u001b[0m\u001b[0mpy_operation_name\u001b[0m\u001b[0;34m)\u001b[0m\u001b[0;34m\u001b[0m\u001b[0m\n",
      "\u001b[0;32m~/anaconda3/envs/python3/lib/python3.6/site-packages/botocore/client.py\u001b[0m in \u001b[0;36m_make_api_call\u001b[0;34m(self, operation_name, api_params)\u001b[0m\n\u001b[1;32m    613\u001b[0m             \u001b[0merror_code\u001b[0m \u001b[0;34m=\u001b[0m \u001b[0mparsed_response\u001b[0m\u001b[0;34m.\u001b[0m\u001b[0mget\u001b[0m\u001b[0;34m(\u001b[0m\u001b[0;34m\"Error\"\u001b[0m\u001b[0;34m,\u001b[0m \u001b[0;34m{\u001b[0m\u001b[0;34m}\u001b[0m\u001b[0;34m)\u001b[0m\u001b[0;34m.\u001b[0m\u001b[0mget\u001b[0m\u001b[0;34m(\u001b[0m\u001b[0;34m\"Code\"\u001b[0m\u001b[0;34m)\u001b[0m\u001b[0;34m\u001b[0m\u001b[0m\n\u001b[1;32m    614\u001b[0m             \u001b[0merror_class\u001b[0m \u001b[0;34m=\u001b[0m \u001b[0mself\u001b[0m\u001b[0;34m.\u001b[0m\u001b[0mexceptions\u001b[0m\u001b[0;34m.\u001b[0m\u001b[0mfrom_code\u001b[0m\u001b[0;34m(\u001b[0m\u001b[0merror_code\u001b[0m\u001b[0;34m)\u001b[0m\u001b[0;34m\u001b[0m\u001b[0m\n\u001b[0;32m--> 615\u001b[0;31m             \u001b[0;32mraise\u001b[0m \u001b[0merror_class\u001b[0m\u001b[0;34m(\u001b[0m\u001b[0mparsed_response\u001b[0m\u001b[0;34m,\u001b[0m \u001b[0moperation_name\u001b[0m\u001b[0;34m)\u001b[0m\u001b[0;34m\u001b[0m\u001b[0m\n\u001b[0m\u001b[1;32m    616\u001b[0m         \u001b[0;32melse\u001b[0m\u001b[0;34m:\u001b[0m\u001b[0;34m\u001b[0m\u001b[0m\n\u001b[1;32m    617\u001b[0m             \u001b[0;32mreturn\u001b[0m \u001b[0mparsed_response\u001b[0m\u001b[0;34m\u001b[0m\u001b[0m\n",
      "\u001b[0;31mClientError\u001b[0m: An error occurred (ValidationException) when calling the CreateEndpoint operation: Cannot create already existing endpoint \"arn:aws:sagemaker:eu-west-1:475933981307:endpoint/linear-learner-2018-01-03-11-49-37-675\"."
     ]
    }
   ],
   "source": [
    "linear_predictor = linear.deploy(initial_instance_count=1, #Initial number of instances. \n",
    "                                                           #Autoscaling can increase the number of instances.\n",
    "                                 instance_type='ml.m4.xlarge') # instance type"
   ]
  },
  {
   "cell_type": "markdown",
   "metadata": {},
   "source": [
    "# Prediction\n",
    "deploy resturn a live endpoint (linear_predictor). Predictors in sagemaker accept csv and json. In this case we use json serialization."
   ]
  },
  {
   "cell_type": "code",
   "execution_count": 105,
   "metadata": {
    "collapsed": true
   },
   "outputs": [],
   "source": [
    "linear_predictor.content_type = 'text/csv'\n",
    "linear_predictor.serializer = csv_serializer\n",
    "linear_predictor.deserializer = json_deserializer"
   ]
  },
  {
   "cell_type": "code",
   "execution_count": 107,
   "metadata": {},
   "outputs": [
    {
     "name": "stdout",
     "output_type": "stream",
     "text": [
      "[48, 278, 921, 1240, 1295, 1348, 2062, 3238, 3549, 4307, 6305, 6887, 7448, 7558, 7697, 7729, 7752, 9658, 10297, 12178, 13015, 13940, 14306, 15025, 15378, 15843, 15939, 17018, 17454, 17575, 17786, 18699, 19021, 19265, 19306, 19642, 19774, 21181, 21257, 21491, 22530, 24068, 24983, 25715, 25779, 25957, 26155, 27148, 27506, 27832, 28158, 28801, 29014, 29699, 31210, 31237, 31495, 31730, 32247, 32613, 32696, 32787, 33422, 33624, 33651, 34621, 35158, 35159, 35566, 36301, 36634, 37604, 39394, 39840, 40911, 41554, 41799, 41814, 42431, 43028, 43616, 43651, 44184, 44498, 44852, 45296, 45476, 45619, 45887, 46043, 46782, 46938, 46950, 47970, 47977, 48477, 49048, 49207, 49464, 49847, 50313, 50494, 51579, 51689, 52417, 53386, 53440, 53730, 54483, 55461, 55614, 56397, 56452, 56882, 56955, 57901, 57922, 58898, 58902, 58964, 59764, 59847, 61109, 61286, 61833, 62215, 62234, 62595, 63274, 63471, 63768, 64214, 64611, 65408, 66051, 66627, 66720, 66887, 67065, 67573, 67672, 67681, 69141, 69143, 69224, 69519, 70654, 72221, 72643, 73235, 73596, 74355, 75339, 75986, 76216, 77223, 81119, 82465, 83064, 84759, 86448, 86567, 88084, 88311, 88465, 88725, 88754, 88832, 89121, 89313, 89383, 90551, 90655, 91548, 92177, 92810, 93227, 93338, 94192, 95165, 96233, 97613, 97981, 98009, 98058, 98446, 99144, 99794, 100237, 100363, 101916, 102471, 102902, 103700, 103723, 103874, 106682, 107368, 107650, 107742, 109218, 109677, 110713, 111076, 112555, 112897, 113114, 114204, 114231, 114979, 115595, 115832, 115881, 116107, 116119, 117706, 118278, 118863, 118865, 119736, 120017, 121319, 122598, 123500, 124051, 125803, 126235, 126431, 127519, 127778, 128581, 129477, 129917, 130124, 130934, 131756, 131760, 132070, 133645, 134060, 134332, 134522, 134588, 135528, 135584, 135845, 136368, 136419, 136531, 136776, 136952, 137105, 137785, 140040, 141691, 142106, 142221, 142412, 144049, 144297, 144603, 145286, 146142, 147122, 147303, 147561, 147691, 147757, 148240, 148434, 148794, 149237, 149483, 149571, 149986, 150663, 151129, 151388, 152109, 152204, 152392, 154058, 154516, 154757, 156062, 157173, 157447, 158180, 158496, 158868, 158919, 159110, 159144, 159181, 160476, 160763, 161192, 161426, 161504, 161910, 163765, 163826, 164023, 164418, 165125, 165542, 166402, 167123, 168391, 170138]\n",
      "{'predictions': [{'score': 0.0012423091102391481, 'predicted_label': 0.0}, {'score': 0.03313133865594864, 'predicted_label': 1.0}, {'score': 0.0012682321248576045, 'predicted_label': 0.0}, {'score': 0.000981143326498568, 'predicted_label': 0.0}, {'score': 0.002929388079792261, 'predicted_label': 0.0}]}\n"
     ]
    }
   ],
   "source": [
    "#since score==1 is very rare we want to make sure we can correctly predict fradulant transaction. \n",
    "#First we print a lost of all labels where score == 1, then then run a prediction\n",
    "t = []\n",
    "for i in range(len(train_label)):\n",
    "    if train_label[i] == 1:\n",
    "        t.append(i)\n",
    "        \n",
    "print(t)\n",
    "print(linear_predictor.predict(train_set[0][1294:1299]))\n"
   ]
  },
  {
   "cell_type": "code",
   "execution_count": 117,
   "metadata": {},
   "outputs": [
    {
     "name": "stdout",
     "output_type": "stream",
     "text": [
      "validation set includes: 182 non zero and 113741 items woth value zero\n"
     ]
    }
   ],
   "source": [
    "non_zero = np.count_nonzero(test_set[1])\n",
    "zero = len(test_set[1]) - non_zero\n",
    "print(\"validation set includes: {} non zero and {} items woth value zero\".format(non_zero, zero))"
   ]
  },
  {
   "cell_type": "code",
   "execution_count": 108,
   "metadata": {
    "collapsed": true
   },
   "outputs": [],
   "source": [
    "predictions = []\n",
    "for array in np.array_split(test_set[0], 100):\n",
    "    result = linear_predictor.predict(array)\n",
    "    predictions += [r['predicted_label'] for r in result['predictions']]\n",
    "\n",
    "predictions = np.array(predictions)"
   ]
  },
  {
   "cell_type": "code",
   "execution_count": 109,
   "metadata": {},
   "outputs": [
    {
     "data": {
      "text/html": [
       "<div>\n",
       "<style>\n",
       "    .dataframe thead tr:only-child th {\n",
       "        text-align: right;\n",
       "    }\n",
       "\n",
       "    .dataframe thead th {\n",
       "        text-align: left;\n",
       "    }\n",
       "\n",
       "    .dataframe tbody tr th {\n",
       "        vertical-align: top;\n",
       "    }\n",
       "</style>\n",
       "<table border=\"1\" class=\"dataframe\">\n",
       "  <thead>\n",
       "    <tr style=\"text-align: right;\">\n",
       "      <th>predictions</th>\n",
       "      <th>0.0</th>\n",
       "      <th>1.0</th>\n",
       "    </tr>\n",
       "    <tr>\n",
       "      <th>actuals</th>\n",
       "      <th></th>\n",
       "      <th></th>\n",
       "    </tr>\n",
       "  </thead>\n",
       "  <tbody>\n",
       "    <tr>\n",
       "      <th>0.0</th>\n",
       "      <td>113722</td>\n",
       "      <td>19</td>\n",
       "    </tr>\n",
       "    <tr>\n",
       "      <th>1.0</th>\n",
       "      <td>39</td>\n",
       "      <td>143</td>\n",
       "    </tr>\n",
       "  </tbody>\n",
       "</table>\n",
       "</div>"
      ],
      "text/plain": [
       "predictions     0.0  1.0\n",
       "actuals                 \n",
       "0.0          113722   19\n",
       "1.0              39  143"
      ]
     },
     "execution_count": 109,
     "metadata": {},
     "output_type": "execute_result"
    }
   ],
   "source": [
    "import pandas as pd\n",
    "\n",
    "pd.crosstab(test_set[1], predictions, rownames=['actuals'], colnames=['predictions'])"
   ]
  },
  {
   "cell_type": "markdown",
   "metadata": {},
   "source": [
    "The confusion matrix above indicates that:\n",
    "- of 162 fraudulant cases we detected 143 correcly\n",
    "- 39 times a non-fraudulant transaction has been flagges as fraud from a total of 113761 transactions.\n"
   ]
  },
  {
   "cell_type": "markdown",
   "metadata": {},
   "source": [
    "# (optional) Delete the endpoint\n",
    "f you're ready to be done with this notebook, please run the delete_endpoint line in the cell below. This will remove the hosted endpoint you created and avoid any charges from a stray instance being left on."
   ]
  },
  {
   "cell_type": "code",
   "execution_count": 121,
   "metadata": {
    "collapsed": true
   },
   "outputs": [],
   "source": [
    "#sagemaker.Session().delete_endpoint(linear_predictor.endpoint)"
   ]
  }
 ],
 "metadata": {
  "kernelspec": {
   "display_name": "conda_python3",
   "language": "python",
   "name": "conda_python3"
  },
  "language_info": {
   "codemirror_mode": {
    "name": "ipython",
    "version": 3
   },
   "file_extension": ".py",
   "mimetype": "text/x-python",
   "name": "python",
   "nbconvert_exporter": "python",
   "pygments_lexer": "ipython3",
   "version": "3.6.2"
  }
 },
 "nbformat": 4,
 "nbformat_minor": 2
}
